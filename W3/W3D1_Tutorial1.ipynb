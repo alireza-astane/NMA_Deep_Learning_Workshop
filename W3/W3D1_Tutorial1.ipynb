{
 "cells": [
  {
   "cell_type": "markdown",
   "metadata": {
    "colab_type": "text",
    "execution": {},
    "id": "view-in-github"
   },
   "source": [
    "<a href=\"https://colab.research.google.com/github/NeuromatchAcademy/course-content-dl/blob/main/tutorials/W3D1_TimeSeriesAndNaturalLanguageProcessing/student/W3D1_Tutorial1.ipynb\" target=\"_blank\"><img alt=\"Open In Colab\" src=\"https://colab.research.google.com/assets/colab-badge.svg\"/></a>   <a href=\"https://kaggle.com/kernels/welcome?src=https://raw.githubusercontent.com/NeuromatchAcademy/course-content-dl/main/tutorials/W3D1_TimeSeriesAndNaturalLanguageProcessing/student/W3D1_Tutorial1.ipynb\" target=\"_blank\"><img alt=\"Open in Kaggle\" src=\"https://kaggle.com/static/images/open-in-kaggle.svg\"/></a>"
   ]
  },
  {
   "cell_type": "markdown",
   "metadata": {
    "execution": {}
   },
   "source": [
    "# Tutorial 1: Introduction to processing time series\n",
    "\n",
    "**Week 3, Day 1: Time Series And Natural Language Processing**\n",
    "\n",
    "**By Neuromatch Academy**\n",
    "\n",
    "__Content creators:__ Lyle Ungar, Kelson Shilling-Scrivo, Alish Dipani\n",
    "\n",
    "__Content reviewers:__ Kelson Shilling-Scrivo\n",
    "\n",
    "__Content editors:__ Gagana B, Spiros Chavlis, Kelson Shilling-Scrivo\n",
    "\n",
    "__Production editors:__ Gagana B, Spiros Chavlis\n",
    "\n",
    "<br>\n",
    "\n",
    "_Based on Content from: Anushree Hede, Pooja Consul, Ann-Katrin Reuel_"
   ]
  },
  {
   "cell_type": "markdown",
   "metadata": {
    "execution": {}
   },
   "source": [
    "----\n",
    "# Tutorial objectives\n",
    "\n",
    "Before we explore how Recurrent Neural Networks (RNNs) excel at modeling sequences, we will explore other ways to model sequences, encode the text, and make meaningful measurements using such encodings and embeddings."
   ]
  },
  {
   "cell_type": "markdown",
   "metadata": {},
   "source": [
    "\n"
   ]
  },
  {
   "cell_type": "code",
<<<<<<< HEAD
   "execution_count": 1,
=======
   "execution_count": null,
>>>>>>> eb2ec683c55123c5e0ee55a184cc40d1f272e801
   "metadata": {
    "cellView": "form",
    "execution": {},
    "tags": [
     "remove-input"
    ]
   },
<<<<<<< HEAD
   "outputs": [
    {
     "data": {
      "application/vnd.jupyter.widget-view+json": {
       "model_id": "4b942b52f9734c9a869c679d71ec226a",
       "version_major": 2,
       "version_minor": 0
      },
      "text/plain": [
       "Output()"
      ]
     },
     "metadata": {},
     "output_type": "display_data"
    }
   ],
=======
   "outputs": [],
>>>>>>> eb2ec683c55123c5e0ee55a184cc40d1f272e801
   "source": [
    "# @markdown\n",
    "from IPython.display import IFrame\n",
    "from ipywidgets import widgets\n",
    "out = widgets.Output()\n",
    "with out:\n",
    "    print(f\"If you want to download the slides: https://osf.io/download/n263c/\")\n",
    "    display(IFrame(src=f\"https://mfr.ca-1.osf.io/render?url=https://osf.io/n263c/?direct%26mode=render%26action=download%26mode=render\", width=730, height=410))\n",
    "display(out)"
   ]
  },
  {
   "cell_type": "markdown",
   "metadata": {
    "execution": {}
   },
   "source": [
    "---\n",
    "# Setup"
   ]
  },
  {
   "cell_type": "markdown",
   "metadata": {},
   "source": [
    "##  Install dependencies\n"
   ]
  },
  {
   "cell_type": "markdown",
   "metadata": {},
   "source": [
    " There may be *errors* and/or *warnings* reported during the installation. However, they are to be ignored.\n"
   ]
  },
  {
   "cell_type": "code",
<<<<<<< HEAD
   "execution_count": 2,
=======
   "execution_count": null,
>>>>>>> eb2ec683c55123c5e0ee55a184cc40d1f272e801
   "metadata": {
    "cellView": "form",
    "execution": {},
    "tags": [
     "hide-input"
    ]
   },
   "outputs": [],
   "source": [
    "# @title Install dependencies\n",
    "\n",
    "# @markdown There may be *errors* and/or *warnings* reported during the installation. However, they are to be ignored.\n",
    "!pip install --upgrade gensim --quiet\n",
    "!pip install nltk --quiet\n",
    "!pip install python-Levenshtein --quiet\n",
    "!pip install portalocker>=2.0.0 --quiet"
   ]
  },
  {
   "cell_type": "markdown",
   "metadata": {},
   "source": [
    "##  Install and import feedback gadget\n"
   ]
  },
  {
   "cell_type": "code",
<<<<<<< HEAD
   "execution_count": 3,
=======
   "execution_count": null,
>>>>>>> eb2ec683c55123c5e0ee55a184cc40d1f272e801
   "metadata": {
    "cellView": "form",
    "execution": {},
    "tags": [
     "hide-input"
    ]
   },
   "outputs": [],
   "source": [
    "# @title Install and import feedback gadget\n",
    "\n",
    "!pip3 install vibecheck datatops --quiet\n",
    "\n",
    "from vibecheck import DatatopsContentReviewContainer\n",
    "def content_review(notebook_section: str):\n",
    "    return DatatopsContentReviewContainer(\n",
    "        \"\",  # No text prompt\n",
    "        notebook_section,\n",
    "        {\n",
    "            \"url\": \"https://pmyvdlilci.execute-api.us-east-1.amazonaws.com/klab\",\n",
    "            \"name\": \"neuromatch_dl\",\n",
    "            \"user_key\": \"f379rz8y\",\n",
    "        },\n",
    "    ).render()\n",
    "\n",
    "\n",
    "feedback_prefix = \"W3D1_T1\""
   ]
  },
  {
   "cell_type": "markdown",
   "metadata": {},
   "source": [
    "##  Install fastText\n"
   ]
  },
  {
   "cell_type": "markdown",
   "metadata": {},
   "source": [
    " If you want to see the original code, go to [GitHub repo](https://github.com/facebookresearch/fastText.git).\n"
   ]
  },
  {
   "cell_type": "code",
<<<<<<< HEAD
   "execution_count": 4,
   "metadata": {},
   "outputs": [],
   "source": [
    "!pip install git+https://github.com/facebookresearch/fastText.git --quiet"
   ]
  },
  {
   "cell_type": "code",
=======
>>>>>>> eb2ec683c55123c5e0ee55a184cc40d1f272e801
   "execution_count": null,
   "metadata": {
    "cellView": "form",
    "execution": {},
    "tags": [
     "hide-input"
    ]
   },
   "outputs": [],
   "source": [
    "# @title Install fastText\n",
    "# @markdown If you want to see the original code, go to [GitHub repo](https://github.com/facebookresearch/fastText.git).\n",
    "\n",
    "# !pip install git+https://github.com/facebookresearch/fastText.git --quiet\n",
    "\n",
    "import os, zipfile, requests\n",
    "\n",
    "url = \"https://osf.io/vkuz7/download\"\n",
    "fname = \"fastText-main.zip\"\n",
    "\n",
    "print('Downloading Started...')\n",
    "# Downloading the file by sending the request to the URL\n",
    "r = requests.get(url, stream=True)\n",
    "\n",
    "# Writing the file to the local file system\n",
    "with open(fname, 'wb') as f:\n",
    "  f.write(r.content)\n",
    "print('Downloading Completed.')\n",
    "\n",
    "# opening the zip file in READ mode\n",
    "with zipfile.ZipFile(fname, 'r') as zipObj:\n",
    "  # extracting all the files\n",
    "  print('Extracting all the files now...')\n",
    "  zipObj.extractall()\n",
    "  print('Done!')\n",
    "  os.remove(fname)\n",
    "\n",
    "# Install the package\n",
    "!pip install fastText-main/ --quiet"
   ]
  },
  {
   "cell_type": "code",
<<<<<<< HEAD
   "execution_count": 5,
=======
   "execution_count": null,
>>>>>>> eb2ec683c55123c5e0ee55a184cc40d1f272e801
   "metadata": {
    "execution": {}
   },
   "outputs": [],
   "source": [
    "# Imports\n",
    "import time\n",
    "import nltk\n",
    "import fasttext\n",
    "import numpy as np\n",
    "import matplotlib.pyplot as plt\n",
    "from collections import Counter\n",
    "\n",
    "from nltk.corpus import brown\n",
    "from nltk.tokenize import word_tokenize\n",
    "from gensim.models import Word2Vec\n",
    "\n",
    "import torch.nn as nn\n",
    "from torch.nn import functional as F\n",
    "from torch.utils.data import DataLoader\n",
    "from torch.nn.utils.rnn import pad_sequence\n",
    "\n",
    "from torchtext import datasets\n",
    "from torchtext.vocab import FastText\n",
    "from torchtext.vocab import vocab as Vocab\n",
    "from torchtext.datasets import IMDB, AG_NEWS\n",
    "from torchtext.data.utils import get_tokenizer\n",
    "from torch.utils.data.dataset import random_split\n",
    "from torchtext.vocab import build_vocab_from_iterator\n",
    "from torchtext.data.functional import to_map_style_dataset"
   ]
  },
  {
   "cell_type": "markdown",
   "metadata": {},
   "source": [
    "##  Figure Settings\n"
   ]
  },
  {
   "cell_type": "code",
<<<<<<< HEAD
   "execution_count": 6,
=======
   "execution_count": null,
>>>>>>> eb2ec683c55123c5e0ee55a184cc40d1f272e801
   "metadata": {
    "cellView": "form",
    "execution": {},
    "tags": [
     "hide-input"
    ]
   },
   "outputs": [],
   "source": [
    "# @title Figure Settings\n",
    "import logging\n",
    "logging.getLogger('matplotlib.font_manager').disabled = True\n",
    "\n",
    "import ipywidgets as widgets\n",
    "%matplotlib inline\n",
    "%config InlineBackend.figure_format = 'retina'\n",
    "plt.style.use(\"https://raw.githubusercontent.com/NeuromatchAcademy/content-creation/main/nma.mplstyle\")"
   ]
  },
  {
   "cell_type": "markdown",
   "metadata": {},
   "source": [
    "##   Load Dataset from `nltk`\n"
   ]
  },
  {
   "cell_type": "code",
<<<<<<< HEAD
   "execution_count": 7,
=======
   "execution_count": null,
>>>>>>> eb2ec683c55123c5e0ee55a184cc40d1f272e801
   "metadata": {
    "cellView": "form",
    "execution": {},
    "tags": [
     "hide-input"
    ]
   },
<<<<<<< HEAD
   "outputs": [
    {
     "name": "stderr",
     "output_type": "stream",
     "text": [
      "[nltk_data] Downloading package punkt to /home/alireza-\n",
      "[nltk_data]     astane/nltk_data...\n",
      "[nltk_data]   Package punkt is already up-to-date!\n",
      "[nltk_data] Downloading package brown to /home/alireza-\n",
      "[nltk_data]     astane/nltk_data...\n",
      "[nltk_data]   Package brown is already up-to-date!\n"
     ]
    },
    {
     "data": {
      "text/plain": [
       "True"
      ]
     },
     "execution_count": 7,
     "metadata": {},
     "output_type": "execute_result"
    }
   ],
=======
   "outputs": [],
>>>>>>> eb2ec683c55123c5e0ee55a184cc40d1f272e801
   "source": [
    "# @title  Load Dataset from `nltk`\n",
    "# No critical warnings, so we suppress it\n",
    "import warnings\n",
    "warnings.simplefilter(\"ignore\")\n",
    "\n",
    "nltk.download('punkt')\n",
    "nltk.download('brown')"
   ]
  },
  {
   "cell_type": "markdown",
   "metadata": {},
   "source": [
    "##  Helper functions\n"
   ]
  },
  {
   "cell_type": "code",
<<<<<<< HEAD
   "execution_count": 8,
=======
   "execution_count": null,
>>>>>>> eb2ec683c55123c5e0ee55a184cc40d1f272e801
   "metadata": {
    "cellView": "form",
    "execution": {},
    "tags": [
     "hide-input"
    ]
   },
   "outputs": [],
   "source": [
    "# @title Helper functions\n",
    "import requests\n",
    "\n",
    "\n",
    "def download_file_from_google_drive(id, destination):\n",
    "  URL = \"https://docs.google.com/uc?export=download\"\n",
    "  session = requests.Session()\n",
    "  response = session.get(URL, params={'id': id}, stream=True)\n",
    "  token = get_confirm_token(response)\n",
    "\n",
    "  if token:\n",
    "    params = {'id': id, 'confirm': token}\n",
    "    response = session.get(URL, params=params, stream=True)\n",
    "\n",
    "  save_response_content(response, destination)\n",
    "\n",
    "\n",
    "def get_confirm_token(response):\n",
    "  for key, value in response.cookies.items():\n",
    "    if key.startswith('download_warning'):\n",
    "      return value\n",
    "\n",
    "  return None\n",
    "\n",
    "\n",
    "def save_response_content(response, destination):\n",
    "  CHUNK_SIZE = 32768\n",
    "  with open(destination, \"wb\") as f:\n",
    "    for chunk in response.iter_content(CHUNK_SIZE):\n",
    "      if chunk:  # filter out keep-alive new chunks\n",
    "        f.write(chunk)"
   ]
  },
  {
   "cell_type": "markdown",
   "metadata": {},
   "source": [
    "##  Set random seed\n"
   ]
  },
  {
   "cell_type": "markdown",
   "metadata": {},
   "source": [
    " Executing `set_seed(seed=seed)` you are setting the seed\n"
   ]
  },
  {
   "cell_type": "code",
<<<<<<< HEAD
   "execution_count": 9,
=======
   "execution_count": null,
>>>>>>> eb2ec683c55123c5e0ee55a184cc40d1f272e801
   "metadata": {
    "cellView": "form",
    "execution": {},
    "tags": [
     "hide-input"
    ]
   },
   "outputs": [],
   "source": [
    "# @title Set random seed\n",
    "\n",
    "# @markdown Executing `set_seed(seed=seed)` you are setting the seed\n",
    "\n",
    "# For DL its critical to set the random seed so that students can have a\n",
    "# baseline to compare their results to expected results.\n",
    "# Read more here: https://pytorch.org/docs/stable/notes/randomness.html\n",
    "\n",
    "# Call `set_seed` function in the exercises to ensure reproducibility.\n",
    "import random\n",
    "import torch\n",
    "\n",
    "def set_seed(seed=None, seed_torch=True):\n",
    "  \"\"\"\n",
    "  Function that controls randomness.\n",
    "  NumPy and random modules must be imported.\n",
    "\n",
    "  Args:\n",
    "    seed : Integer\n",
    "      A non-negative integer that defines the random state. Default is `None`.\n",
    "    seed_torch : Boolean\n",
    "      If `True` sets the random seed for pytorch tensors, so pytorch module\n",
    "      must be imported. Default is `True`.\n",
    "\n",
    "  Returns:\n",
    "    Nothing.\n",
    "  \"\"\"\n",
    "  if seed is None:\n",
    "    seed = np.random.choice(2 ** 32)\n",
    "  random.seed(seed)\n",
    "  np.random.seed(seed)\n",
    "  if seed_torch:\n",
    "    torch.manual_seed(seed)\n",
    "    torch.cuda.manual_seed_all(seed)\n",
    "    torch.cuda.manual_seed(seed)\n",
    "    torch.backends.cudnn.benchmark = False\n",
    "    torch.backends.cudnn.deterministic = True\n",
    "\n",
    "  print(f'Random seed {seed} has been set.')\n",
    "\n",
    "# In case that `DataLoader` is used\n",
    "def seed_worker(worker_id):\n",
    "  \"\"\"\n",
    "  DataLoader will reseed workers following randomness in\n",
    "  multi-process data loading algorithm.\n",
    "\n",
    "  Args:\n",
    "    worker_id: integer\n",
    "      ID of subprocess to seed. 0 means that\n",
    "      the data will be loaded in the main process\n",
    "      Refer: https://pytorch.org/docs/stable/data.html#data-loading-randomness for more details\n",
    "\n",
    "  Returns:\n",
    "    Nothing\n",
    "  \"\"\"\n",
    "  worker_seed = torch.initial_seed() % 2**32\n",
    "  np.random.seed(worker_seed)\n",
    "  random.seed(worker_seed)"
   ]
  },
  {
   "cell_type": "markdown",
   "metadata": {},
   "source": [
    "##  Set device (GPU or CPU). Execute `set_device()`\n"
   ]
  },
  {
   "cell_type": "code",
<<<<<<< HEAD
   "execution_count": 10,
=======
   "execution_count": null,
>>>>>>> eb2ec683c55123c5e0ee55a184cc40d1f272e801
   "metadata": {
    "cellView": "form",
    "execution": {},
    "tags": [
     "hide-input"
    ]
   },
   "outputs": [],
   "source": [
    "# @title Set device (GPU or CPU). Execute `set_device()`\n",
    "\n",
    "# Inform the user if the notebook uses GPU or CPU.\n",
    "\n",
    "def set_device():\n",
    "  \"\"\"\n",
    "  Set the device. CUDA if available, CPU otherwise\n",
    "\n",
    "  Args:\n",
    "    None\n",
    "\n",
    "  Returns:\n",
    "    Nothing\n",
    "  \"\"\"\n",
    "  device = \"cuda\" if torch.cuda.is_available() else \"cpu\"\n",
    "  if device != \"cuda\":\n",
    "    print(\"WARNING: For this notebook to perform best, \"\n",
    "        \"if possible, in the menu under `Runtime` -> \"\n",
    "        \"`Change runtime type.`  select `GPU` \")\n",
    "  else:\n",
    "    print(\"GPU is enabled in this notebook.\")\n",
    "\n",
    "  return device"
   ]
  },
  {
   "cell_type": "code",
<<<<<<< HEAD
   "execution_count": 11,
   "metadata": {
    "execution": {}
   },
   "outputs": [
    {
     "name": "stdout",
     "output_type": "stream",
     "text": [
      "GPU is enabled in this notebook.\n",
      "Random seed 2021 has been set.\n"
     ]
    }
   ],
=======
   "execution_count": null,
   "metadata": {
    "execution": {}
   },
   "outputs": [],
>>>>>>> eb2ec683c55123c5e0ee55a184cc40d1f272e801
   "source": [
    "DEVICE = set_device()\n",
    "SEED = 2021\n",
    "set_seed(seed=SEED)"
   ]
  },
  {
   "cell_type": "markdown",
   "metadata": {
    "execution": {}
   },
   "source": [
    "---\n",
    "# Section 1: Intro: What time series are there?\n",
    "\n",
    "*Time estimate: 20 mins*"
   ]
  },
  {
   "cell_type": "markdown",
   "metadata": {},
   "source": [
    "##  Video 1: Time Series and NLP\n"
   ]
  },
  {
   "cell_type": "code",
<<<<<<< HEAD
   "execution_count": 12,
=======
   "execution_count": null,
>>>>>>> eb2ec683c55123c5e0ee55a184cc40d1f272e801
   "metadata": {
    "cellView": "form",
    "execution": {},
    "tags": [
     "remove-input"
    ]
   },
<<<<<<< HEAD
   "outputs": [
    {
     "data": {
      "application/vnd.jupyter.widget-view+json": {
       "model_id": "aebd6eb0a4b74ce58b1979b0d4795774",
       "version_major": 2,
       "version_minor": 0
      },
      "text/plain": [
       "Tab(children=(Output(), Output()), selected_index=0, titles=('Youtube', 'Bilibili'))"
      ]
     },
     "metadata": {},
     "output_type": "display_data"
    }
   ],
=======
   "outputs": [],
>>>>>>> eb2ec683c55123c5e0ee55a184cc40d1f272e801
   "source": [
    "# @title Video 1: Time Series and NLP\n",
    "from ipywidgets import widgets\n",
    "from IPython.display import YouTubeVideo\n",
    "from IPython.display import IFrame\n",
    "from IPython.display import display\n",
    "\n",
    "\n",
    "class PlayVideo(IFrame):\n",
    "  def __init__(self, id, source, page=1, width=400, height=300, **kwargs):\n",
    "    self.id = id\n",
    "    if source == 'Bilibili':\n",
    "      src = f'https://player.bilibili.com/player.html?bvid={id}&page={page}'\n",
    "    elif source == 'Osf':\n",
    "      src = f'https://mfr.ca-1.osf.io/render?url=https://osf.io/download/{id}/?direct%26mode=render'\n",
    "    super(PlayVideo, self).__init__(src, width, height, **kwargs)\n",
    "\n",
    "\n",
    "def display_videos(video_ids, W=400, H=300, fs=1):\n",
    "  tab_contents = []\n",
    "  for i, video_id in enumerate(video_ids):\n",
    "    out = widgets.Output()\n",
    "    with out:\n",
    "      if video_ids[i][0] == 'Youtube':\n",
    "        video = YouTubeVideo(id=video_ids[i][1], width=W,\n",
    "                             height=H, fs=fs, rel=0)\n",
    "        print(f'Video available at https://youtube.com/watch?v={video.id}')\n",
    "      else:\n",
    "        video = PlayVideo(id=video_ids[i][1], source=video_ids[i][0], width=W,\n",
    "                          height=H, fs=fs, autoplay=False)\n",
    "        if video_ids[i][0] == 'Bilibili':\n",
    "          print(f'Video available at https://www.bilibili.com/video/{video.id}')\n",
    "        elif video_ids[i][0] == 'Osf':\n",
    "          print(f'Video available at https://osf.io/{video.id}')\n",
    "      display(video)\n",
    "    tab_contents.append(out)\n",
    "  return tab_contents\n",
    "\n",
    "\n",
    "video_ids = [('Youtube', 'W4RTRXt7pO0'), ('Bilibili', 'BV1E94y117Nf')]\n",
    "tab_contents = display_videos(video_ids, W=730, H=410)\n",
    "tabs = widgets.Tab()\n",
    "tabs.children = tab_contents\n",
    "for i in range(len(tab_contents)):\n",
    "  tabs.set_title(i, video_ids[i][0])\n",
    "display(tabs)"
   ]
  },
  {
   "cell_type": "markdown",
   "metadata": {},
   "source": [
    "##  Submit your feedback\n"
   ]
  },
  {
   "cell_type": "code",
<<<<<<< HEAD
   "execution_count": 13,
=======
   "execution_count": null,
>>>>>>> eb2ec683c55123c5e0ee55a184cc40d1f272e801
   "metadata": {
    "cellView": "form",
    "execution": {},
    "tags": [
     "hide-input"
    ]
   },
<<<<<<< HEAD
   "outputs": [
    {
     "data": {
      "application/vnd.jupyter.widget-view+json": {
       "model_id": "52a77a39c4fd47a0afb08b0d883547d1",
       "version_major": 2,
       "version_minor": 0
      },
      "text/plain": [
       "VBox(children=(VBox(children=(HBox(children=(Button(description='🙂', layout=Layout(height='auto', padding='0.5…"
      ]
     },
     "metadata": {},
     "output_type": "display_data"
    }
   ],
=======
   "outputs": [],
>>>>>>> eb2ec683c55123c5e0ee55a184cc40d1f272e801
   "source": [
    "# @title Submit your feedback\n",
    "content_review(f\"{feedback_prefix}_Time_Series_and_NLP_Video\")"
   ]
  },
  {
   "cell_type": "markdown",
   "metadata": {},
   "source": [
    "##  Video 2: What is NLP?\n"
   ]
  },
  {
   "cell_type": "code",
<<<<<<< HEAD
   "execution_count": 14,
=======
   "execution_count": null,
>>>>>>> eb2ec683c55123c5e0ee55a184cc40d1f272e801
   "metadata": {
    "cellView": "form",
    "execution": {},
    "tags": [
     "remove-input"
    ]
   },
<<<<<<< HEAD
   "outputs": [
    {
     "data": {
      "application/vnd.jupyter.widget-view+json": {
       "model_id": "675a387e147d483689197ad2bfda6319",
       "version_major": 2,
       "version_minor": 0
      },
      "text/plain": [
       "Tab(children=(Output(), Output()), selected_index=0, titles=('Youtube', 'Bilibili'))"
      ]
     },
     "metadata": {},
     "output_type": "display_data"
    }
   ],
=======
   "outputs": [],
>>>>>>> eb2ec683c55123c5e0ee55a184cc40d1f272e801
   "source": [
    "# @title Video 2: What is NLP?\n",
    "from ipywidgets import widgets\n",
    "from IPython.display import YouTubeVideo\n",
    "from IPython.display import IFrame\n",
    "from IPython.display import display\n",
    "\n",
    "\n",
    "class PlayVideo(IFrame):\n",
    "  def __init__(self, id, source, page=1, width=400, height=300, **kwargs):\n",
    "    self.id = id\n",
    "    if source == 'Bilibili':\n",
    "      src = f'https://player.bilibili.com/player.html?bvid={id}&page={page}'\n",
    "    elif source == 'Osf':\n",
    "      src = f'https://mfr.ca-1.osf.io/render?url=https://osf.io/download/{id}/?direct%26mode=render'\n",
    "    super(PlayVideo, self).__init__(src, width, height, **kwargs)\n",
    "\n",
    "\n",
    "def display_videos(video_ids, W=400, H=300, fs=1):\n",
    "  tab_contents = []\n",
    "  for i, video_id in enumerate(video_ids):\n",
    "    out = widgets.Output()\n",
    "    with out:\n",
    "      if video_ids[i][0] == 'Youtube':\n",
    "        video = YouTubeVideo(id=video_ids[i][1], width=W,\n",
    "                             height=H, fs=fs, rel=0)\n",
    "        print(f'Video available at https://youtube.com/watch?v={video.id}')\n",
    "      else:\n",
    "        video = PlayVideo(id=video_ids[i][1], source=video_ids[i][0], width=W,\n",
    "                          height=H, fs=fs, autoplay=False)\n",
    "        if video_ids[i][0] == 'Bilibili':\n",
    "          print(f'Video available at https://www.bilibili.com/video/{video.id}')\n",
    "        elif video_ids[i][0] == 'Osf':\n",
    "          print(f'Video available at https://osf.io/{video.id}')\n",
    "      display(video)\n",
    "    tab_contents.append(out)\n",
    "  return tab_contents\n",
    "\n",
    "\n",
    "video_ids = [('Youtube', 'Q-PGZyaBQVk'), ('Bilibili', 'BV18v4y1M7GF')]\n",
    "tab_contents = display_videos(video_ids, W=730, H=410)\n",
    "tabs = widgets.Tab()\n",
    "tabs.children = tab_contents\n",
    "for i in range(len(tab_contents)):\n",
    "  tabs.set_title(i, video_ids[i][0])\n",
    "display(tabs)"
   ]
  },
  {
   "cell_type": "markdown",
   "metadata": {},
   "source": [
    "##  Submit your feedback\n"
   ]
  },
  {
   "cell_type": "code",
<<<<<<< HEAD
   "execution_count": 15,
=======
   "execution_count": null,
>>>>>>> eb2ec683c55123c5e0ee55a184cc40d1f272e801
   "metadata": {
    "cellView": "form",
    "execution": {},
    "tags": [
     "hide-input"
    ]
   },
<<<<<<< HEAD
   "outputs": [
    {
     "data": {
      "application/vnd.jupyter.widget-view+json": {
       "model_id": "d4cee39943a54bb9a3e4bdc8d58de037",
       "version_major": 2,
       "version_minor": 0
      },
      "text/plain": [
       "VBox(children=(VBox(children=(HBox(children=(Button(description='🙂', layout=Layout(height='auto', padding='0.5…"
      ]
     },
     "metadata": {},
     "output_type": "display_data"
    }
   ],
=======
   "outputs": [],
>>>>>>> eb2ec683c55123c5e0ee55a184cc40d1f272e801
   "source": [
    "# @title Submit your feedback\n",
    "content_review(f\"{feedback_prefix}_What_is_NLP_Video\")"
   ]
  },
  {
   "cell_type": "markdown",
   "metadata": {
    "execution": {}
   },
   "source": [
    "---\n",
    "# Section 2: Embeddings\n",
    "\n",
    "*Time estimate: 50 mins*"
   ]
  },
  {
   "cell_type": "markdown",
   "metadata": {},
   "source": [
    "##  Video 3: NLP Tokenization\n"
   ]
  },
  {
   "cell_type": "code",
<<<<<<< HEAD
   "execution_count": 16,
=======
   "execution_count": null,
>>>>>>> eb2ec683c55123c5e0ee55a184cc40d1f272e801
   "metadata": {
    "cellView": "form",
    "execution": {},
    "tags": [
     "remove-input"
    ]
   },
<<<<<<< HEAD
   "outputs": [
    {
     "data": {
      "application/vnd.jupyter.widget-view+json": {
       "model_id": "7827a4500086486cb8faa68ebb51250d",
       "version_major": 2,
       "version_minor": 0
      },
      "text/plain": [
       "Tab(children=(Output(), Output()), selected_index=0, titles=('Youtube', 'Bilibili'))"
      ]
     },
     "metadata": {},
     "output_type": "display_data"
    }
   ],
=======
   "outputs": [],
>>>>>>> eb2ec683c55123c5e0ee55a184cc40d1f272e801
   "source": [
    "# @title Video 3: NLP Tokenization\n",
    "from ipywidgets import widgets\n",
    "from IPython.display import YouTubeVideo\n",
    "from IPython.display import IFrame\n",
    "from IPython.display import display\n",
    "\n",
    "\n",
    "class PlayVideo(IFrame):\n",
    "  def __init__(self, id, source, page=1, width=400, height=300, **kwargs):\n",
    "    self.id = id\n",
    "    if source == 'Bilibili':\n",
    "      src = f'https://player.bilibili.com/player.html?bvid={id}&page={page}'\n",
    "    elif source == 'Osf':\n",
    "      src = f'https://mfr.ca-1.osf.io/render?url=https://osf.io/download/{id}/?direct%26mode=render'\n",
    "    super(PlayVideo, self).__init__(src, width, height, **kwargs)\n",
    "\n",
    "\n",
    "def display_videos(video_ids, W=400, H=300, fs=1):\n",
    "  tab_contents = []\n",
    "  for i, video_id in enumerate(video_ids):\n",
    "    out = widgets.Output()\n",
    "    with out:\n",
    "      if video_ids[i][0] == 'Youtube':\n",
    "        video = YouTubeVideo(id=video_ids[i][1], width=W,\n",
    "                             height=H, fs=fs, rel=0)\n",
    "        print(f'Video available at https://youtube.com/watch?v={video.id}')\n",
    "      else:\n",
    "        video = PlayVideo(id=video_ids[i][1], source=video_ids[i][0], width=W,\n",
    "                          height=H, fs=fs, autoplay=False)\n",
    "        if video_ids[i][0] == 'Bilibili':\n",
    "          print(f'Video available at https://www.bilibili.com/video/{video.id}')\n",
    "        elif video_ids[i][0] == 'Osf':\n",
    "          print(f'Video available at https://osf.io/{video.id}')\n",
    "      display(video)\n",
    "    tab_contents.append(out)\n",
    "  return tab_contents\n",
    "\n",
    "\n",
    "video_ids = [('Youtube', 'GLreyXm4rg8'), ('Bilibili', 'BV1ov4y1M7bQ')]\n",
    "tab_contents = display_videos(video_ids, W=730, H=410)\n",
    "tabs = widgets.Tab()\n",
    "tabs.children = tab_contents\n",
    "for i in range(len(tab_contents)):\n",
    "  tabs.set_title(i, video_ids[i][0])\n",
    "display(tabs)"
   ]
  },
  {
   "cell_type": "markdown",
   "metadata": {},
   "source": [
    "##  Submit your feedback\n"
   ]
  },
  {
   "cell_type": "code",
<<<<<<< HEAD
   "execution_count": 17,
=======
   "execution_count": null,
>>>>>>> eb2ec683c55123c5e0ee55a184cc40d1f272e801
   "metadata": {
    "cellView": "form",
    "execution": {},
    "tags": [
     "hide-input"
    ]
   },
<<<<<<< HEAD
   "outputs": [
    {
     "data": {
      "application/vnd.jupyter.widget-view+json": {
       "model_id": "e2a00e855049494f9b86b602a8cf0321",
       "version_major": 2,
       "version_minor": 0
      },
      "text/plain": [
       "VBox(children=(VBox(children=(HBox(children=(Button(description='🙂', layout=Layout(height='auto', padding='0.5…"
      ]
     },
     "metadata": {},
     "output_type": "display_data"
    }
   ],
=======
   "outputs": [],
>>>>>>> eb2ec683c55123c5e0ee55a184cc40d1f272e801
   "source": [
    "# @title Submit your feedback\n",
    "content_review(f\"{feedback_prefix}_NLP_tokenization_Video\")"
   ]
  },
  {
   "cell_type": "markdown",
   "metadata": {
    "execution": {}
   },
   "source": [
    "## Section 2.1: Introduction\n",
    "\n",
    "[Word2vec](https://rare-technologies.com/word2vec-tutorial/) is a group of related models that produce word embeddings. These models are shallow, two-layer neural networks trained to reconstruct linguistic contexts of words. Word2vec takes a large corpus of text as input and produces a vector space, with each unique word in the corpus being assigned a corresponding vector in the space."
   ]
  },
  {
   "cell_type": "markdown",
   "metadata": {
    "execution": {}
   },
   "source": [
    "### Creating Word Embeddings\n",
    "\n",
    "We will create embeddings for a subset of categories in [Brown corpus](https://www1.essex.ac.uk/linguistics/external/clmt/w3c/corpus_ling/content/corpora/list/private/brown/brown.html). To achieve this task we will use [gensim](https://radimrehurek.com/gensim/) library to create word2vec embeddings. Gensim’s word2vec expects a sequence of sentences as its input. Each sentence is a list of words.\n",
    "\n",
    "Calling Word2Vec(sentences, `iter=1`) will run two passes over the sentences iterator (generally, `iter+1` passes). The first pass collects words and their frequencies to build an internal dictionary tree structure. The second and subsequent passes train the neural model.\n",
    "Word2vec accepts several parameters that affect both training speed and quality.\n",
    "\n",
    "One of them is for pruning the internal dictionary. Words that appear only once or twice in a billion-word corpus are probably uninteresting typos and garbage. In addition, there are not enough data to make any meaningful training on those words, so it’s best to ignore them:\n",
    "\n",
    "```python\n",
    "model = Word2Vec(sentences, min_count=10)  # default value is 5\n",
    "```\n",
    "\n",
    "A reasonable value for `min_count` is bewteen 0-100, depending on the size of your dataset.\n",
    "\n",
    "Another parameter is the `size` of the NN layers, which correspond to the “degrees” of freedom the training algorithm has:\n",
    "\n",
    "```python\n",
    "model = Word2Vec(sentences, size=200)  # default value is 100\n",
    "```\n",
    "\n",
    "Bigger `size` values require more training data but can lead to better (more accurate) models. Reasonable values are in the tens to hundreds.\n",
    "\n",
    "The last of the major parameters (full list [here](https://radimrehurek.com/gensim/models/word2vec.html#gensim.models.word2vec.Word2Vec)) is for training parallelization, to speed up training:\n",
    "\n",
    "```python\n",
    "model = Word2Vec(sentences, workers=4)  # default = 1 worker = no parallelization\n",
    "```"
   ]
  },
  {
   "cell_type": "code",
<<<<<<< HEAD
   "execution_count": 18,
=======
   "execution_count": null,
>>>>>>> eb2ec683c55123c5e0ee55a184cc40d1f272e801
   "metadata": {
    "execution": {}
   },
   "outputs": [],
   "source": [
    "# Categories used for the Brown corpus\n",
    "category = ['editorial', 'fiction', 'government', 'mystery', 'news', 'religion',\n",
    "            'reviews', 'romance', 'science_fiction']"
   ]
  },
  {
   "cell_type": "markdown",
   "metadata": {},
   "source": [
    " Word2Vec model\n"
   ]
  },
  {
   "cell_type": "code",
<<<<<<< HEAD
   "execution_count": 19,
=======
   "execution_count": null,
>>>>>>> eb2ec683c55123c5e0ee55a184cc40d1f272e801
   "metadata": {
    "cellView": "form",
    "execution": {},
    "tags": [
     "hide-input"
    ]
   },
   "outputs": [],
   "source": [
    "# @markdown Word2Vec model\n",
    "\n",
    "def create_word2vec_model(category='news', size=50, sg=1, min_count=5):\n",
    "  sentences = brown.sents(categories=category)\n",
    "  model = Word2Vec(sentences, vector_size=size,\n",
    "                   sg=sg, min_count=min_count)\n",
    "  return model\n",
    "\n",
    "\n",
    "def model_dictionary(model):\n",
    "  print(w2vmodel.wv)\n",
    "  words = list(w2vmodel.wv)\n",
    "  return words\n",
    "\n",
    "\n",
    "def get_embedding(word, model):\n",
    "  if word in w2vmodel.wv:\n",
    "    return model.wv[word]\n",
    "  else:\n",
    "    return None"
   ]
  },
  {
   "cell_type": "markdown",
   "metadata": {
    "execution": {}
   },
   "source": [
    "The cell will take 30-45 seconds to run."
   ]
  },
  {
   "cell_type": "code",
<<<<<<< HEAD
   "execution_count": 20,
=======
   "execution_count": null,
>>>>>>> eb2ec683c55123c5e0ee55a184cc40d1f272e801
   "metadata": {
    "execution": {}
   },
   "outputs": [],
   "source": [
    "# Create a word2vec model based on categories from Brown corpus\n",
    "w2vmodel = create_word2vec_model(category)"
   ]
  },
  {
   "cell_type": "markdown",
   "metadata": {
    "execution": {}
   },
   "source": [
    "You can get the embedding vector for a word in the dictionary."
   ]
  },
  {
   "cell_type": "code",
<<<<<<< HEAD
   "execution_count": 21,
   "metadata": {
    "execution": {}
   },
   "outputs": [
    {
     "name": "stdout",
     "output_type": "stream",
     "text": [
      "Embedding of \"company\" is [ 0.26149204 -0.16005082 -0.01116344  0.13369417 -0.26849884  0.14963114\n",
      "  0.30010945  0.08026395  0.09831017 -0.03697031  0.11726584  0.1316059\n",
      "  0.10244035 -0.03969521 -0.321152    0.09357233  0.30812773  0.04352607\n",
      "  0.02237796 -0.1527026   0.25576296 -0.11029191  0.22204253 -0.09821036\n",
      " -0.04499691  0.31266356 -0.33089566  0.05166556 -0.27462313  0.01256657\n",
      "  0.16044582 -0.06218128  0.5151287  -0.03449997  0.01663295 -0.02911175\n",
      "  0.3728067   0.24514925  0.32668635 -0.37103888  0.16841863  0.09339574\n",
      " -0.4646975  -0.07946929  0.4484439   0.01800185  0.17295215 -0.13001892\n",
      "  0.17793544  0.39748648]\n"
     ]
    }
   ],
=======
   "execution_count": null,
   "metadata": {
    "execution": {}
   },
   "outputs": [],
>>>>>>> eb2ec683c55123c5e0ee55a184cc40d1f272e801
   "source": [
    "# get word list from Brown corpus\n",
    "brown_wordlist = list(brown.words(categories=category))\n",
    "# generate a random word\n",
    "random_word = random.sample(brown_wordlist, 1)[0]\n",
    "# get embedding of the random word\n",
    "random_word_embedding = get_embedding(random_word, w2vmodel)\n",
    "print(f'Embedding of \"{random_word}\" is {random_word_embedding}')"
   ]
  },
  {
   "cell_type": "markdown",
   "metadata": {
    "execution": {}
   },
   "source": [
    "### Visualizing Word Embeddings\n",
    "\n",
    "We can now obtain the word embeddings for any word in the dictionary using word2vec. Let's visualize these embeddings to get an intuition of what these embeddings mean. The word embeddings obtained from the word2vec model are in high dimensional space, and we will use tSNE to pick the two features that capture the most variance in the embeddings to represent them in a 2D space.\n",
    "\n",
    "For each word in `keys`, we pick the top 10 similar words (using cosine similarity) and plot them.\n",
    "\n",
    "Before you run the code, spend some time to think:\n",
    "\n",
    "- What should be the arrangement of similar words?\n",
    "- What should be the arrangement of the critical clusters with respect to each other?"
   ]
  },
  {
   "cell_type": "code",
<<<<<<< HEAD
   "execution_count": 22,
=======
   "execution_count": null,
>>>>>>> eb2ec683c55123c5e0ee55a184cc40d1f272e801
   "metadata": {
    "execution": {}
   },
   "outputs": [],
   "source": [
    "keys = ['voters', 'magic', 'love', 'God', 'evidence', 'administration', 'governments']"
   ]
  },
  {
   "cell_type": "code",
<<<<<<< HEAD
   "execution_count": 23,
=======
   "execution_count": null,
>>>>>>> eb2ec683c55123c5e0ee55a184cc40d1f272e801
   "metadata": {
    "cellView": "form",
    "execution": {},
    "tags": [
     "hide-input"
    ]
   },
   "outputs": [],
   "source": [
    "# @markdown ### Cluster embeddings related functions\n",
    "\n",
    "# @markdown **Note:** We import [sklearn.manifold.TSNE](https://scikit-learn.org/stable/modules/generated/sklearn.manifold.TSNE.html)\n",
    "from sklearn.manifold import TSNE\n",
    "import matplotlib.cm as cm\n",
    "\n",
    "def get_cluster_embeddings(keys):\n",
    "  embedding_clusters = []\n",
    "  word_clusters = []\n",
    "\n",
    "  # find closest words and add them to cluster\n",
    "  for word in keys:\n",
    "    embeddings = []\n",
    "    words = []\n",
    "    if not word in w2vmodel.wv:\n",
    "      print(f'The word {word} is not in the dictionary')\n",
    "      continue\n",
    "\n",
    "    for similar_word, _ in w2vmodel.wv.most_similar(word, topn=10):\n",
    "      words.append(similar_word)\n",
    "      embeddings.append(w2vmodel.wv[similar_word])\n",
    "    embeddings.append(get_embedding(word, w2vmodel))\n",
    "    words.append(word)\n",
    "    embedding_clusters.append(embeddings)\n",
    "    word_clusters.append(words)\n",
    "\n",
    "  # get embeddings for the words in clusers\n",
    "  embedding_clusters = np.array(embedding_clusters)\n",
    "  n, m, k = embedding_clusters.shape\n",
    "  tsne_model_en_2d = TSNE(perplexity=10, n_components=2, init='pca', n_iter=3500, random_state=32)\n",
    "  embeddings_en_2d = np.array(tsne_model_en_2d.fit_transform(embedding_clusters.reshape(n * m, k))).reshape(n, m, 2)\n",
    "  return embeddings_en_2d, word_clusters\n",
    "\n",
    "\n",
    "def tsne_plot_similar_words(title, labels, embedding_clusters,\n",
    "                            word_clusters, opacity, filename=None):\n",
    "  plt.figure(figsize=(16, 9))\n",
    "  colors = cm.rainbow(np.linspace(0, 1, len(labels)))\n",
    "  for label, embeddings, words, color in zip(labels, embedding_clusters, word_clusters, colors):\n",
    "    x = embeddings[:, 0]\n",
    "    y = embeddings[:, 1]\n",
    "    plt.scatter(x, y, color=color, alpha=opacity, label=label)\n",
    "    # Plot the cluster centroids\n",
    "    plt.plot(np.mean(x), np.mean(y), 'x', color=color, markersize=16)\n",
    "    for i, word in enumerate(words):\n",
    "      size = 10 if i < 10 else 14\n",
    "      plt.annotate(word, alpha=0.5, xy=(x[i], y[i]), xytext=(5, 2),\n",
    "                    textcoords='offset points',\n",
    "                    ha='right', va='bottom', size=size)\n",
    "  plt.legend()\n",
    "  plt.title(title)\n",
    "  plt.grid(True)\n",
    "  if filename:\n",
    "    plt.savefig(filename, format='png', dpi=150, bbox_inches='tight')\n",
    "  plt.show()"
   ]
  },
  {
   "cell_type": "code",
<<<<<<< HEAD
   "execution_count": 24,
   "metadata": {
    "execution": {}
   },
   "outputs": [
    {
     "data": {
      "image/png": "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",
      "text/plain": [
       "<Figure size 1600x900 with 1 Axes>"
      ]
     },
     "metadata": {
      "image/png": {
       "height": 875,
       "width": 1574
      }
     },
     "output_type": "display_data"
    }
   ],
=======
   "execution_count": null,
   "metadata": {
    "execution": {}
   },
   "outputs": [],
>>>>>>> eb2ec683c55123c5e0ee55a184cc40d1f272e801
   "source": [
    "# Get closest words to the keys and get clusters of these words\n",
    "embeddings_en_2d, word_clusters = get_cluster_embeddings(keys)\n",
    "# tSNE plot of similar words to keys\n",
    "tsne_plot_similar_words(title='Similar words from Brown Corpus',\n",
    "                        labels=keys,\n",
    "                        embedding_clusters=embeddings_en_2d,\n",
    "                        word_clusters=word_clusters,\n",
    "                        opacity=0.7,\n",
    "                        filename='similar_words.png')"
   ]
  },
  {
   "cell_type": "markdown",
   "metadata": {
    "execution": {}
   },
   "source": [
    "### Think! 2.1: Similarity\n",
    "\n",
    "1. What does having higher similarity between two word embeddings mean?\n",
    "2. Why are cluster centroids (represented with X in the plot) close to some keys (represented with larger fonts) but farther from others?"
   ]
  },
  {
   "cell_type": "markdown",
   "metadata": {
    "colab_type": "text",
    "execution": {}
   },
   "source": [
    "[*Click for solution*](https://github.com/NeuromatchAcademy/course-content-dl/tree/main/tutorials/W3D1_TimeSeriesAndNaturalLanguageProcessing/solutions/W3D1_Tutorial1_Solution_61e9bed5.py)\n",
    "\n"
   ]
  },
  {
   "cell_type": "markdown",
   "metadata": {},
   "source": [
    "####  Submit your feedback\n"
   ]
  },
  {
   "cell_type": "code",
<<<<<<< HEAD
   "execution_count": 25,
=======
   "execution_count": null,
>>>>>>> eb2ec683c55123c5e0ee55a184cc40d1f272e801
   "metadata": {
    "cellView": "form",
    "execution": {},
    "tags": [
     "hide-input"
    ]
   },
<<<<<<< HEAD
   "outputs": [
    {
     "data": {
      "application/vnd.jupyter.widget-view+json": {
       "model_id": "79d77b5f09454efca504729ab1371b55",
       "version_major": 2,
       "version_minor": 0
      },
      "text/plain": [
       "VBox(children=(VBox(children=(HBox(children=(Button(description='🙂', layout=Layout(height='auto', padding='0.5…"
      ]
     },
     "metadata": {},
     "output_type": "display_data"
    }
   ],
=======
   "outputs": [],
>>>>>>> eb2ec683c55123c5e0ee55a184cc40d1f272e801
   "source": [
    "# @title Submit your feedback\n",
    "content_review(f\"{feedback_prefix}_Similarity_Discussion\")"
   ]
  },
  {
   "cell_type": "markdown",
   "metadata": {
    "execution": {}
   },
   "source": [
    "## Section 2.2: Embedding exploration"
   ]
  },
  {
   "cell_type": "markdown",
   "metadata": {},
   "source": [
    "###  Video 4: Embeddings rule!\n"
   ]
  },
  {
   "cell_type": "code",
<<<<<<< HEAD
   "execution_count": 26,
=======
   "execution_count": null,
>>>>>>> eb2ec683c55123c5e0ee55a184cc40d1f272e801
   "metadata": {
    "cellView": "form",
    "execution": {},
    "tags": [
     "remove-input"
    ]
   },
<<<<<<< HEAD
   "outputs": [
    {
     "data": {
      "application/vnd.jupyter.widget-view+json": {
       "model_id": "e35fbbeea09f4ef2a41a2e9c44386809",
       "version_major": 2,
       "version_minor": 0
      },
      "text/plain": [
       "Tab(children=(Output(), Output()), selected_index=0, titles=('Youtube', 'Bilibili'))"
      ]
     },
     "metadata": {},
     "output_type": "display_data"
    }
   ],
=======
   "outputs": [],
>>>>>>> eb2ec683c55123c5e0ee55a184cc40d1f272e801
   "source": [
    "# @title Video 4: Embeddings rule!\n",
    "from ipywidgets import widgets\n",
    "from IPython.display import YouTubeVideo\n",
    "from IPython.display import IFrame\n",
    "from IPython.display import display\n",
    "\n",
    "\n",
    "class PlayVideo(IFrame):\n",
    "  def __init__(self, id, source, page=1, width=400, height=300, **kwargs):\n",
    "    self.id = id\n",
    "    if source == 'Bilibili':\n",
    "      src = f'https://player.bilibili.com/player.html?bvid={id}&page={page}'\n",
    "    elif source == 'Osf':\n",
    "      src = f'https://mfr.ca-1.osf.io/render?url=https://osf.io/download/{id}/?direct%26mode=render'\n",
    "    super(PlayVideo, self).__init__(src, width, height, **kwargs)\n",
    "\n",
    "\n",
    "def display_videos(video_ids, W=400, H=300, fs=1):\n",
    "  tab_contents = []\n",
    "  for i, video_id in enumerate(video_ids):\n",
    "    out = widgets.Output()\n",
    "    with out:\n",
    "      if video_ids[i][0] == 'Youtube':\n",
    "        video = YouTubeVideo(id=video_ids[i][1], width=W,\n",
    "                             height=H, fs=fs, rel=0)\n",
    "        print(f'Video available at https://youtube.com/watch?v={video.id}')\n",
    "      else:\n",
    "        video = PlayVideo(id=video_ids[i][1], source=video_ids[i][0], width=W,\n",
    "                          height=H, fs=fs, autoplay=False)\n",
    "        if video_ids[i][0] == 'Bilibili':\n",
    "          print(f'Video available at https://www.bilibili.com/video/{video.id}')\n",
    "        elif video_ids[i][0] == 'Osf':\n",
    "          print(f'Video available at https://osf.io/{video.id}')\n",
    "      display(video)\n",
    "    tab_contents.append(out)\n",
    "  return tab_contents\n",
    "\n",
    "\n",
    "video_ids = [('Youtube', '7ijjjFpcOwI'), ('Bilibili', 'BV1KN4y1G7sL')]\n",
    "tab_contents = display_videos(video_ids, W=730, H=410)\n",
    "tabs = widgets.Tab()\n",
    "tabs.children = tab_contents\n",
    "for i in range(len(tab_contents)):\n",
    "  tabs.set_title(i, video_ids[i][0])\n",
    "display(tabs)"
   ]
  },
  {
   "cell_type": "markdown",
   "metadata": {},
   "source": [
    "###  Submit your feedback\n"
   ]
  },
  {
   "cell_type": "code",
<<<<<<< HEAD
   "execution_count": 27,
=======
   "execution_count": null,
>>>>>>> eb2ec683c55123c5e0ee55a184cc40d1f272e801
   "metadata": {
    "cellView": "form",
    "execution": {},
    "tags": [
     "hide-input"
    ]
   },
<<<<<<< HEAD
   "outputs": [
    {
     "data": {
      "application/vnd.jupyter.widget-view+json": {
       "model_id": "d566e534c7344e2c99effb6394fa781b",
       "version_major": 2,
       "version_minor": 0
      },
      "text/plain": [
       "VBox(children=(VBox(children=(HBox(children=(Button(description='🙂', layout=Layout(height='auto', padding='0.5…"
      ]
     },
     "metadata": {},
     "output_type": "display_data"
    }
   ],
=======
   "outputs": [],
>>>>>>> eb2ec683c55123c5e0ee55a184cc40d1f272e801
   "source": [
    "# @title Submit your feedback\n",
    "content_review(f\"{feedback_prefix}_Embeddings_rule_Video\")"
   ]
  },
  {
   "cell_type": "markdown",
   "metadata": {},
   "source": [
    "###  Video 5: Distributional Similarity and Vector Embeddings\n"
   ]
  },
  {
   "cell_type": "code",
<<<<<<< HEAD
   "execution_count": 28,
=======
   "execution_count": null,
>>>>>>> eb2ec683c55123c5e0ee55a184cc40d1f272e801
   "metadata": {
    "cellView": "form",
    "execution": {},
    "tags": [
     "remove-input"
    ]
   },
<<<<<<< HEAD
   "outputs": [
    {
     "data": {
      "application/vnd.jupyter.widget-view+json": {
       "model_id": "f1225ab291d64ef38ff8e37ce0b9f660",
       "version_major": 2,
       "version_minor": 0
      },
      "text/plain": [
       "Tab(children=(Output(), Output()), selected_index=0, titles=('Youtube', 'Bilibili'))"
      ]
     },
     "metadata": {},
     "output_type": "display_data"
    }
   ],
=======
   "outputs": [],
>>>>>>> eb2ec683c55123c5e0ee55a184cc40d1f272e801
   "source": [
    "# @title Video 5: Distributional Similarity and Vector Embeddings\n",
    "from ipywidgets import widgets\n",
    "from IPython.display import YouTubeVideo\n",
    "from IPython.display import IFrame\n",
    "from IPython.display import display\n",
    "\n",
    "\n",
    "class PlayVideo(IFrame):\n",
    "  def __init__(self, id, source, page=1, width=400, height=300, **kwargs):\n",
    "    self.id = id\n",
    "    if source == 'Bilibili':\n",
    "      src = f'https://player.bilibili.com/player.html?bvid={id}&page={page}'\n",
    "    elif source == 'Osf':\n",
    "      src = f'https://mfr.ca-1.osf.io/render?url=https://osf.io/download/{id}/?direct%26mode=render'\n",
    "    super(PlayVideo, self).__init__(src, width, height, **kwargs)\n",
    "\n",
    "\n",
    "def display_videos(video_ids, W=400, H=300, fs=1):\n",
    "  tab_contents = []\n",
    "  for i, video_id in enumerate(video_ids):\n",
    "    out = widgets.Output()\n",
    "    with out:\n",
    "      if video_ids[i][0] == 'Youtube':\n",
    "        video = YouTubeVideo(id=video_ids[i][1], width=W,\n",
    "                             height=H, fs=fs, rel=0)\n",
    "        print(f'Video available at https://youtube.com/watch?v={video.id}')\n",
    "      else:\n",
    "        video = PlayVideo(id=video_ids[i][1], source=video_ids[i][0], width=W,\n",
    "                          height=H, fs=fs, autoplay=False)\n",
    "        if video_ids[i][0] == 'Bilibili':\n",
    "          print(f'Video available at https://www.bilibili.com/video/{video.id}')\n",
    "        elif video_ids[i][0] == 'Osf':\n",
    "          print(f'Video available at https://osf.io/{video.id}')\n",
    "      display(video)\n",
    "    tab_contents.append(out)\n",
    "  return tab_contents\n",
    "\n",
    "\n",
    "video_ids = [('Youtube', '0vTuEIAnrII'), ('Bilibili', 'BV1sa411W7ks')]\n",
    "tab_contents = display_videos(video_ids, W=730, H=410)\n",
    "tabs = widgets.Tab()\n",
    "tabs.children = tab_contents\n",
    "for i in range(len(tab_contents)):\n",
    "  tabs.set_title(i, video_ids[i][0])\n",
    "display(tabs)"
   ]
  },
  {
   "cell_type": "markdown",
   "metadata": {},
   "source": [
    "###  Submit your feedback\n"
   ]
  },
  {
   "cell_type": "code",
<<<<<<< HEAD
   "execution_count": 29,
=======
   "execution_count": null,
>>>>>>> eb2ec683c55123c5e0ee55a184cc40d1f272e801
   "metadata": {
    "cellView": "form",
    "execution": {},
    "tags": [
     "hide-input"
    ]
   },
<<<<<<< HEAD
   "outputs": [
    {
     "data": {
      "application/vnd.jupyter.widget-view+json": {
       "model_id": "fa1ed88454df439587b2c1600c05cd5a",
       "version_major": 2,
       "version_minor": 0
      },
      "text/plain": [
       "VBox(children=(VBox(children=(HBox(children=(Button(description='🙂', layout=Layout(height='auto', padding='0.5…"
      ]
     },
     "metadata": {},
     "output_type": "display_data"
    }
   ],
=======
   "outputs": [],
>>>>>>> eb2ec683c55123c5e0ee55a184cc40d1f272e801
   "source": [
    "# @title Submit your feedback\n",
    "content_review(f\"{feedback_prefix}_Distributional_Similarity_and_Vector_Embeddings_Video\")"
   ]
  },
  {
   "cell_type": "markdown",
   "metadata": {
    "execution": {}
   },
   "source": [
    "Words or subword units such as morphemes are the basic units we use to express meaning in language. The technique of mapping words to vectors of real numbers is known as word embedding.\n",
    "\n",
    "In this section, we will use pretrained `fastText` embeddings, a context-oblivious embedding similar to `word2vec`."
   ]
  },
  {
   "cell_type": "markdown",
   "metadata": {
    "execution": {}
   },
   "source": [
    "### Embedding Manipulation\n",
    "\n",
    "Let's use the [FastText](https://fasttext.cc/) library to manipulate the embeddings. First, find the embedding for the word \"King\""
   ]
  },
  {
   "cell_type": "code",
<<<<<<< HEAD
   "execution_count": 35,
=======
   "execution_count": null,
>>>>>>> eb2ec683c55123c5e0ee55a184cc40d1f272e801
   "metadata": {
    "cellView": "form",
    "execution": {},
    "tags": [
     "hide-input"
    ]
   },
<<<<<<< HEAD
   "outputs": [
    {
     "name": "stdout",
     "output_type": "stream",
     "text": [
      "Downloading Started...\n"
     ]
    },
    {
     "ename": "ChunkedEncodingError",
     "evalue": "('Connection broken: IncompleteRead(372191232 bytes read, 1140178038 more expected)', IncompleteRead(372191232 bytes read, 1140178038 more expected))",
     "output_type": "error",
     "traceback": [
      "\u001b[0;31m---------------------------------------------------------------------------\u001b[0m",
      "\u001b[0;31mIncompleteRead\u001b[0m                            Traceback (most recent call last)",
      "File \u001b[0;32m~/anaconda3/lib/python3.11/site-packages/urllib3/response.py:754\u001b[0m, in \u001b[0;36mHTTPResponse._error_catcher\u001b[0;34m(self)\u001b[0m\n\u001b[1;32m    753\u001b[0m \u001b[38;5;28;01mtry\u001b[39;00m:\n\u001b[0;32m--> 754\u001b[0m     \u001b[38;5;28;01myield\u001b[39;00m\n\u001b[1;32m    756\u001b[0m \u001b[38;5;28;01mexcept\u001b[39;00m SocketTimeout \u001b[38;5;28;01mas\u001b[39;00m e:\n\u001b[1;32m    757\u001b[0m     \u001b[38;5;66;03m# FIXME: Ideally we'd like to include the url in the ReadTimeoutError but\u001b[39;00m\n\u001b[1;32m    758\u001b[0m     \u001b[38;5;66;03m# there is yet no clean way to get at it from this context.\u001b[39;00m\n",
      "File \u001b[0;32m~/anaconda3/lib/python3.11/site-packages/urllib3/response.py:900\u001b[0m, in \u001b[0;36mHTTPResponse._raw_read\u001b[0;34m(self, amt, read1)\u001b[0m\n\u001b[1;32m    890\u001b[0m     \u001b[38;5;28;01mif\u001b[39;00m (\n\u001b[1;32m    891\u001b[0m         \u001b[38;5;28mself\u001b[39m\u001b[38;5;241m.\u001b[39menforce_content_length\n\u001b[1;32m    892\u001b[0m         \u001b[38;5;129;01mand\u001b[39;00m \u001b[38;5;28mself\u001b[39m\u001b[38;5;241m.\u001b[39mlength_remaining \u001b[38;5;129;01mis\u001b[39;00m \u001b[38;5;129;01mnot\u001b[39;00m \u001b[38;5;28;01mNone\u001b[39;00m\n\u001b[0;32m   (...)\u001b[0m\n\u001b[1;32m    898\u001b[0m         \u001b[38;5;66;03m# raised during streaming, so all calls with incorrect\u001b[39;00m\n\u001b[1;32m    899\u001b[0m         \u001b[38;5;66;03m# Content-Length are caught.\u001b[39;00m\n\u001b[0;32m--> 900\u001b[0m         \u001b[38;5;28;01mraise\u001b[39;00m IncompleteRead(\u001b[38;5;28mself\u001b[39m\u001b[38;5;241m.\u001b[39m_fp_bytes_read, \u001b[38;5;28mself\u001b[39m\u001b[38;5;241m.\u001b[39mlength_remaining)\n\u001b[1;32m    901\u001b[0m \u001b[38;5;28;01melif\u001b[39;00m read1 \u001b[38;5;129;01mand\u001b[39;00m (\n\u001b[1;32m    902\u001b[0m     (amt \u001b[38;5;241m!=\u001b[39m \u001b[38;5;241m0\u001b[39m \u001b[38;5;129;01mand\u001b[39;00m \u001b[38;5;129;01mnot\u001b[39;00m data) \u001b[38;5;129;01mor\u001b[39;00m \u001b[38;5;28mself\u001b[39m\u001b[38;5;241m.\u001b[39mlength_remaining \u001b[38;5;241m==\u001b[39m \u001b[38;5;28mlen\u001b[39m(data)\n\u001b[1;32m    903\u001b[0m ):\n\u001b[0;32m   (...)\u001b[0m\n\u001b[1;32m    906\u001b[0m     \u001b[38;5;66;03m# `http.client.HTTPResponse`, so we close it here.\u001b[39;00m\n\u001b[1;32m    907\u001b[0m     \u001b[38;5;66;03m# See https://github.com/python/cpython/issues/113199\u001b[39;00m\n",
      "\u001b[0;31mIncompleteRead\u001b[0m: IncompleteRead(372191232 bytes read, 1140178038 more expected)",
      "\nThe above exception was the direct cause of the following exception:\n",
      "\u001b[0;31mProtocolError\u001b[0m                             Traceback (most recent call last)",
      "File \u001b[0;32m~/anaconda3/lib/python3.11/site-packages/requests/models.py:820\u001b[0m, in \u001b[0;36mResponse.iter_content.<locals>.generate\u001b[0;34m()\u001b[0m\n\u001b[1;32m    819\u001b[0m \u001b[38;5;28;01mtry\u001b[39;00m:\n\u001b[0;32m--> 820\u001b[0m     \u001b[38;5;28;01myield from\u001b[39;00m \u001b[38;5;28mself\u001b[39m\u001b[38;5;241m.\u001b[39mraw\u001b[38;5;241m.\u001b[39mstream(chunk_size, decode_content\u001b[38;5;241m=\u001b[39m\u001b[38;5;28;01mTrue\u001b[39;00m)\n\u001b[1;32m    821\u001b[0m \u001b[38;5;28;01mexcept\u001b[39;00m ProtocolError \u001b[38;5;28;01mas\u001b[39;00m e:\n",
      "File \u001b[0;32m~/anaconda3/lib/python3.11/site-packages/urllib3/response.py:1066\u001b[0m, in \u001b[0;36mHTTPResponse.stream\u001b[0;34m(self, amt, decode_content)\u001b[0m\n\u001b[1;32m   1065\u001b[0m \u001b[38;5;28;01mwhile\u001b[39;00m \u001b[38;5;129;01mnot\u001b[39;00m is_fp_closed(\u001b[38;5;28mself\u001b[39m\u001b[38;5;241m.\u001b[39m_fp) \u001b[38;5;129;01mor\u001b[39;00m \u001b[38;5;28mlen\u001b[39m(\u001b[38;5;28mself\u001b[39m\u001b[38;5;241m.\u001b[39m_decoded_buffer) \u001b[38;5;241m>\u001b[39m \u001b[38;5;241m0\u001b[39m:\n\u001b[0;32m-> 1066\u001b[0m     data \u001b[38;5;241m=\u001b[39m \u001b[38;5;28;43mself\u001b[39;49m\u001b[38;5;241;43m.\u001b[39;49m\u001b[43mread\u001b[49m\u001b[43m(\u001b[49m\u001b[43mamt\u001b[49m\u001b[38;5;241;43m=\u001b[39;49m\u001b[43mamt\u001b[49m\u001b[43m,\u001b[49m\u001b[43m \u001b[49m\u001b[43mdecode_content\u001b[49m\u001b[38;5;241;43m=\u001b[39;49m\u001b[43mdecode_content\u001b[49m\u001b[43m)\u001b[49m\n\u001b[1;32m   1068\u001b[0m     \u001b[38;5;28;01mif\u001b[39;00m data:\n",
      "File \u001b[0;32m~/anaconda3/lib/python3.11/site-packages/urllib3/response.py:983\u001b[0m, in \u001b[0;36mHTTPResponse.read\u001b[0;34m(self, amt, decode_content, cache_content)\u001b[0m\n\u001b[1;32m    979\u001b[0m \u001b[38;5;28;01mwhile\u001b[39;00m \u001b[38;5;28mlen\u001b[39m(\u001b[38;5;28mself\u001b[39m\u001b[38;5;241m.\u001b[39m_decoded_buffer) \u001b[38;5;241m<\u001b[39m amt \u001b[38;5;129;01mand\u001b[39;00m data:\n\u001b[1;32m    980\u001b[0m     \u001b[38;5;66;03m# TODO make sure to initially read enough data to get past the headers\u001b[39;00m\n\u001b[1;32m    981\u001b[0m     \u001b[38;5;66;03m# For example, the GZ file header takes 10 bytes, we don't want to read\u001b[39;00m\n\u001b[1;32m    982\u001b[0m     \u001b[38;5;66;03m# it one byte at a time\u001b[39;00m\n\u001b[0;32m--> 983\u001b[0m     data \u001b[38;5;241m=\u001b[39m \u001b[38;5;28;43mself\u001b[39;49m\u001b[38;5;241;43m.\u001b[39;49m\u001b[43m_raw_read\u001b[49m\u001b[43m(\u001b[49m\u001b[43mamt\u001b[49m\u001b[43m)\u001b[49m\n\u001b[1;32m    984\u001b[0m     decoded_data \u001b[38;5;241m=\u001b[39m \u001b[38;5;28mself\u001b[39m\u001b[38;5;241m.\u001b[39m_decode(data, decode_content, flush_decoder)\n",
      "File \u001b[0;32m~/anaconda3/lib/python3.11/site-packages/urllib3/response.py:878\u001b[0m, in \u001b[0;36mHTTPResponse._raw_read\u001b[0;34m(self, amt, read1)\u001b[0m\n\u001b[1;32m    876\u001b[0m fp_closed \u001b[38;5;241m=\u001b[39m \u001b[38;5;28mgetattr\u001b[39m(\u001b[38;5;28mself\u001b[39m\u001b[38;5;241m.\u001b[39m_fp, \u001b[38;5;124m\"\u001b[39m\u001b[38;5;124mclosed\u001b[39m\u001b[38;5;124m\"\u001b[39m, \u001b[38;5;28;01mFalse\u001b[39;00m)\n\u001b[0;32m--> 878\u001b[0m \u001b[43m\u001b[49m\u001b[38;5;28;43;01mwith\u001b[39;49;00m\u001b[43m \u001b[49m\u001b[38;5;28;43mself\u001b[39;49m\u001b[38;5;241;43m.\u001b[39;49m\u001b[43m_error_catcher\u001b[49m\u001b[43m(\u001b[49m\u001b[43m)\u001b[49m\u001b[43m:\u001b[49m\n\u001b[1;32m    879\u001b[0m \u001b[43m    \u001b[49m\u001b[43mdata\u001b[49m\u001b[43m \u001b[49m\u001b[38;5;241;43m=\u001b[39;49m\u001b[43m \u001b[49m\u001b[38;5;28;43mself\u001b[39;49m\u001b[38;5;241;43m.\u001b[39;49m\u001b[43m_fp_read\u001b[49m\u001b[43m(\u001b[49m\u001b[43mamt\u001b[49m\u001b[43m,\u001b[49m\u001b[43m \u001b[49m\u001b[43mread1\u001b[49m\u001b[38;5;241;43m=\u001b[39;49m\u001b[43mread1\u001b[49m\u001b[43m)\u001b[49m\u001b[43m \u001b[49m\u001b[38;5;28;43;01mif\u001b[39;49;00m\u001b[43m \u001b[49m\u001b[38;5;129;43;01mnot\u001b[39;49;00m\u001b[43m \u001b[49m\u001b[43mfp_closed\u001b[49m\u001b[43m \u001b[49m\u001b[38;5;28;43;01melse\u001b[39;49;00m\u001b[43m \u001b[49m\u001b[38;5;124;43mb\u001b[39;49m\u001b[38;5;124;43m\"\u001b[39;49m\u001b[38;5;124;43m\"\u001b[39;49m\n",
      "File \u001b[0;32m~/anaconda3/lib/python3.11/contextlib.py:155\u001b[0m, in \u001b[0;36m_GeneratorContextManager.__exit__\u001b[0;34m(self, typ, value, traceback)\u001b[0m\n\u001b[1;32m    154\u001b[0m \u001b[38;5;28;01mtry\u001b[39;00m:\n\u001b[0;32m--> 155\u001b[0m     \u001b[38;5;28mself\u001b[39m\u001b[38;5;241m.\u001b[39mgen\u001b[38;5;241m.\u001b[39mthrow(typ, value, traceback)\n\u001b[1;32m    156\u001b[0m \u001b[38;5;28;01mexcept\u001b[39;00m \u001b[38;5;167;01mStopIteration\u001b[39;00m \u001b[38;5;28;01mas\u001b[39;00m exc:\n\u001b[1;32m    157\u001b[0m     \u001b[38;5;66;03m# Suppress StopIteration *unless* it's the same exception that\u001b[39;00m\n\u001b[1;32m    158\u001b[0m     \u001b[38;5;66;03m# was passed to throw().  This prevents a StopIteration\u001b[39;00m\n\u001b[1;32m    159\u001b[0m     \u001b[38;5;66;03m# raised inside the \"with\" statement from being suppressed.\u001b[39;00m\n",
      "File \u001b[0;32m~/anaconda3/lib/python3.11/site-packages/urllib3/response.py:778\u001b[0m, in \u001b[0;36mHTTPResponse._error_catcher\u001b[0;34m(self)\u001b[0m\n\u001b[1;32m    777\u001b[0m         arg \u001b[38;5;241m=\u001b[39m \u001b[38;5;124mf\u001b[39m\u001b[38;5;124m\"\u001b[39m\u001b[38;5;124mConnection broken: \u001b[39m\u001b[38;5;132;01m{\u001b[39;00me\u001b[38;5;132;01m!r}\u001b[39;00m\u001b[38;5;124m\"\u001b[39m\n\u001b[0;32m--> 778\u001b[0m     \u001b[38;5;28;01mraise\u001b[39;00m ProtocolError(arg, e) \u001b[38;5;28;01mfrom\u001b[39;00m\u001b[38;5;250m \u001b[39m\u001b[38;5;21;01me\u001b[39;00m\n\u001b[1;32m    780\u001b[0m \u001b[38;5;28;01mexcept\u001b[39;00m (HTTPException, \u001b[38;5;167;01mOSError\u001b[39;00m) \u001b[38;5;28;01mas\u001b[39;00m e:\n",
      "\u001b[0;31mProtocolError\u001b[0m: ('Connection broken: IncompleteRead(372191232 bytes read, 1140178038 more expected)', IncompleteRead(372191232 bytes read, 1140178038 more expected))",
      "\nDuring handling of the above exception, another exception occurred:\n",
      "\u001b[0;31mChunkedEncodingError\u001b[0m                      Traceback (most recent call last)",
      "Cell \u001b[0;32mIn[35], line 15\u001b[0m\n\u001b[1;32m     13\u001b[0m \u001b[38;5;66;03m# Writing the file to the local file system\u001b[39;00m\n\u001b[1;32m     14\u001b[0m \u001b[38;5;28;01mwith\u001b[39;00m \u001b[38;5;28mopen\u001b[39m(fname, \u001b[38;5;124m'\u001b[39m\u001b[38;5;124mwb\u001b[39m\u001b[38;5;124m'\u001b[39m) \u001b[38;5;28;01mas\u001b[39;00m f:\n\u001b[0;32m---> 15\u001b[0m   f\u001b[38;5;241m.\u001b[39mwrite(\u001b[43mr\u001b[49m\u001b[38;5;241;43m.\u001b[39;49m\u001b[43mcontent\u001b[49m)\n\u001b[1;32m     16\u001b[0m \u001b[38;5;28mprint\u001b[39m(\u001b[38;5;124m'\u001b[39m\u001b[38;5;124mDownloading Completed.\u001b[39m\u001b[38;5;124m'\u001b[39m)\n\u001b[1;32m     18\u001b[0m \u001b[38;5;66;03m# opening the zip file in READ mode\u001b[39;00m\n",
      "File \u001b[0;32m~/anaconda3/lib/python3.11/site-packages/requests/models.py:902\u001b[0m, in \u001b[0;36mResponse.content\u001b[0;34m(self)\u001b[0m\n\u001b[1;32m    900\u001b[0m         \u001b[38;5;28mself\u001b[39m\u001b[38;5;241m.\u001b[39m_content \u001b[38;5;241m=\u001b[39m \u001b[38;5;28;01mNone\u001b[39;00m\n\u001b[1;32m    901\u001b[0m     \u001b[38;5;28;01melse\u001b[39;00m:\n\u001b[0;32m--> 902\u001b[0m         \u001b[38;5;28mself\u001b[39m\u001b[38;5;241m.\u001b[39m_content \u001b[38;5;241m=\u001b[39m \u001b[38;5;124mb\u001b[39m\u001b[38;5;124m\"\u001b[39m\u001b[38;5;124m\"\u001b[39m\u001b[38;5;241m.\u001b[39mjoin(\u001b[38;5;28mself\u001b[39m\u001b[38;5;241m.\u001b[39miter_content(CONTENT_CHUNK_SIZE)) \u001b[38;5;129;01mor\u001b[39;00m \u001b[38;5;124mb\u001b[39m\u001b[38;5;124m\"\u001b[39m\u001b[38;5;124m\"\u001b[39m\n\u001b[1;32m    904\u001b[0m \u001b[38;5;28mself\u001b[39m\u001b[38;5;241m.\u001b[39m_content_consumed \u001b[38;5;241m=\u001b[39m \u001b[38;5;28;01mTrue\u001b[39;00m\n\u001b[1;32m    905\u001b[0m \u001b[38;5;66;03m# don't need to release the connection; that's been handled by urllib3\u001b[39;00m\n\u001b[1;32m    906\u001b[0m \u001b[38;5;66;03m# since we exhausted the data.\u001b[39;00m\n",
      "File \u001b[0;32m~/anaconda3/lib/python3.11/site-packages/requests/models.py:822\u001b[0m, in \u001b[0;36mResponse.iter_content.<locals>.generate\u001b[0;34m()\u001b[0m\n\u001b[1;32m    820\u001b[0m     \u001b[38;5;28;01myield from\u001b[39;00m \u001b[38;5;28mself\u001b[39m\u001b[38;5;241m.\u001b[39mraw\u001b[38;5;241m.\u001b[39mstream(chunk_size, decode_content\u001b[38;5;241m=\u001b[39m\u001b[38;5;28;01mTrue\u001b[39;00m)\n\u001b[1;32m    821\u001b[0m \u001b[38;5;28;01mexcept\u001b[39;00m ProtocolError \u001b[38;5;28;01mas\u001b[39;00m e:\n\u001b[0;32m--> 822\u001b[0m     \u001b[38;5;28;01mraise\u001b[39;00m ChunkedEncodingError(e)\n\u001b[1;32m    823\u001b[0m \u001b[38;5;28;01mexcept\u001b[39;00m DecodeError \u001b[38;5;28;01mas\u001b[39;00m e:\n\u001b[1;32m    824\u001b[0m     \u001b[38;5;28;01mraise\u001b[39;00m ContentDecodingError(e)\n",
      "\u001b[0;31mChunkedEncodingError\u001b[0m: ('Connection broken: IncompleteRead(372191232 bytes read, 1140178038 more expected)', IncompleteRead(372191232 bytes read, 1140178038 more expected))"
     ]
    }
   ],
=======
   "outputs": [],
>>>>>>> eb2ec683c55123c5e0ee55a184cc40d1f272e801
   "source": [
    "# @markdown ### Download FastText English Embeddings of dimension 100\n",
    "# @markdown This will take 1-2 minutes to run\n",
    "\n",
    "import os, zipfile, requests\n",
    "\n",
    "url = \"https://osf.io/2frqg/download\"\n",
    "fname = \"cc.en.100.bin.gz\"\n",
    "\n",
    "print('Downloading Started...')\n",
    "# Downloading the file by sending the request to the URL\n",
    "r = requests.get(url, stream=True)\n",
    "\n",
    "# Writing the file to the local file system\n",
    "with open(fname, 'wb') as f:\n",
    "  f.write(r.content)\n",
    "print('Downloading Completed.')\n",
    "\n",
    "# opening the zip file in READ mode\n",
    "with zipfile.ZipFile(fname, 'r') as zipObj:\n",
    "  # extracting all the files\n",
    "  print('Extracting all the files now...')\n",
    "  zipObj.extractall()\n",
    "  print('Done!')\n",
    "  os.remove(fname)"
   ]
  },
  {
   "cell_type": "code",
   "execution_count": null,
   "metadata": {
    "execution": {}
   },
   "outputs": [],
   "source": [
    "# Load 100 dimension FastText Vectors using FastText library\n",
    "ft_en_vectors = fasttext.load_model('cc.en.100.bin')\n",
    "print(f\"Length of the embedding is: {len(ft_en_vectors.get_word_vector('king'))}\")\n",
    "print(f\"\\nEmbedding for the word King is:\\n {ft_en_vectors.get_word_vector('king')}\")"
   ]
  },
  {
   "cell_type": "markdown",
   "metadata": {
    "execution": {}
   },
   "source": [
    "Cosine similarity is used for similarities between words. Similarity is a scalar between 0 and 1. Higher scalar value corresponds to higher similarity.\n",
    "\n",
    "Now find the 10 most similar words to \"king\"."
   ]
  },
  {
   "cell_type": "code",
   "execution_count": null,
   "metadata": {
    "execution": {}
   },
   "outputs": [],
   "source": [
    "ft_en_vectors.get_nearest_neighbors(\"king\", 10)  # Most similar by key"
   ]
  },
  {
   "cell_type": "markdown",
   "metadata": {
    "execution": {}
   },
   "source": [
    "### Word Similarity\n",
    "\n",
    "More on similarity between words. Let's check how similar different pairs of word are."
   ]
  },
  {
   "cell_type": "code",
   "execution_count": null,
   "metadata": {
    "execution": {}
   },
   "outputs": [],
   "source": [
    "def cosine_similarity(vec_a, vec_b):\n",
    "  \"\"\"Compute cosine similarity between vec_a and vec_b\"\"\"\n",
    "  return np.dot(vec_a, vec_b) / (np.linalg.norm(vec_a) * np.linalg.norm(vec_b))\n",
    "\n",
    "\n",
    "def getSimilarity(word1, word2):\n",
    "  v1 = ft_en_vectors.get_word_vector(word1)\n",
    "  v2 = ft_en_vectors.get_word_vector(word2)\n",
    "  return cosine_similarity(v1, v2)\n",
    "\n",
    "\n",
    "print(f\"Similarity between the words King and Queen: {getSimilarity('king', 'queen')}\")\n",
    "print(f\"Similarity between the words King and Knight: {getSimilarity('king', 'knight')}\")\n",
    "print(f\"Similarity between the words King and Rock: {getSimilarity('king', 'rock')}\")\n",
    "print(f\"Similarity between the words King and Twenty: {getSimilarity('king', 'twenty')}\")\n",
    "\n",
    "print(f\"\\nSimilarity between the words Dog and Cat: {getSimilarity('dog', 'cat')}\")\n",
    "print(f\"Similarity between the words Ascending and Descending: {getSimilarity('ascending', 'descending')}\")\n",
    "print(f\"Similarity between the words Victory and Defeat: {getSimilarity('victory', 'defeat')}\")\n",
    "print(f\"Similarity between the words Less and More: {getSimilarity('less', 'more')}\")\n",
    "print(f\"Similarity between the words True and False: {getSimilarity('true', 'false')}\")"
   ]
  },
  {
   "cell_type": "markdown",
   "metadata": {
    "execution": {}
   },
   "source": [
    "### Interactive Demo 2.2.1: Check similarity between words"
   ]
  },
  {
   "cell_type": "markdown",
   "metadata": {},
   "source": [
    " Type two words and run the cell!\n"
   ]
  },
  {
   "cell_type": "code",
   "execution_count": null,
   "metadata": {
    "cellView": "form",
    "execution": {},
    "tags": [
     "hide-input"
    ]
   },
   "outputs": [],
   "source": [
    "# @markdown Type two words and run the cell!\n",
    "word1 = 'King'  # @param \\ {type:\"string\"}\n",
    "word2 = 'Frog'  # @param \\ {type:\"string\"}\n",
    "word_similarity = getSimilarity(word1, word2)\n",
    "print(f'Similarity between {word1} and {word2}: {word_similarity}')"
   ]
  },
  {
   "cell_type": "markdown",
   "metadata": {
    "execution": {}
   },
   "source": [
    "Using embeddings, we can find the words that appear in similar contexts. But, what happens if the word has several different meanings?"
   ]
  },
  {
   "cell_type": "markdown",
   "metadata": {
    "execution": {}
   },
   "source": [
    "### Homonym Similarity\n",
    "\n",
    "Homonyms are words that have the same spelling or pronunciation but different meanings depending on the context. Let's explore how these words are embedded and their similarity in different contexts."
   ]
  },
  {
   "cell_type": "code",
   "execution_count": null,
   "metadata": {
    "execution": {}
   },
   "outputs": [],
   "source": [
    "#######################     Words with multiple meanings     ##########################\n",
    "print(f\"Similarity between the words Cricket and Insect: {getSimilarity('cricket', 'insect')}\")\n",
    "print(f\"Similarity between the words Cricket and Sport: {getSimilarity('cricket', 'sport')}\")"
   ]
  },
  {
   "cell_type": "markdown",
   "metadata": {},
   "source": [
    "####  Submit your feedback\n"
   ]
  },
  {
   "cell_type": "code",
   "execution_count": null,
   "metadata": {
    "cellView": "form",
    "execution": {},
    "tags": [
     "hide-input"
    ]
   },
   "outputs": [],
   "source": [
    "# @title Submit your feedback\n",
    "content_review(f\"{feedback_prefix}_Check_similarity_between_words_Interactive_Demo\")"
   ]
  },
  {
   "cell_type": "markdown",
   "metadata": {
    "execution": {}
   },
   "source": [
    "### Interactive Demo 2.2.2: Explore homonyms"
   ]
  },
  {
   "cell_type": "code",
   "execution_count": null,
   "metadata": {
    "cellView": "form",
    "execution": {},
    "tags": [
     "hide-input"
    ]
   },
   "outputs": [],
   "source": [
    "# @markdown Type the words and run the cell!\n",
    "# @markdown examples - minute (time/small), pie (graph/food)\n",
    "\n",
    "word = 'minute'  # @param \\ {type:\"string\"}\n",
    "context_word_1 = 'time'  # @param \\ {type:\"string\"}\n",
    "context_word_2 = 'small'  # @param \\ {type:\"string\"}\n",
    "word_similarity_1 = getSimilarity(word, context_word_1)\n",
    "word_similarity_2 = getSimilarity(word, context_word_2)\n",
    "print(f'Similarity between {word} and {context_word_1}: {word_similarity_1}')\n",
    "print(f'Similarity between {word} and {context_word_2}: {word_similarity_2}')"
   ]
  },
  {
   "cell_type": "markdown",
   "metadata": {
    "execution": {}
   },
   "source": [
    "### Word Analogies"
   ]
  },
  {
   "cell_type": "markdown",
   "metadata": {
    "execution": {}
   },
   "source": [
    "Embeddings can be used to find word analogies.\n",
    "Let's try it:\n",
    "1.   Man : Woman  ::  King : _____\n",
    "2.  Germany: Berlin :: France : _____\n",
    "3.  Leaf : Tree  ::  Petal : _____\n",
    "\n",
    "\n",
    "\n"
   ]
  },
  {
   "cell_type": "code",
   "execution_count": null,
   "metadata": {
    "execution": {}
   },
   "outputs": [],
   "source": [
    "## Use get_analogies() funnction.\n",
    "# The words have to be in the order Positive, negative,  Positve\n",
    "\n",
    "# Man : Woman  ::  King : _____\n",
    "# Positive=(woman, king), Negative=(man)\n",
    "print(ft_en_vectors.get_analogies(\"woman\", \"man\", \"king\", 1))\n",
    "\n",
    "# Germany: Berlin :: France : ______\n",
    "# Positive=(berlin, frannce), Negative=(germany)\n",
    "print(ft_en_vectors.get_analogies(\"berlin\", \"germany\", \"france\", 1))\n",
    "\n",
    "# Leaf : Tree  ::  Petal : _____\n",
    "# Positive=(tree, petal), Negative=(leaf)\n",
    "print(ft_en_vectors.get_analogies(\"tree\", \"leaf\", \"petal\", 1))"
   ]
  },
  {
   "cell_type": "markdown",
   "metadata": {
    "execution": {}
   },
   "source": [
    "But, does it always work?\n",
    "\n",
    "\n",
    "1.   Poverty : Wealth  :: Sickness : _____\n",
    "2.   train : board :: horse : _____"
   ]
  },
  {
   "cell_type": "code",
   "execution_count": null,
   "metadata": {
    "execution": {}
   },
   "outputs": [],
   "source": [
    "# Poverty : Wealth  :: Sickness : _____\n",
    "print(ft_en_vectors.get_analogies(\"wealth\", \"poverty\", \"sickness\", 1))\n",
    "\n",
    "# train : board :: horse : _____\n",
    "print(ft_en_vectors.get_analogies(\"board\", \"train\", \"horse\", 1))"
   ]
  },
  {
   "cell_type": "markdown",
   "metadata": {},
   "source": [
    "####  Submit your feedback\n"
   ]
  },
  {
   "cell_type": "code",
   "execution_count": null,
   "metadata": {
    "cellView": "form",
    "execution": {},
    "tags": [
     "hide-input"
    ]
   },
   "outputs": [],
   "source": [
    "# @title Submit your feedback\n",
    "content_review(f\"{feedback_prefix}_Explore_homonyms_Interactive_Demo\")"
   ]
  },
  {
   "cell_type": "markdown",
   "metadata": {
    "execution": {}
   },
   "source": [
    "## Section 2.3: Neural Net with word embeddings"
   ]
  },
  {
   "cell_type": "markdown",
   "metadata": {},
   "source": [
    "###  Video 6: Using Embeddings\n"
   ]
  },
  {
   "cell_type": "code",
   "execution_count": null,
   "metadata": {
    "cellView": "form",
    "execution": {},
    "tags": [
     "remove-input"
    ]
   },
   "outputs": [],
   "source": [
    "# @title Video 6: Using Embeddings\n",
    "from ipywidgets import widgets\n",
    "from IPython.display import YouTubeVideo\n",
    "from IPython.display import IFrame\n",
    "from IPython.display import display\n",
    "\n",
    "\n",
    "class PlayVideo(IFrame):\n",
    "  def __init__(self, id, source, page=1, width=400, height=300, **kwargs):\n",
    "    self.id = id\n",
    "    if source == 'Bilibili':\n",
    "      src = f'https://player.bilibili.com/player.html?bvid={id}&page={page}'\n",
    "    elif source == 'Osf':\n",
    "      src = f'https://mfr.ca-1.osf.io/render?url=https://osf.io/download/{id}/?direct%26mode=render'\n",
    "    super(PlayVideo, self).__init__(src, width, height, **kwargs)\n",
    "\n",
    "\n",
    "def display_videos(video_ids, W=400, H=300, fs=1):\n",
    "  tab_contents = []\n",
    "  for i, video_id in enumerate(video_ids):\n",
    "    out = widgets.Output()\n",
    "    with out:\n",
    "      if video_ids[i][0] == 'Youtube':\n",
    "        video = YouTubeVideo(id=video_ids[i][1], width=W,\n",
    "                             height=H, fs=fs, rel=0)\n",
    "        print(f'Video available at https://youtube.com/watch?v={video.id}')\n",
    "      else:\n",
    "        video = PlayVideo(id=video_ids[i][1], source=video_ids[i][0], width=W,\n",
    "                          height=H, fs=fs, autoplay=False)\n",
    "        if video_ids[i][0] == 'Bilibili':\n",
    "          print(f'Video available at https://www.bilibili.com/video/{video.id}')\n",
    "        elif video_ids[i][0] == 'Osf':\n",
    "          print(f'Video available at https://osf.io/{video.id}')\n",
    "      display(video)\n",
    "    tab_contents.append(out)\n",
    "  return tab_contents\n",
    "\n",
    "\n",
    "video_ids = [('Youtube', '9ujUgNoPeF0'), ('Bilibili', 'BV1cU4y1Q7Fh')]\n",
    "tab_contents = display_videos(video_ids, W=730, H=410)\n",
    "tabs = widgets.Tab()\n",
    "tabs.children = tab_contents\n",
    "for i in range(len(tab_contents)):\n",
    "  tabs.set_title(i, video_ids[i][0])\n",
    "display(tabs)"
   ]
  },
  {
   "cell_type": "markdown",
   "metadata": {},
   "source": [
    "###  Submit your feedback\n"
   ]
  },
  {
   "cell_type": "code",
   "execution_count": null,
   "metadata": {
    "cellView": "form",
    "execution": {},
    "tags": [
     "hide-input"
    ]
   },
   "outputs": [],
   "source": [
    "# @title Submit your feedback\n",
    "content_review(f\"{feedback_prefix}_Using_Embeddings_Video\")"
   ]
  },
  {
   "cell_type": "markdown",
   "metadata": {
    "execution": {}
   },
   "source": [
    "Training context-oblivious word embeddings is relatively cheap, but most people still use pre-trained word embeddings. After we cover context-sensitive word embeddings, we'll see how to \"fine tune\" embeddings (adjust them to the task at hand).\n",
    "\n",
    "Let's use the pretrained FastText embeddings to train a neural network on the IMDB dataset.\n",
    "\n",
    "The data consists of reviews and sentiments attached to it, and it is a binary classification task."
   ]
  },
  {
   "cell_type": "markdown",
   "metadata": {
    "execution": {}
   },
   "source": [
    "###  Coding Exercise 1: Simple feed forward net\n",
    "\n",
    "Define a vanilla neural network with linear layers. Then average the word embeddings to get an embedding for the entire review. The neural net will have one hidden layer of size 128."
   ]
  },
  {
   "cell_type": "code",
   "execution_count": null,
   "metadata": {
    "execution": {}
   },
   "outputs": [],
   "source": [
    "class NeuralNet(nn.Module):\n",
    "  \"\"\" A vanilla neural network. \"\"\"\n",
    "  def __init__(self, output_size, hidden_size, vocab_size,\n",
    "               embedding_length, word_embeddings):\n",
    "    \"\"\"\n",
    "    Constructs a vanilla Neural Network Instance.\n",
    "\n",
    "    Args:\n",
    "      batch_size: Integer\n",
    "        Specifies probability of dropout hyperparameter\n",
    "      output_size: Integer\n",
    "        Specifies the size of output vector\n",
    "      hidden_size: Integer\n",
    "        Specifies the size of hidden layer\n",
    "      vocab_size: Integer\n",
    "        Specifies the size of the vocabulary\n",
    "        i.e. the number of tokens in the vocabulary\n",
    "      embedding_length: Integer\n",
    "        Specifies the size of the embedding vector\n",
    "      word_embeddings\n",
    "        Specifies the weights to create embeddings from\n",
    "        voabulary.\n",
    "\n",
    "    Returns:\n",
    "      Nothing\n",
    "    \"\"\"\n",
    "    super(NeuralNet, self).__init__()\n",
    "\n",
    "    self.output_size = output_size\n",
    "    self.hidden_size = hidden_size\n",
    "    self.vocab_size = vocab_size\n",
    "    self.embedding_length = embedding_length\n",
    "\n",
    "    # self.word_embeddings = nn.EmbeddingBag(vocab_size, embedding_length, sparse=False)\n",
    "    self.word_embeddings = nn.EmbeddingBag.from_pretrained(embedding_fasttext.vectors)\n",
    "    self.word_embeddings.weight.requiresGrad = False\n",
    "    self.fc1 = nn.Linear(embedding_length, hidden_size)\n",
    "    self.fc2 = nn.Linear(hidden_size, output_size)\n",
    "    self.init_weights()\n",
    "\n",
    "  def init_weights(self):\n",
    "      initrange = 0.5\n",
    "      # self.word_embeddings.weight.data.uniform_(-initrange, initrange)\n",
    "      self.fc1.weight.data.uniform_(-initrange, initrange)\n",
    "      self.fc1.bias.data.zero_()\n",
    "      self.fc2.weight.data.uniform_(-initrange, initrange)\n",
    "      self.fc2.bias.data.zero_()\n",
    "\n",
    "  def forward(self, inputs, offsets):\n",
    "    \"\"\"\n",
    "    Compute the final labels by taking tokens as input.\n",
    "\n",
    "    Args:\n",
    "      inputs: Tensor\n",
    "        Tensor of tokens in the text\n",
    "\n",
    "    Returns:\n",
    "      out: Tensor\n",
    "        Final prediction Tensor\n",
    "    \"\"\"\n",
    "    embedded = self.word_embeddings(inputs, offsets)  # convert text to embeddings\n",
    "    #################################################\n",
    "    # Implement a vanilla neural network\n",
<<<<<<< HEAD
    "    # raise NotImplementedError(\"Neural Net `forward`\")\n",
    "    #################################################\n",
    "    # Pass the embeddings through the neural net\n",
    "    # Use ReLU as the non-linearity\n",
    "    \n",
    "    x = F.relu(self.fc1(embedded))\n",
    "    x = self.fc2(x)\n",
=======
    "    raise NotImplementedError(\"Neural Net `forward`\")\n",
    "    #################################################\n",
    "    # Pass the embeddings through the neural net\n",
    "    # Use ReLU as the non-linearity\n",
    "    x = ...\n",
    "    x = ...\n",
    "    x = ...\n",
>>>>>>> eb2ec683c55123c5e0ee55a184cc40d1f272e801
    "    output = F.log_softmax(x, dim=1)\n",
    "    return output"
   ]
  },
  {
   "cell_type": "markdown",
   "metadata": {
    "colab_type": "text",
    "execution": {}
   },
   "source": [
    "[*Click for solution*](https://github.com/NeuromatchAcademy/course-content-dl/tree/main/tutorials/W3D1_TimeSeriesAndNaturalLanguageProcessing/solutions/W3D1_Tutorial1_Solution_ea214171.py)\n",
    "\n"
   ]
  },
  {
   "cell_type": "markdown",
   "metadata": {},
   "source": [
    "####  Submit your feedback\n"
   ]
  },
  {
   "cell_type": "code",
   "execution_count": null,
   "metadata": {
    "cellView": "form",
    "execution": {},
    "tags": [
     "hide-input"
    ]
   },
   "outputs": [],
   "source": [
    "# @title Submit your feedback\n",
    "content_review(f\"{feedback_prefix}_Simple_feed_forward_net_Exercise\")"
   ]
  },
  {
   "cell_type": "code",
   "execution_count": null,
   "metadata": {
    "cellView": "form",
    "execution": {},
    "tags": [
     "hide-input"
    ]
   },
   "outputs": [],
   "source": [
    "# @markdown ### Helper functions\n",
    "\n",
    "# @markdown - `train(model, device, train_iter, valid_iter, epochs, learning_rate)`\n",
    "\n",
    "# @markdown - `test(model,  device, test_iter)`\n",
    "\n",
    "# @markdown - `load_dataset(emb_vectors, seed, batch_size=32)`\n",
    "\n",
    "# @markdown - `plot_train_val(x, train, val, train_label, val_label, title)`\n",
    "\n",
    "\n",
    "# Training\n",
    "import time\n",
    "\n",
    "def train(dataloader):\n",
    "  model.train()\n",
    "  total_acc, total_count = 0, 0\n",
    "  running_loss = 0\n",
    "  log_interval = 500\n",
    "  start_time = time.time()\n",
    "\n",
    "  for idx, (label, text, offsets) in enumerate(dataloader):\n",
    "    optimizer.zero_grad()\n",
    "    predicted_label = model(text, offsets)\n",
    "    loss = criterion(predicted_label, label)\n",
    "    loss.backward()\n",
    "    torch.nn.utils.clip_grad_norm_(model.parameters(), 0.1)\n",
    "    optimizer.step()\n",
    "    total_acc += (predicted_label.argmax(1) == label).sum().item()\n",
    "    total_count += label.size(0)\n",
    "    if idx % log_interval == 0 and idx > 0:\n",
    "      elapsed = time.time() - start_time\n",
    "      print(f'| epoch {epoch:3d} | {idx:5d}/{len(dataloader):5d} batches '\n",
    "            f'| accuracy {total_acc/total_count:8.3f}')\n",
    "\n",
    "      start_time = time.time()\n",
    "\n",
    "    running_loss += loss.item()\n",
    "  return total_acc/total_count, loss\n",
    "\n",
    "\n",
    "def evaluate(dataloader):\n",
    "  model.eval()\n",
    "  total_acc, total_count = 0, 0\n",
    "  running_loss = 0\n",
    "\n",
    "  with torch.no_grad():\n",
    "    for idx, (label, text, offsets) in enumerate(dataloader):\n",
    "      predicted_label = model(text, offsets)\n",
    "      loss = criterion(predicted_label, label)\n",
    "      total_acc += (predicted_label.argmax(1) == label).sum().item()\n",
    "      total_count += label.size(0)\n",
    "      running_loss += loss\n",
    "  return total_acc/total_count, loss\n",
    "\n",
    "\n",
    "def load_dataset(train_iter, device='cpu', seed=0, batch_size=32, valid_split=0.7):\n",
    "\n",
    "  # Prepare data processing pipelines\n",
    "  tokenizer = get_tokenizer('basic_english')\n",
    "\n",
    "  def yield_tokens(data_iter):\n",
    "      for _, text in data_iter:\n",
    "          yield tokenizer(text)\n",
    "\n",
    "  # Create a vocabulary block\n",
    "  vocab = build_vocab_from_iterator(yield_tokens(train_iter), specials=[\"<unk>\"])\n",
    "  vocab.set_default_index(vocab[\"<unk>\"])\n",
    "\n",
    "  # Prepare the text processing pipeline with the tokenizer and vocabulary\n",
    "  text_pipeline = lambda x: vocab(tokenizer(x))\n",
    "  label_pipeline = lambda x: int(x) - 1\n",
    "\n",
    "  def collate_batch(batch):\n",
    "      label_list, text_list, offsets = [], [], [0]\n",
    "      for (_label, _text) in batch:\n",
    "          label_list.append(label_pipeline(_label))\n",
    "          processed_text = torch.tensor(text_pipeline(_text), dtype=torch.int64)\n",
    "          text_list.append(processed_text)\n",
    "          offsets.append(processed_text.size(0))\n",
    "      label_list = torch.tensor(label_list, dtype=torch.int64)\n",
    "      offsets = torch.tensor(offsets[:-1]).cumsum(dim=0)\n",
    "      text_list = torch.cat(text_list)\n",
    "      return label_list.to(device), text_list.to(device), offsets.to(device)\n",
    "\n",
    "  # Generate data batch and iterator and split the data\n",
    "  train_iter, test_iter = AG_NEWS()\n",
    "  train_dataset = to_map_style_dataset(train_iter)\n",
    "  test_dataset = to_map_style_dataset(test_iter)\n",
    "  num_train = int(len(train_dataset) * valid_split)\n",
    "  num_valid = len(train_dataset) - num_train\n",
    "  generator = torch.Generator().manual_seed(seed)\n",
    "  split_train_, split_valid_ = random_split(train_dataset, [num_train, num_valid], generator=generator)\n",
    "\n",
    "  train_dataloader = DataLoader(split_train_, batch_size=batch_size,\n",
    "                                shuffle=True, collate_fn=collate_batch)\n",
    "  valid_dataloader = DataLoader(split_valid_, batch_size=batch_size,\n",
    "                                shuffle=True, collate_fn=collate_batch)\n",
    "  test_dataloader = DataLoader(test_dataset, batch_size=batch_size,\n",
    "                               shuffle=True, collate_fn=collate_batch)\n",
    "\n",
    "  return vocab, train_dataloader, valid_dataloader, test_dataloader\n",
    "\n",
    "\n",
    "# Plotting\n",
    "def plot_train_val(x, train, val, train_label, val_label, title, ylabel):\n",
    "  plt.plot(x, train, label=train_label)\n",
    "  plt.plot(x, val, label=val_label)\n",
    "  plt.legend()\n",
    "  plt.xlabel('epoch')\n",
    "  plt.ylabel(ylabel)\n",
    "  plt.title(title)\n",
    "  plt.show()\n",
    "\n",
    "\n",
    "# Dataset\n",
    "def tokenize(sentences):\n",
    "  # Tokenize the sentence\n",
    "  # from nltk.tokenize library use word_tokenize\n",
    "  token = word_tokenize(sentences)\n",
    "  return token"
   ]
  },
  {
   "cell_type": "code",
   "execution_count": null,
   "metadata": {
    "cellView": "form",
    "execution": {},
    "tags": [
     "hide-input"
    ]
   },
   "outputs": [],
   "source": [
    "# @markdown ### Download embeddings and load the dataset\n",
    "\n",
    "# @markdown This will load 300 dim FastText embeddings.\n",
    "\n",
    "# @markdown It will take around 3-4 minutes.\n",
    "\n",
    "embedding_fasttext = FastText('simple')\n",
    "\n",
    "# load the training data\n",
    "VOCAB, train_data, valid_data, test_data = load_dataset(iter(AG_NEWS(split='train')), device=DEVICE, seed=SEED, batch_size=32, valid_split=0.7)"
   ]
  },
  {
   "cell_type": "code",
   "execution_count": null,
   "metadata": {
    "execution": {}
   },
   "outputs": [],
   "source": [
    "train_iter = AG_NEWS(split='train')\n",
    "num_class = len(set([label for (label, text) in train_iter]))\n",
    "vocab_size = len(VOCAB)\n",
    "hidden_size = 128\n",
    "embedding_length = 300\n",
    "model = NeuralNet(num_class, hidden_size, vocab_size, embedding_length, embedding_fasttext).to(DEVICE)"
   ]
  },
  {
   "cell_type": "code",
   "execution_count": null,
   "metadata": {
    "execution": {}
   },
   "outputs": [],
   "source": [
    "# Hyperparameters\n",
    "EPOCHS = 10  # epoch\n",
    "LR = 5  # learning rate\n",
    "BATCH_SIZE = 64  # batch size for training\n",
    "\n",
    "criterion = torch.nn.CrossEntropyLoss()\n",
    "optimizer = torch.optim.SGD(model.parameters(), lr=LR)\n",
    "scheduler = torch.optim.lr_scheduler.StepLR(optimizer, 1.0, gamma=0.1)\n",
    "total_accu = None\n",
    "\n",
    "train_loss, val_loss = [], []\n",
    "train_acc, val_acc = [], []\n",
    "\n",
    "for epoch in range(1, EPOCHS + 1):\n",
    "    epoch_start_time = time.time()\n",
    "    accu_train, loss_train = train(train_data)\n",
    "    accu_val, loss_val = evaluate(valid_data)\n",
    "    train_loss.append(loss_train)\n",
    "    val_loss.append(loss_val)\n",
    "    train_acc.append(accu_train)\n",
    "    val_acc.append(accu_val)\n",
    "\n",
    "    if total_accu is not None and total_accu > accu_val:\n",
    "      scheduler.step()\n",
    "    else:\n",
    "       total_accu = accu_val\n",
    "    print('-' * 59)\n",
    "    print('| end of epoch {:3d} | time: {:5.2f}s | '\n",
    "          'valid accuracy {:8.3f} '.format(epoch,\n",
    "                                           time.time() - epoch_start_time,\n",
    "                                           accu_val))\n",
    "    print('-' * 59)"
   ]
  },
  {
   "cell_type": "code",
   "execution_count": null,
   "metadata": {
    "execution": {}
   },
   "outputs": [],
   "source": [
    "print('Checking the results of test dataset.')\n",
    "accu_test, loss_test = evaluate(test_data)\n",
    "print('test accuracy {:8.3f}'.format(accu_test))"
   ]
  },
  {
   "cell_type": "code",
   "execution_count": null,
   "metadata": {
    "execution": {}
   },
   "outputs": [],
   "source": [
    "plot_train_val(np.arange(EPOCHS), train_acc, val_acc,\n",
    "               'training_accuracy', 'validation_accuracy',\n",
    "               'Neural Net on AG_NEWS text classification', 'accuracy')\n",
    "plot_train_val(np.arange(EPOCHS), [x.detach().cpu().numpy() for x in train_loss],\n",
    "               [x.detach().cpu().numpy() for x in val_loss],\n",
    "               'training_loss', 'validation_loss',\n",
    "               'Neural Net on AG_NEWS text classification', 'loss')"
   ]
  },
  {
   "cell_type": "code",
   "execution_count": null,
   "metadata": {
    "execution": {}
   },
   "outputs": [],
   "source": [
    "ag_news_label = {1: \"World\",\n",
    "                 2: \"Sports\",\n",
    "                 3: \"Business\",\n",
    "                 4: \"Sci/Tec\"}\n",
    "\n",
    "# Prepare data processing pipelines\n",
    "tokenizer = get_tokenizer('basic_english')\n",
    "\n",
    "def yield_tokens(data_iter):\n",
    "    for _, text in data_iter:\n",
    "        yield tokenizer(text)\n",
    "\n",
    "# Create a vocabulary block\n",
    "vocab = build_vocab_from_iterator(yield_tokens(train_iter), specials=[\"<unk>\"])\n",
    "vocab.set_default_index(vocab[\"<unk>\"])\n",
    "\n",
    "# Prepare the text processing pipeline with the tokenizer and vocabulary\n",
    "text_pipeline = lambda x: vocab(tokenizer(x))\n",
    "label_pipeline = lambda x: int(x) - 1\n",
    "\n",
    "def predict(text, text_pipeline):\n",
    "  with torch.no_grad():\n",
    "    text = torch.tensor(text_pipeline(text))\n",
    "    output = model(text, torch.tensor([0]))\n",
    "    return output.argmax(1).item() + 1\n",
    "\n",
    "ex_text_str = \"MEMPHIS, Tenn. – Four days ago, Jon Rahm was \\\n",
    "    enduring the season’s worst weather conditions on Sunday at The \\\n",
    "    Open on his way to a closing 75 at Royal Portrush, which \\\n",
    "    considering the wind and the rain was a respectable showing. \\\n",
    "    Thursday’s first round at the WGC-FedEx St. Jude Invitational \\\n",
    "    was another story. With temperatures in the mid-80s and hardly any \\\n",
    "    wind, the Spaniard was 13 strokes better in a flawless round. \\\n",
    "    Thanks to his best putting performance on the PGA Tour, Rahm \\\n",
    "    finished with an 8-under 62 for a three-stroke lead, which \\\n",
    "    was even more impressive considering he’d never played the \\\n",
    "    front nine at TPC Southwind.\"\n",
    "\n",
    "model = model.to(\"cpu\")\n",
    "\n",
    "print(f\"This is a {ag_news_label[predict(ex_text_str, text_pipeline)]} news\")"
   ]
  },
  {
   "cell_type": "markdown",
   "metadata": {
    "execution": {}
   },
   "source": [
    "---\n",
    "# Summary\n",
    "\n",
    "In this tutorial, we introduced how to process time series by taking language as an example. To process time series, we should convert them into embeddings. We can first tokenize the text words and then create context-oblivious or context-dependent embeddings. Finally, we saw how these word embeddings could be processed for applications such as text classification.\n",
    "\n",
    "<br>\n",
    "\n",
    "If you want to learn about **Multilingual Embeddings** see the Bonus tutorial on [colab](https://colab.research.google.com/github/NeuromatchAcademy/course-content-dl/blob/main/tutorials/W3D1_TimeSeriesAndNaturalLanguageProcessing/W3D1_Tutorial3.ipynb) or [kaggle](https://kaggle.com/kernels/welcome?src=https://raw.githubusercontent.com/NeuromatchAcademy/course-content-dl/main/tutorials/W3D1_TimeSeriesAndNaturalLanguageProcessing/W3D1_Tutorial3.ipynb). But first, we suggest completing the tutorial 2!"
   ]
  }
 ],
 "metadata": {
  "accelerator": "GPU",
  "colab": {
   "collapsed_sections": [],
   "gpuType": "T4",
   "include_colab_link": true,
   "name": "W3D1_Tutorial1",
   "provenance": [],
   "toc_visible": true
  },
  "gpuClass": "standard",
  "kernel": {
   "display_name": "Python 3",
   "language": "python",
   "name": "python3"
  },
  "kernelspec": {
<<<<<<< HEAD
   "display_name": "base",
   "language": "python",
   "name": "python3"
  },
  "language_info": {
   "codemirror_mode": {
    "name": "ipython",
    "version": 3
   },
   "file_extension": ".py",
   "mimetype": "text/x-python",
   "name": "python",
   "nbconvert_exporter": "python",
   "pygments_lexer": "ipython3",
   "version": "3.11.3"
=======
   "display_name": "Python 3",
   "name": "python3"
  },
  "language_info": {
   "name": "python"
>>>>>>> eb2ec683c55123c5e0ee55a184cc40d1f272e801
  }
 },
 "nbformat": 4,
 "nbformat_minor": 0
<<<<<<< HEAD
}
=======
}
>>>>>>> eb2ec683c55123c5e0ee55a184cc40d1f272e801
