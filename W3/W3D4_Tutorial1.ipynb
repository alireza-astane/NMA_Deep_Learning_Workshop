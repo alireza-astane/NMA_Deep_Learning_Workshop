{
 "cells": [
  {
   "cell_type": "markdown",
   "metadata": {
    "colab_type": "text",
    "execution": {},
    "id": "view-in-github"
   },
   "source": [
    "<a href=\"https://colab.research.google.com/github/NeuromatchAcademy/course-content-dl/blob/main/tutorials/W3D4_BasicReinforcementLearning/student/W3D4_Tutorial1.ipynb\" target=\"_blank\"><img alt=\"Open In Colab\" src=\"https://colab.research.google.com/assets/colab-badge.svg\"/></a>   <a href=\"https://kaggle.com/kernels/welcome?src=https://raw.githubusercontent.com/NeuromatchAcademy/course-content-dl/main/tutorials/W3D4_BasicReinforcementLearning/student/W3D4_Tutorial1.ipynb\" target=\"_blank\"><img alt=\"Open in Kaggle\" src=\"https://kaggle.com/static/images/open-in-kaggle.svg\"/></a>"
   ]
  },
  {
   "cell_type": "markdown",
   "metadata": {
    "execution": {}
   },
   "source": [
    "# Tutorial 1: Basic Reinforcement Learning\n",
    "\n",
    "**Week 3, Day 4: Basic Reinforcement Learning**\n",
    "\n",
    "**By Neuromatch Academy**\n",
    "\n",
    "__Content creators:__ Pablo Samuel Castro\n",
    "\n",
    "__Content reviewers:__ Shaonan Wang, Xiaomei Mi, Julia Costacurta, Dora Zhiyu Yang, Adrita Das\n",
    "\n",
    "__Content editors:__ Shaonan Wang\n",
    "\n",
    "__Production editors:__ Spiros Chavlis"
   ]
  },
  {
   "cell_type": "markdown",
   "metadata": {
    "execution": {}
   },
   "source": [
    "---\n",
    "# Tutorial Objectives\n",
    "\n",
    "Reinforcement Learning (RL) is a powerful framework for defining and solving problems where an agent learns to take actions that maximize its reward. Essentially, an agent observes the current state of the world, selects an action, receives a reward, and uses this feedback to improve its future actions. RL provides a formal, optimal way of describing this learning process, which was initially derived from studies of animal behavior and later validated by observations of the brain in humans and animals.\n",
    "\n",
    "This tutorial will introduce you to the basic concepts of RL using a simple example. By the end, you'll have a better understanding of how RL works and how it can be applied to solve a wide range of problems."
   ]
  },
  {
   "cell_type": "markdown",
   "metadata": {},
   "source": [
    "\n"
   ]
  },
  {
   "cell_type": "code",
<<<<<<< HEAD
   "execution_count": 1,
=======
   "execution_count": null,
>>>>>>> eb2ec683c55123c5e0ee55a184cc40d1f272e801
   "metadata": {
    "cellView": "form",
    "execution": {},
    "tags": [
     "remove-input"
    ]
   },
<<<<<<< HEAD
   "outputs": [
    {
     "data": {
      "application/vnd.jupyter.widget-view+json": {
       "model_id": "6b1c8483fc734ef7abde1cc3e864c71f",
       "version_major": 2,
       "version_minor": 0
      },
      "text/plain": [
       "Output()"
      ]
     },
     "metadata": {},
     "output_type": "display_data"
    }
   ],
=======
   "outputs": [],
>>>>>>> eb2ec683c55123c5e0ee55a184cc40d1f272e801
   "source": [
    "# @markdown\n",
    "from IPython.display import IFrame\n",
    "from ipywidgets import widgets\n",
    "out = widgets.Output()\n",
    "with out:\n",
    "    print(f\"If you want to download the slides: https://osf.io/download/ztgws/\")\n",
    "    display(IFrame(src=f\"https://mfr.ca-1.osf.io/render?url=https://osf.io/ztgws/?direct%26mode=render%26action=download%26mode=render\", width=730, height=410))\n",
    "display(out)"
   ]
  },
  {
   "cell_type": "markdown",
   "metadata": {
    "execution": {}
   },
   "source": [
    "---\n",
    "# Setup\n",
    "\n",
    "This is a GPU free notebook!"
   ]
  },
  {
   "cell_type": "markdown",
   "metadata": {},
   "source": [
    "##  Install and import feedback gadget\n"
   ]
  },
  {
   "cell_type": "code",
<<<<<<< HEAD
   "execution_count": 2,
=======
   "execution_count": null,
>>>>>>> eb2ec683c55123c5e0ee55a184cc40d1f272e801
   "metadata": {
    "cellView": "form",
    "execution": {},
    "tags": [
     "hide-input"
    ]
   },
   "outputs": [],
   "source": [
    "# @title Install and import feedback gadget\n",
    "\n",
    "!pip3 install vibecheck datatops --quiet\n",
    "\n",
    "from vibecheck import DatatopsContentReviewContainer\n",
    "def content_review(notebook_section: str):\n",
    "    return DatatopsContentReviewContainer(\n",
    "        \"\",  # No text prompt\n",
    "        notebook_section,\n",
    "        {\n",
    "            \"url\": \"https://pmyvdlilci.execute-api.us-east-1.amazonaws.com/klab\",\n",
    "            \"name\": \"neuromatch_dl\",\n",
    "            \"user_key\": \"f379rz8y\",\n",
    "        },\n",
    "    ).render()\n",
    "\n",
    "\n",
    "feedback_prefix = \"W3D4_T1\""
   ]
  },
  {
   "cell_type": "code",
<<<<<<< HEAD
   "execution_count": 3,
=======
   "execution_count": null,
>>>>>>> eb2ec683c55123c5e0ee55a184cc40d1f272e801
   "metadata": {
    "cellView": "both",
    "execution": {}
   },
   "outputs": [],
   "source": [
    "# Imports\n",
    "import numpy as np\n",
    "import matplotlib.pyplot as plt\n",
    "from typing import Optional, Tuple"
   ]
  },
  {
   "cell_type": "markdown",
   "metadata": {
    "execution": {}
   },
   "source": [
    "---\n",
    "# Section 1: A history of RL\n",
    "\n",
    "In this section, we will briefly overview the history of reinforcement learning (RL) in reverse chronological order. This will help motivate why RL is an interesting topic to study!"
   ]
  },
  {
   "cell_type": "markdown",
   "metadata": {},
   "source": [
    "##  Video 1: Intro to RL\n"
   ]
  },
  {
   "cell_type": "code",
<<<<<<< HEAD
   "execution_count": 4,
=======
   "execution_count": null,
>>>>>>> eb2ec683c55123c5e0ee55a184cc40d1f272e801
   "metadata": {
    "cellView": "form",
    "execution": {},
    "tags": [
     "remove-input"
    ]
   },
<<<<<<< HEAD
   "outputs": [
    {
     "data": {
      "application/vnd.jupyter.widget-view+json": {
       "model_id": "e054a923605c42a59e5473bf0b60fec9",
       "version_major": 2,
       "version_minor": 0
      },
      "text/plain": [
       "Tab(children=(Output(), Output()), selected_index=0, titles=('Youtube', 'Bilibili'))"
      ]
     },
     "metadata": {},
     "output_type": "display_data"
    }
   ],
=======
   "outputs": [],
>>>>>>> eb2ec683c55123c5e0ee55a184cc40d1f272e801
   "source": [
    "# @title Video 1: Intro to RL\n",
    "from ipywidgets import widgets\n",
    "from IPython.display import YouTubeVideo\n",
    "from IPython.display import IFrame\n",
    "from IPython.display import display\n",
    "\n",
    "\n",
    "class PlayVideo(IFrame):\n",
    "  def __init__(self, id, source, page=1, width=400, height=300, **kwargs):\n",
    "    self.id = id\n",
    "    if source == 'Bilibili':\n",
    "      src = f'https://player.bilibili.com/player.html?bvid={id}&page={page}'\n",
    "    elif source == 'Osf':\n",
    "      src = f'https://mfr.ca-1.osf.io/render?url=https://osf.io/download/{id}/?direct%26mode=render'\n",
    "    super(PlayVideo, self).__init__(src, width, height, **kwargs)\n",
    "\n",
    "\n",
    "def display_videos(video_ids, W=400, H=300, fs=1):\n",
    "  tab_contents = []\n",
    "  for i, video_id in enumerate(video_ids):\n",
    "    out = widgets.Output()\n",
    "    with out:\n",
    "      if video_ids[i][0] == 'Youtube':\n",
    "        video = YouTubeVideo(id=video_ids[i][1], width=W,\n",
    "                             height=H, fs=fs, rel=0)\n",
    "        print(f'Video available at https://youtube.com/watch?v={video.id}')\n",
    "      else:\n",
    "        video = PlayVideo(id=video_ids[i][1], source=video_ids[i][0], width=W,\n",
    "                          height=H, fs=fs, autoplay=False)\n",
    "        if video_ids[i][0] == 'Bilibili':\n",
    "          print(f'Video available at https://www.bilibili.com/video/{video.id}')\n",
    "        elif video_ids[i][0] == 'Osf':\n",
    "          print(f'Video available at https://osf.io/{video.id}')\n",
    "      display(video)\n",
    "    tab_contents.append(out)\n",
    "  return tab_contents\n",
    "\n",
    "\n",
    "video_ids = [('Youtube', 'x-NyX8bRsTQ'), ('Bilibili', 'BV1wk4y1M7ae')]\n",
    "tab_contents = display_videos(video_ids, W=730, H=410)\n",
    "tabs = widgets.Tab()\n",
    "tabs.children = tab_contents\n",
    "for i in range(len(tab_contents)):\n",
    "  tabs.set_title(i, video_ids[i][0])\n",
    "display(tabs)"
   ]
  },
  {
   "cell_type": "markdown",
   "metadata": {},
   "source": [
    "##  Submit your feedback\n"
   ]
  },
  {
   "cell_type": "code",
<<<<<<< HEAD
   "execution_count": 5,
=======
   "execution_count": null,
>>>>>>> eb2ec683c55123c5e0ee55a184cc40d1f272e801
   "metadata": {
    "cellView": "form",
    "execution": {},
    "tags": [
     "hide-input"
    ]
   },
<<<<<<< HEAD
   "outputs": [
    {
     "data": {
      "application/vnd.jupyter.widget-view+json": {
       "model_id": "656330cc2f724e8abe79377fbabe3112",
       "version_major": 2,
       "version_minor": 0
      },
      "text/plain": [
       "VBox(children=(VBox(children=(HBox(children=(Button(description='🙂', layout=Layout(height='auto', padding='0.5…"
      ]
     },
     "metadata": {},
     "output_type": "display_data"
    }
   ],
=======
   "outputs": [],
>>>>>>> eb2ec683c55123c5e0ee55a184cc40d1f272e801
   "source": [
    "# @title Submit your feedback\n",
    "content_review(f\"{feedback_prefix}_Intro_to_RL_Video\")"
   ]
  },
  {
   "cell_type": "markdown",
   "metadata": {
    "execution": {}
   },
   "source": [
    "---\n",
    "# Section 2: What is RL\n",
    "\n",
    "Using a very simple problem, we will give a high-level overview of what RL is and what are the main components that define the problem formulation.\n",
    "\n",
    "**Extra:** If you'd like to read more, the canonical reference for RL is Sutton & Barto's [Reinforcement Learning book](http://incompleteideas.net/book/the-book-2nd.html)."
   ]
  },
  {
   "cell_type": "markdown",
   "metadata": {
    "execution": {}
   },
   "source": [
    "## Section 2.1: Grid World\n",
    "\n",
    "GridWorlds are very simple \"navigation\" problems that can be very useful for motivating RL problems and solutions. They are commonly used in RL research, so it's a good idea to get familiar with them!\n",
    "\n",
    "We will use a simple GridWorld problem throughout this tutorial: an empty room with a reward at one corner.\n",
    "\n",
    "An example below defines a second GridWorld that is a little more difficult. Feel free to create your own!\n",
    "\n",
    "**Extra:** If you'd like to play with RL in GridWorlds on the web, you can check out this [GridWorld playground web app](https://gridworld-playground.glitch.me/)."
   ]
  },
  {
   "cell_type": "markdown",
   "metadata": {},
   "source": [
    "###  Video 2: Grid World\n"
   ]
  },
  {
   "cell_type": "code",
<<<<<<< HEAD
   "execution_count": 6,
=======
   "execution_count": null,
>>>>>>> eb2ec683c55123c5e0ee55a184cc40d1f272e801
   "metadata": {
    "cellView": "form",
    "execution": {},
    "tags": [
     "remove-input"
    ]
   },
<<<<<<< HEAD
   "outputs": [
    {
     "data": {
      "application/vnd.jupyter.widget-view+json": {
       "model_id": "524ac26b3cea4ab58a644a9f807dabb3",
       "version_major": 2,
       "version_minor": 0
      },
      "text/plain": [
       "Tab(children=(Output(), Output()), selected_index=0, titles=('Youtube', 'Bilibili'))"
      ]
     },
     "metadata": {},
     "output_type": "display_data"
    }
   ],
=======
   "outputs": [],
>>>>>>> eb2ec683c55123c5e0ee55a184cc40d1f272e801
   "source": [
    "# @title Video 2: Grid World\n",
    "from ipywidgets import widgets\n",
    "from IPython.display import YouTubeVideo\n",
    "from IPython.display import IFrame\n",
    "from IPython.display import display\n",
    "\n",
    "\n",
    "class PlayVideo(IFrame):\n",
    "  def __init__(self, id, source, page=1, width=400, height=300, **kwargs):\n",
    "    self.id = id\n",
    "    if source == 'Bilibili':\n",
    "      src = f'https://player.bilibili.com/player.html?bvid={id}&page={page}'\n",
    "    elif source == 'Osf':\n",
    "      src = f'https://mfr.ca-1.osf.io/render?url=https://osf.io/download/{id}/?direct%26mode=render'\n",
    "    super(PlayVideo, self).__init__(src, width, height, **kwargs)\n",
    "\n",
    "\n",
    "def display_videos(video_ids, W=400, H=300, fs=1):\n",
    "  tab_contents = []\n",
    "  for i, video_id in enumerate(video_ids):\n",
    "    out = widgets.Output()\n",
    "    with out:\n",
    "      if video_ids[i][0] == 'Youtube':\n",
    "        video = YouTubeVideo(id=video_ids[i][1], width=W,\n",
    "                             height=H, fs=fs, rel=0)\n",
    "        print(f'Video available at https://youtube.com/watch?v={video.id}')\n",
    "      else:\n",
    "        video = PlayVideo(id=video_ids[i][1], source=video_ids[i][0], width=W,\n",
    "                          height=H, fs=fs, autoplay=False)\n",
    "        if video_ids[i][0] == 'Bilibili':\n",
    "          print(f'Video available at https://www.bilibili.com/video/{video.id}')\n",
    "        elif video_ids[i][0] == 'Osf':\n",
    "          print(f'Video available at https://osf.io/{video.id}')\n",
    "      display(video)\n",
    "    tab_contents.append(out)\n",
    "  return tab_contents\n",
    "\n",
    "\n",
    "video_ids = [('Youtube', '4r400A5GNfE'), ('Bilibili', 'BV1GV411M7hk')]\n",
    "tab_contents = display_videos(video_ids, W=730, H=410)\n",
    "tabs = widgets.Tab()\n",
    "tabs.children = tab_contents\n",
    "for i in range(len(tab_contents)):\n",
    "  tabs.set_title(i, video_ids[i][0])\n",
    "display(tabs)"
   ]
  },
  {
   "cell_type": "markdown",
   "metadata": {},
   "source": [
    "###  Submit your feedback\n"
   ]
  },
  {
   "cell_type": "code",
<<<<<<< HEAD
   "execution_count": 7,
=======
   "execution_count": null,
>>>>>>> eb2ec683c55123c5e0ee55a184cc40d1f272e801
   "metadata": {
    "cellView": "form",
    "execution": {},
    "tags": [
     "hide-input"
    ]
   },
<<<<<<< HEAD
   "outputs": [
    {
     "data": {
      "application/vnd.jupyter.widget-view+json": {
       "model_id": "c0f0f6b2eb2c41a28b393bd7beecf1d7",
       "version_major": 2,
       "version_minor": 0
      },
      "text/plain": [
       "VBox(children=(VBox(children=(HBox(children=(Button(description='🙂', layout=Layout(height='auto', padding='0.5…"
      ]
     },
     "metadata": {},
     "output_type": "display_data"
    }
   ],
=======
   "outputs": [],
>>>>>>> eb2ec683c55123c5e0ee55a184cc40d1f272e801
   "source": [
    "# @title Submit your feedback\n",
    "content_review(f\"{feedback_prefix}_Grid_world_Video\")"
   ]
  },
  {
   "cell_type": "markdown",
   "metadata": {
    "execution": {}
   },
   "source": [
    "### Coding Exercise 1: Code a shortest-path planner for GridWorld\n"
   ]
  },
  {
   "cell_type": "markdown",
   "metadata": {},
   "source": [
    "####  Create the GridWorldPlanner object (defaults to simple example)\n"
   ]
  },
  {
   "cell_type": "code",
<<<<<<< HEAD
   "execution_count": 8,
=======
   "execution_count": null,
>>>>>>> eb2ec683c55123c5e0ee55a184cc40d1f272e801
   "metadata": {
    "cellView": "form",
    "execution": {},
    "tags": [
     "hide-input"
    ]
   },
<<<<<<< HEAD
   "outputs": [
    {
     "name": "stdout",
     "output_type": "stream",
     "text": [
      "Simple GridWorld:\n",
      "⬛⬛⬛⬛⬛⬛\n",
      "⬛⬜⬜⬜⬜⬛\n",
      "⬛⬜⬜⬜⬜⬛\n",
      "⬛⬜⬜⬜⬜⬛\n",
      "⬛⬜⬜⬜⭐⬛\n",
      "⬛⬛⬛⬛⬛⬛\n",
      "Random policy:\n",
      "⬛⬛⬛⬛⬛⬛\n",
      "⬛▶️▶️◀️🔽⬛\n",
      "⬛▶️🔽◀️🔼⬛\n",
      "⬛🔽▶️🔼🔽⬛\n",
      "⬛◀️🔽◀️⭐⬛\n",
      "⬛⬛⬛⬛⬛⬛\n"
     ]
    }
   ],
=======
   "outputs": [],
>>>>>>> eb2ec683c55123c5e0ee55a184cc40d1f272e801
   "source": [
    "# @title Create the GridWorldPlanner object (defaults to simple example)\n",
    "\n",
    "ASCII_TO_EMOJI = {\n",
    "    ' ': '⬜',\n",
    "    '*': '⬛',\n",
    "    'g': '⭐',\n",
    "    '<': '◀️',\n",
    "    '>': '▶️',\n",
    "    'v': '🔽',\n",
    "    '^': '🔼',\n",
    "}\n",
    "\n",
    "ACTIONS = ['<', '>', 'v', '^']\n",
    "ACTION_EFFECTS = {  # Position effects of each action.\n",
    "    '<': (0, -1),\n",
    "    '>': (0, 1),\n",
    "    'v': (1, 0),\n",
    "    '^': (-1, 0),\n",
    "}\n",
    "\n",
    "\n",
    "def get_emoji(c, policy=None):\n",
    "  assert c in ASCII_TO_EMOJI\n",
    "  if policy is not None and c != 'g':\n",
    "    assert policy in ASCII_TO_EMOJI\n",
    "    if policy != ' ':  # If there is a policy, use this instead.\n",
    "      c = policy\n",
    "  return ASCII_TO_EMOJI[c]\n",
    "\n",
    "\n",
    "class GridWorldBase(object):\n",
    "  \"\"\"Defines a GridWorldPlanner object.\"\"\"\n",
    "\n",
    "  def __init__(self, world_spec: Optional[np.ndarray] = None):\n",
    "    \"\"\"Creates a GridWorld object with an empty policy.\n",
    "\n",
    "    Args:\n",
    "      world_spec: Optional array specification of GridWorld. If None, will\n",
    "                  use default square room.\n",
    "    \"\"\"\n",
    "    if world_spec is None:\n",
    "      self.world_spec = np.array(\n",
    "          [['*', '*', '*', '*', '*', '*'],\n",
    "           ['*', ' ', ' ', ' ', ' ', '*'],\n",
    "           ['*', ' ', ' ', ' ', ' ', '*'],\n",
    "           ['*', ' ', ' ', ' ', ' ', '*'],\n",
    "           ['*', ' ', ' ', ' ', 'g', '*'],\n",
    "           ['*', '*', '*', '*', '*', '*']]\n",
    "      )\n",
    "    else:\n",
    "      assert len(world_spec.shape) == 2\n",
    "      self.world_spec = world_spec\n",
    "\n",
    "    assert len(np.where(self.world_spec == 'g')[0]) == 1  # Only one goal.\n",
    "    self.policy = np.full_like(self.world_spec, ' ')\n",
    "    # **Note**: These may be useful for your planner!\n",
    "    self.goal_cell = [x[0] for x in np.where(self.world_spec == 'g')]\n",
    "\n",
    "  def get_neighbours(self, cell: Tuple[int, int]):\n",
    "    \"\"\"Get the neighbours of a cell.\n",
    "\n",
    "    **Note**: You should use this when writing your planner!\n",
    "\n",
    "    Args:\n",
    "      cell: cell position.\n",
    "\n",
    "    Returns:\n",
    "      Dict containing neighbouring cells for each of the 4 possible directions.\n",
    "    \"\"\"\n",
    "    height, width = self.world_spec.shape\n",
    "    i, j = cell\n",
    "    if i < 1 or i >= height or j < 1 or j >= width:\n",
    "      raise ValueError(f'Invalid cell position: {cell}')\n",
    "    neighbours = {}\n",
    "    for a in ACTIONS:\n",
    "      delta = ACTION_EFFECTS[a]\n",
    "      neighbour_pos = [i + delta[0], j + delta[1]]\n",
    "      if (neighbour_pos[0] < 0 or neighbour_pos[1] < 0 or\n",
    "          neighbour_pos[0] >= height or neighbour_pos[1] >= width or\n",
    "          self.world_spec[neighbour_pos[0], neighbour_pos[1]] == '*'):\n",
    "        # Remain in same cell\n",
    "        neighbours[a] = cell\n",
    "      else:\n",
    "        neighbours[a] = neighbour_pos\n",
    "    return neighbours\n",
    "\n",
    "  def plan(self):\n",
    "    \"\"\"Constructs a random policy.\n",
    "\n",
    "    **Note**: you will make something better further down!\n",
    "    \"\"\"\n",
    "    for i in range(self.policy.shape[0]):\n",
    "      for j in range(self.policy.shape[1]):\n",
    "        if self.world_spec[i, j] == '*':  # Nothing to do for walls.\n",
    "          continue\n",
    "        self.policy[i, j] = ACTIONS[np.random.choice(len(ACTIONS))]\n",
    "\n",
    "  def draw(self, include_policy: bool = False):\n",
    "    \"\"\"Draw the grid, and (optionally) include the policy.\"\"\"\n",
    "    for i in range(len(self.world_spec)):\n",
    "      row_range = range(len(self.world_spec[i]))\n",
    "      if include_policy:\n",
    "        row_chars = [get_emoji(self.world_spec[i, j], self.policy[i, j]) for j in row_range]\n",
    "      else:\n",
    "        row_chars = [get_emoji(self.world_spec[i, j], None) for j in row_range]\n",
    "      print(''.join(row_chars))\n",
    "\n",
    "\n",
    "gwb = GridWorldBase()\n",
    "print('Simple GridWorld:')\n",
    "gwb.draw()\n",
    "gwb.plan()\n",
    "print('Random policy:')\n",
    "gwb.draw(True)"
   ]
  },
  {
   "cell_type": "code",
<<<<<<< HEAD
   "execution_count": 9,
   "metadata": {
    "execution": {}
   },
   "outputs": [
    {
     "name": "stdout",
     "output_type": "stream",
     "text": [
      "Simple GridWorld:\n",
      "⬛⬛⬛⬛⬛⬛\n",
      "⬛⬜⬜⬜⬜⬛\n",
      "⬛⬜⬜⬜⬜⬛\n",
      "⬛⬜⬜⬜⬜⬛\n",
      "⬛⬜⬜⬜⭐⬛\n",
      "⬛⬛⬛⬛⬛⬛\n",
      "Better policy:\n",
      "⬛⬛⬛⬛⬛⬛\n",
      "⬛🔽◀️◀️◀️⬛\n",
      "⬛◀️◀️◀️◀️⬛\n",
      "⬛▶️◀️🔼🔽⬛\n",
      "⬛◀️🔽▶️⭐⬛\n",
      "⬛⬛⬛⬛⬛⬛\n"
     ]
    }
   ],
=======
   "execution_count": null,
   "metadata": {
    "execution": {}
   },
   "outputs": [],
>>>>>>> eb2ec683c55123c5e0ee55a184cc40d1f272e801
   "source": [
    "class GridWorldPlanner(GridWorldBase):\n",
    "  \"\"\"A GridWorld that finds a better policy.\"\"\"\n",
    "\n",
    "  def plan(self):\n",
    "    \"\"\"Define a better planner!\n",
    "\n",
    "    This gives you a starting point by setting the proper actions in the cells\n",
    "    surrounding the goal cell.\n",
    "\n",
    "    **Assignment:** Do the rest!\n",
    "    \"\"\"\n",
    "    super().plan()\n",
    "    goal_queue = [self.goal_cell]\n",
    "    goals_done = set()\n",
    "    goal = goal_queue.pop(0)  # pop from front of list\n",
    "    goal_neighbours = self.get_neighbours(goal)\n",
    "    goals_done.add(tuple(goal))\n",
    "\n",
    "    for a in goal_neighbours:\n",
    "      nbr = tuple(goal_neighbours[a])\n",
    "      if nbr == goal:\n",
    "        continue\n",
    "      if nbr not in goals_done:\n",
    "        if a == '<':\n",
    "          self.policy[nbr[0], nbr[1]] = '>'\n",
    "        elif a == '>':\n",
    "          self.policy[nbr[0], nbr[1]] = '<'\n",
    "        elif a == '^':\n",
    "          self.policy[nbr[0], nbr[1]] = 'v'\n",
    "        else:\n",
    "          self.policy[nbr[0], nbr[1]] = '^'\n",
    "        goal_queue.append(nbr)\n",
    "\n",
    "\n",
    "gwp = GridWorldPlanner()\n",
    "print('Simple GridWorld:')\n",
    "gwp.draw()\n",
    "gwp.plan()\n",
    "print('Better policy:')\n",
    "gwp.draw(True)"
   ]
  },
  {
   "cell_type": "markdown",
   "metadata": {
    "execution": {}
   },
   "source": [
    "Make a better planner!"
   ]
  },
  {
   "cell_type": "code",
<<<<<<< HEAD
   "execution_count": 10,
=======
   "execution_count": null,
>>>>>>> eb2ec683c55123c5e0ee55a184cc40d1f272e801
   "metadata": {
    "execution": {}
   },
   "outputs": [],
   "source": [
    "class GridWorldPlanner(GridWorldBase):\n",
    "  \"\"\"A GridWorld that finds a better policy.\"\"\"\n",
    "\n",
    "  def plan(self):\n",
    "    \"\"\"Define a better planner!\n",
    "\n",
    "    This gives you a starting point by setting the proper actions in the cells\n",
    "    surrounding the goal cell.\n",
    "\n",
    "    **Assignment:** Do the rest!\n",
    "    \"\"\"\n",
    "    super().plan()\n",
    "    goal_queue = [self.goal_cell]\n",
    "    goals_done = set()\n",
    "    #################################################\n",
    "    # Implement a better planer\n",
<<<<<<< HEAD
    "    # raise NotImplementedError(\"Define a better planner!`\")\n",
    "    #################################################\n",
    "    while goal_queue:\n",
=======
    "    raise NotImplementedError(\"Define a better planner!`\")\n",
    "    #################################################\n",
    "    while ...:\n",
>>>>>>> eb2ec683c55123c5e0ee55a184cc40d1f272e801
    "      goal = goal_queue.pop(0)  # pop from front of list\n",
    "      goal_neighbours = self.get_neighbours(goal)\n",
    "      goals_done.add(tuple(goal))\n",
    "      for a in goal_neighbours:\n",
    "        nbr = tuple(goal_neighbours[a])\n",
    "        if nbr == goal:\n",
    "          continue\n",
    "        if nbr not in goals_done:\n",
    "          if a == '<':\n",
    "            self.policy[nbr[0], nbr[1]] = '>'\n",
    "          elif a == '>':\n",
    "            self.policy[nbr[0], nbr[1]] = '<'\n",
    "          elif a == '^':\n",
    "            self.policy[nbr[0], nbr[1]] = 'v'\n",
    "          else:\n",
    "            self.policy[nbr[0], nbr[1]] = '^'\n",
    "          goal_queue.append(nbr)"
   ]
  },
  {
   "cell_type": "markdown",
   "metadata": {
    "colab_type": "text",
    "execution": {}
   },
   "source": [
    "[*Click for solution*](https://github.com/NeuromatchAcademy/course-content-dl/tree/main/tutorials/W3D4_BasicReinforcementLearning/solutions/W3D4_Tutorial1_Solution_32802337.py)\n",
    "\n"
   ]
  },
  {
   "cell_type": "code",
<<<<<<< HEAD
   "execution_count": 11,
   "metadata": {
    "execution": {}
   },
   "outputs": [
    {
     "name": "stdout",
     "output_type": "stream",
     "text": [
      "Simple GridWorld:\n",
      "⬛⬛⬛⬛⬛⬛\n",
      "⬛⬜⬜⬜⬜⬛\n",
      "⬛⬜⬜⬜⬜⬛\n",
      "⬛⬜⬜⬜⬜⬛\n",
      "⬛⬜⬜⬜⭐⬛\n",
      "⬛⬛⬛⬛⬛⬛\n",
      "Better policy:\n",
      "⬛⬛⬛⬛⬛⬛\n",
      "⬛▶️▶️▶️🔽⬛\n",
      "⬛▶️▶️▶️🔽⬛\n",
      "⬛▶️▶️▶️🔽⬛\n",
      "⬛▶️▶️▶️⭐⬛\n",
      "⬛⬛⬛⬛⬛⬛\n"
     ]
    }
   ],
=======
   "execution_count": null,
   "metadata": {
    "execution": {}
   },
   "outputs": [],
>>>>>>> eb2ec683c55123c5e0ee55a184cc40d1f272e801
   "source": [
    "gwp = GridWorldPlanner()\n",
    "print('Simple GridWorld:')\n",
    "gwp.draw()\n",
    "gwp.plan()\n",
    "print('Better policy:')\n",
    "gwp.draw(True)"
   ]
  },
  {
   "cell_type": "markdown",
   "metadata": {},
   "source": [
    "####  Submit your feedback\n"
   ]
  },
  {
   "cell_type": "code",
<<<<<<< HEAD
   "execution_count": 12,
=======
   "execution_count": null,
>>>>>>> eb2ec683c55123c5e0ee55a184cc40d1f272e801
   "metadata": {
    "cellView": "form",
    "execution": {},
    "tags": [
     "hide-input"
    ]
   },
<<<<<<< HEAD
   "outputs": [
    {
     "data": {
      "application/vnd.jupyter.widget-view+json": {
       "model_id": "1397c696d1eb4af3acccbd7a28c07a7f",
       "version_major": 2,
       "version_minor": 0
      },
      "text/plain": [
       "VBox(children=(VBox(children=(HBox(children=(Button(description='🙂', layout=Layout(height='auto', padding='0.5…"
      ]
     },
     "metadata": {},
     "output_type": "display_data"
    }
   ],
=======
   "outputs": [],
>>>>>>> eb2ec683c55123c5e0ee55a184cc40d1f272e801
   "source": [
    "# @title Submit your feedback\n",
    "content_review(f\"{feedback_prefix}_Make_a_better_planner_Exercise\")"
   ]
  },
  {
   "cell_type": "markdown",
   "metadata": {},
   "source": [
    "####  Try it out in a harder problem.\n"
   ]
  },
  {
   "cell_type": "code",
<<<<<<< HEAD
   "execution_count": 13,
=======
   "execution_count": null,
>>>>>>> eb2ec683c55123c5e0ee55a184cc40d1f272e801
   "metadata": {
    "cellView": "form",
    "execution": {},
    "tags": [
     "hide-input"
    ]
   },
<<<<<<< HEAD
   "outputs": [
    {
     "name": "stdout",
     "output_type": "stream",
     "text": [
      "Harder GridWorld:\n",
      "⬛⬛⬛⬛⬛⬛⬛⬛⬛\n",
      "⬛⬜⬜⬜⬛⬜⬜⭐⬛\n",
      "⬛⬜⬜⬜⬛⬜⬜⬜⬛\n",
      "⬛⬜⬜⬜⬛⬜⬜⬜⬛\n",
      "⬛⬜⬜⬜⬛⬜⬜⬜⬛\n",
      "⬛⬜⬜⬜⬜⬜⬜⬜⬛\n",
      "⬛⬛⬛⬛⬛⬛⬛⬛⬛\n",
      "Random policy:\n",
      "⬛⬛⬛⬛⬛⬛⬛⬛⬛\n",
      "⬛🔼🔼◀️⬛▶️🔽⭐⬛\n",
      "⬛🔽🔽▶️⬛🔽◀️◀️⬛\n",
      "⬛▶️🔽🔽⬛🔼🔽◀️⬛\n",
      "⬛◀️◀️▶️⬛◀️◀️🔼⬛\n",
      "⬛🔽◀️◀️▶️▶️🔼🔼⬛\n",
      "⬛⬛⬛⬛⬛⬛⬛⬛⬛\n",
      "Better policy:\n",
      "⬛⬛⬛⬛⬛⬛⬛⬛⬛\n",
      "⬛▶️▶️🔽⬛▶️▶️⭐⬛\n",
      "⬛▶️▶️🔽⬛▶️▶️🔼⬛\n",
      "⬛▶️▶️🔽⬛▶️▶️🔼⬛\n",
      "⬛▶️▶️🔽⬛▶️▶️🔼⬛\n",
      "⬛▶️▶️▶️▶️▶️▶️🔼⬛\n",
      "⬛⬛⬛⬛⬛⬛⬛⬛⬛\n"
     ]
    }
   ],
=======
   "outputs": [],
>>>>>>> eb2ec683c55123c5e0ee55a184cc40d1f272e801
   "source": [
    "# @title Try it out in a harder problem.\n",
    "harder_grid = np.array(\n",
    "    [['*', '*', '*', '*', '*', '*', '*', '*', '*'],\n",
    "     ['*', ' ', ' ', ' ', '*', ' ', ' ', 'g', '*'],\n",
    "     ['*', ' ', ' ', ' ', '*', ' ', ' ', ' ', '*'],\n",
    "     ['*', ' ', ' ', ' ', '*', ' ', ' ', ' ', '*'],\n",
    "     ['*', ' ', ' ', ' ', '*', ' ', ' ', ' ', '*'],\n",
    "     ['*', ' ', ' ', ' ', ' ', ' ', ' ', ' ', '*'],\n",
    "     ['*', '*', '*', '*', '*', '*', '*', '*', '*'],\n",
    "    ]\n",
    ")\n",
    "gwb_2 = GridWorldBase(harder_grid)\n",
    "gwp_2 = GridWorldPlanner(harder_grid)\n",
    "print('Harder GridWorld:')\n",
    "gwb_2.draw()\n",
    "gwb_2.plan()\n",
    "print('Random policy:')\n",
    "gwb_2.draw(True)\n",
    "print('Better policy:')\n",
    "gwp_2.plan()\n",
    "gwp_2.draw(True)"
   ]
  },
  {
   "cell_type": "markdown",
   "metadata": {
    "execution": {}
   },
   "source": [
    "## Section 2.2: Markov Decision Process (MDP)\n",
    "\n",
    "Formulating RL problems traditionally happens via a Markov decision process (MDP). In this section, we will introduce all the necessary notation and write code to define the MDP corresponding to our simple GridWorld.\n",
    "\n",
    "**Extra:** Martin Puterman's [book on Markov Decision Processes](https://onlinelibrary.wiley.com/doi/book/10.1002/9780470316887) is an excellent reference if you'd like to read more."
   ]
  },
  {
   "cell_type": "markdown",
   "metadata": {},
   "source": [
    "###  Video 3: Markov Decision Process\n"
   ]
  },
  {
   "cell_type": "code",
<<<<<<< HEAD
   "execution_count": 14,
=======
   "execution_count": null,
>>>>>>> eb2ec683c55123c5e0ee55a184cc40d1f272e801
   "metadata": {
    "cellView": "form",
    "execution": {},
    "tags": [
     "remove-input"
    ]
   },
<<<<<<< HEAD
   "outputs": [
    {
     "data": {
      "application/vnd.jupyter.widget-view+json": {
       "model_id": "ee2af3f66b23478d9c8591ed4349a322",
       "version_major": 2,
       "version_minor": 0
      },
      "text/plain": [
       "Tab(children=(Output(), Output()), selected_index=0, titles=('Youtube', 'Bilibili'))"
      ]
     },
     "metadata": {},
     "output_type": "display_data"
    }
   ],
=======
   "outputs": [],
>>>>>>> eb2ec683c55123c5e0ee55a184cc40d1f272e801
   "source": [
    "# @title Video 3: Markov Decision Process\n",
    "from ipywidgets import widgets\n",
    "from IPython.display import YouTubeVideo\n",
    "from IPython.display import IFrame\n",
    "from IPython.display import display\n",
    "\n",
    "\n",
    "class PlayVideo(IFrame):\n",
    "  def __init__(self, id, source, page=1, width=400, height=300, **kwargs):\n",
    "    self.id = id\n",
    "    if source == 'Bilibili':\n",
    "      src = f'https://player.bilibili.com/player.html?bvid={id}&page={page}'\n",
    "    elif source == 'Osf':\n",
    "      src = f'https://mfr.ca-1.osf.io/render?url=https://osf.io/download/{id}/?direct%26mode=render'\n",
    "    super(PlayVideo, self).__init__(src, width, height, **kwargs)\n",
    "\n",
    "\n",
    "def display_videos(video_ids, W=400, H=300, fs=1):\n",
    "  tab_contents = []\n",
    "  for i, video_id in enumerate(video_ids):\n",
    "    out = widgets.Output()\n",
    "    with out:\n",
    "      if video_ids[i][0] == 'Youtube':\n",
    "        video = YouTubeVideo(id=video_ids[i][1], width=W,\n",
    "                             height=H, fs=fs, rel=0)\n",
    "        print(f'Video available at https://youtube.com/watch?v={video.id}')\n",
    "      else:\n",
    "        video = PlayVideo(id=video_ids[i][1], source=video_ids[i][0], width=W,\n",
    "                          height=H, fs=fs, autoplay=False)\n",
    "        if video_ids[i][0] == 'Bilibili':\n",
    "          print(f'Video available at https://www.bilibili.com/video/{video.id}')\n",
    "        elif video_ids[i][0] == 'Osf':\n",
    "          print(f'Video available at https://osf.io/{video.id}')\n",
    "      display(video)\n",
    "    tab_contents.append(out)\n",
    "  return tab_contents\n",
    "\n",
    "\n",
    "video_ids = [('Youtube', 'AfIsG1I4MRE'), ('Bilibili', 'BV1VV411M7pX')]\n",
    "tab_contents = display_videos(video_ids, W=730, H=410)\n",
    "tabs = widgets.Tab()\n",
    "tabs.children = tab_contents\n",
    "for i in range(len(tab_contents)):\n",
    "  tabs.set_title(i, video_ids[i][0])\n",
    "display(tabs)"
   ]
  },
  {
   "cell_type": "markdown",
   "metadata": {},
   "source": [
    "###  Submit your feedback\n"
   ]
  },
  {
   "cell_type": "code",
<<<<<<< HEAD
   "execution_count": 15,
=======
   "execution_count": null,
>>>>>>> eb2ec683c55123c5e0ee55a184cc40d1f272e801
   "metadata": {
    "cellView": "form",
    "execution": {},
    "tags": [
     "hide-input"
    ]
   },
<<<<<<< HEAD
   "outputs": [
    {
     "data": {
      "application/vnd.jupyter.widget-view+json": {
       "model_id": "baebc5a9511946a69fd1a83093dad0fa",
       "version_major": 2,
       "version_minor": 0
      },
      "text/plain": [
       "VBox(children=(VBox(children=(HBox(children=(Button(description='🙂', layout=Layout(height='auto', padding='0.5…"
      ]
     },
     "metadata": {},
     "output_type": "display_data"
    }
   ],
=======
   "outputs": [],
>>>>>>> eb2ec683c55123c5e0ee55a184cc40d1f272e801
   "source": [
    "# @title Submit your feedback\n",
    "content_review(f\"{feedback_prefix}_Markov_Decision_Process_Video\")"
   ]
  },
  {
   "cell_type": "markdown",
   "metadata": {
    "execution": {}
   },
   "source": [
    "### Coding exercise 2: Create an MDP from the GridWorld specification\n",
    "\n",
    "Create $P$ and $R$ matrices for MDP."
   ]
  },
  {
   "cell_type": "code",
<<<<<<< HEAD
   "execution_count": 36,
=======
   "execution_count": null,
>>>>>>> eb2ec683c55123c5e0ee55a184cc40d1f272e801
   "metadata": {
    "execution": {}
   },
   "outputs": [],
   "source": [
<<<<<<< HEAD
    "\n",
=======
>>>>>>> eb2ec683c55123c5e0ee55a184cc40d1f272e801
    "class MDPBase(object):\n",
    "  \"\"\"This object creates a proper MDP from a GridWorld object.\"\"\"\n",
    "\n",
    "  def __init__(self, grid_world: GridWorldBase):\n",
    "    \"\"\"Constructs an MDP from a GridWorldBase object.\n",
    "\n",
    "    Args:\n",
    "      grid_world: GridWorld specification.\n",
    "    \"\"\"\n",
    "    # Determine how many valid states there are and create empty matrices.\n",
    "    self.grid_world = grid_world\n",
    "    self.num_states = np.sum(grid_world.world_spec != '*')\n",
    "    self.num_actions = len(ACTIONS)\n",
    "    self.P = np.zeros((self.num_states, self.num_actions, self.num_states))\n",
    "    self.R = np.zeros((self.num_states, self.num_actions))\n",
    "    self.pi = np.zeros(self.num_states, dtype=np.int32)\n",
    "    # Create mapping from cell positions to state ID.\n",
    "    state_idx = 0\n",
    "    self.cell_to_state = np.ones(grid_world.world_spec.shape, dtype=np.int32) * -1  # Defaults to -1.\n",
    "    self.state_to_cell = {}\n",
    "    for i, row in enumerate(grid_world.world_spec):\n",
    "      for j, cell in enumerate(row):\n",
    "        if cell == '*':\n",
    "          continue\n",
    "        if cell == 'g':\n",
    "          self.goal_state = state_idx\n",
    "        self.cell_to_state[i, j] = state_idx\n",
    "        self.state_to_cell[state_idx] = (i, j)\n",
    "        state_idx += 1\n",
    "    #################################################\n",
    "    # States should be numbered from left-to-right and from top-to-bottom.\n",
<<<<<<< HEAD
    "    # raise NotImplementedError(\"Calculate P and R\")\n",
    "    #################################################\n",
    "\n",
    "    # Assign transition probabilities and rewards accordingly.\n",
    "    for s in range(self.num_states):\n",
    "      neighbours = grid_world.get_neighbours(self.state_to_cell[s])\n",
    "      # print(neighbours)\n",
    "      for a, action in enumerate(neighbours):\n",
    "        nbr = tuple(neighbours[action])\n",
    "        s2 = self.cell_to_state[nbr[0], nbr[1]]\n",
=======
    "    raise NotImplementedError(\"Calculate P and R\")\n",
    "    #################################################\n",
    "    # Assign transition probabilities and rewards accordingly.\n",
    "    for s in range(...):\n",
    "      neighbours = ...\n",
    "      for a, action in enumerate(neighbours):\n",
    "        nbr = ...\n",
    "        s2 = self.cell_to_state[..., ...]\n",
>>>>>>> eb2ec683c55123c5e0ee55a184cc40d1f272e801
    "        self.P[s, a, s2] = 1.0  # Deterministic transitions\n",
    "        if s2 == self.goal_state:\n",
    "          self.R[s, a] = 1.0\n",
    "\n",
    "  def draw(self, include_policy: bool = False):\n",
    "    # First make sure we convert our MDP policy into the GridWorld policy.\n",
    "    for s in range(self.num_states):\n",
    "      r, c = self.state_to_cell[s]\n",
    "      self.grid_world.policy[r, c] = ACTIONS[self.pi[s]]\n",
    "    self.grid_world.draw(include_policy)\n",
    "\n",
    "  def plan(self):\n",
    "    \"\"\"Define a planner\n",
    "    \"\"\"\n",
    "    goal_queue = [self.goal_state]\n",
    "    goals_done = set()\n",
    "    #################################################\n",
    "    # Set the proper actions\n",
<<<<<<< HEAD
    "    # raise NotImplementedError(\"Implement `plan` function!\")\n",
    "    #################################################\n",
    "    while goal_queue:\n",
    "      goal = goal_queue.pop(0)  # pop from front of list\n",
    "      nbr_states, nbr_actions = self.P[goal].shape\n",
    "      goals_done.add(goal)\n",
    "      for s, a in zip(range(nbr_states), range(nbr_actions)):\n",
    "        if s == goal:\n",
    "          continue\n",
    "        if s not in goals_done:\n",
    "          self.pi[s] = -1\n",
=======
    "    raise NotImplementedError(\"Implement `plan` function!\")\n",
    "    #################################################\n",
    "    while goal_queue:\n",
    "      goal = goal_queue.pop(0)  # pop from front of list\n",
    "      nbr_states, nbr_actions = ...\n",
    "      goals_done.add(goal)\n",
    "      for s, a in zip(..., ...):\n",
    "        if s == goal:\n",
    "          continue\n",
    "        if s not in goals_done:\n",
    "          self.pi[s] = ...\n",
>>>>>>> eb2ec683c55123c5e0ee55a184cc40d1f272e801
    "          goal_queue.append(s)"
   ]
  },
  {
   "cell_type": "markdown",
   "metadata": {
    "colab_type": "text",
    "execution": {}
   },
   "source": [
    "[*Click for solution*](https://github.com/NeuromatchAcademy/course-content-dl/tree/main/tutorials/W3D4_BasicReinforcementLearning/solutions/W3D4_Tutorial1_Solution_0102ee70.py)\n",
    "\n"
   ]
  },
  {
   "cell_type": "code",
<<<<<<< HEAD
   "execution_count": 37,
   "metadata": {
    "execution": {}
   },
   "outputs": [
    {
     "name": "stdout",
     "output_type": "stream",
     "text": [
      "P and R matrices successfully created!\n",
      "GridWorld:\n",
      "⬛⬛⬛⬛⬛⬛\n",
      "⬛⬜⬜⬜⬜⬛\n",
      "⬛⬜⬜⬜⬜⬛\n",
      "⬛⬜⬜⬜⬜⬛\n",
      "⬛⬜⬜⬜⭐⬛\n",
      "⬛⬛⬛⬛⬛⬛\n",
      "Shortest path policy:\n",
      "⬛⬛⬛⬛⬛⬛\n",
      "⬛🔼🔼🔼🔼⬛\n",
      "⬛◀️◀️◀️◀️⬛\n",
      "⬛◀️◀️◀️◀️⬛\n",
      "⬛◀️◀️◀️⭐⬛\n",
      "⬛⬛⬛⬛⬛⬛\n"
     ]
    }
   ],
=======
   "execution_count": null,
   "metadata": {
    "execution": {}
   },
   "outputs": [],
>>>>>>> eb2ec683c55123c5e0ee55a184cc40d1f272e801
   "source": [
    "mdpb = MDPBase(gwb)\n",
    "\n",
    "# Verify the transitions were properly created.\n",
    "for i, row in enumerate(mdpb.grid_world.world_spec):\n",
    "  for j, cell in enumerate(row):\n",
    "    if cell == '*':\n",
    "      continue\n",
    "    neighbours = mdpb.grid_world.get_neighbours((i, j))\n",
    "    s = mdpb.cell_to_state[i, j]\n",
    "    for a, action in enumerate(neighbours):\n",
    "      nbr = neighbours[action]\n",
    "      s2 = mdpb.cell_to_state[nbr[0], nbr[1]]\n",
    "      assert np.sum(mdpb.P[s, a, :]) == 1.0\n",
    "      assert mdpb.P[s, a, s2] == 1.0\n",
    "      if s2 == mdpb.goal_state:\n",
    "        assert mdpb.R[s, a] == 1.0\n",
    "      else:\n",
    "        assert mdpb.R[s, a] == 0.0\n",
    "\n",
    "print('P and R matrices successfully created!')\n",
    "print('GridWorld:')\n",
    "mdpb.draw()\n",
    "print('Shortest path policy:')\n",
    "mdpb.plan()\n",
    "mdpb.draw(True)"
   ]
  },
  {
<<<<<<< HEAD
   "cell_type": "code",
   "execution_count": 44,
   "metadata": {},
   "outputs": [
    {
     "data": {
      "text/plain": [
       "((16, 4), (16, 4, 16), (16,))"
      ]
     },
     "execution_count": 44,
     "metadata": {},
     "output_type": "execute_result"
    }
   ],
   "source": [
    "mdpb.R.shape, mdpb.P.shape, mdpb.pi.shape"
   ]
  },
  {
=======
>>>>>>> eb2ec683c55123c5e0ee55a184cc40d1f272e801
   "cell_type": "markdown",
   "metadata": {},
   "source": [
    "####  Submit your feedback\n"
   ]
  },
  {
   "cell_type": "code",
<<<<<<< HEAD
   "execution_count": 45,
=======
   "execution_count": null,
>>>>>>> eb2ec683c55123c5e0ee55a184cc40d1f272e801
   "metadata": {
    "cellView": "form",
    "execution": {},
    "tags": [
     "hide-input"
    ]
   },
<<<<<<< HEAD
   "outputs": [
    {
     "data": {
      "application/vnd.jupyter.widget-view+json": {
       "model_id": "3e21fec10d4f48f29abf19348f144d5f",
       "version_major": 2,
       "version_minor": 0
      },
      "text/plain": [
       "VBox(children=(VBox(children=(HBox(children=(Button(description='🙂', layout=Layout(height='auto', padding='0.5…"
      ]
     },
     "metadata": {},
     "output_type": "display_data"
    }
   ],
=======
   "outputs": [],
>>>>>>> eb2ec683c55123c5e0ee55a184cc40d1f272e801
   "source": [
    "# @title Submit your feedback\n",
    "content_review(f\"{feedback_prefix}_Create_an_MDP_Exercise\")"
   ]
  },
  {
   "cell_type": "markdown",
   "metadata": {
    "execution": {}
   },
   "source": [
    "## Section 2.3: $Q$-values\n",
    "\n",
    "$Q$-values are central to RL algorithms, as they quantify the *desirability* of performing an action given a particular state. The agent updates these values throughout training and can use its estimates to decide how to act."
   ]
  },
  {
   "cell_type": "markdown",
   "metadata": {},
   "source": [
    "###  Video 4: Q-values\n"
   ]
  },
  {
   "cell_type": "code",
<<<<<<< HEAD
   "execution_count": 46,
=======
   "execution_count": null,
>>>>>>> eb2ec683c55123c5e0ee55a184cc40d1f272e801
   "metadata": {
    "cellView": "form",
    "execution": {},
    "tags": [
     "remove-input"
    ]
   },
<<<<<<< HEAD
   "outputs": [
    {
     "data": {
      "application/vnd.jupyter.widget-view+json": {
       "model_id": "73cf675b43304e10b9ea15a860030679",
       "version_major": 2,
       "version_minor": 0
      },
      "text/plain": [
       "Tab(children=(Output(), Output()), selected_index=0, titles=('Youtube', 'Bilibili'))"
      ]
     },
     "metadata": {},
     "output_type": "display_data"
    }
   ],
=======
   "outputs": [],
>>>>>>> eb2ec683c55123c5e0ee55a184cc40d1f272e801
   "source": [
    "# @title Video 4: Q-values\n",
    "from ipywidgets import widgets\n",
    "from IPython.display import YouTubeVideo\n",
    "from IPython.display import IFrame\n",
    "from IPython.display import display\n",
    "\n",
    "\n",
    "class PlayVideo(IFrame):\n",
    "  def __init__(self, id, source, page=1, width=400, height=300, **kwargs):\n",
    "    self.id = id\n",
    "    if source == 'Bilibili':\n",
    "      src = f'https://player.bilibili.com/player.html?bvid={id}&page={page}'\n",
    "    elif source == 'Osf':\n",
    "      src = f'https://mfr.ca-1.osf.io/render?url=https://osf.io/download/{id}/?direct%26mode=render'\n",
    "    super(PlayVideo, self).__init__(src, width, height, **kwargs)\n",
    "\n",
    "\n",
    "def display_videos(video_ids, W=400, H=300, fs=1):\n",
    "  tab_contents = []\n",
    "  for i, video_id in enumerate(video_ids):\n",
    "    out = widgets.Output()\n",
    "    with out:\n",
    "      if video_ids[i][0] == 'Youtube':\n",
    "        video = YouTubeVideo(id=video_ids[i][1], width=W,\n",
    "                             height=H, fs=fs, rel=0)\n",
    "        print(f'Video available at https://youtube.com/watch?v={video.id}')\n",
    "      else:\n",
    "        video = PlayVideo(id=video_ids[i][1], source=video_ids[i][0], width=W,\n",
    "                          height=H, fs=fs, autoplay=False)\n",
    "        if video_ids[i][0] == 'Bilibili':\n",
    "          print(f'Video available at https://www.bilibili.com/video/{video.id}')\n",
    "        elif video_ids[i][0] == 'Osf':\n",
    "          print(f'Video available at https://osf.io/{video.id}')\n",
    "      display(video)\n",
    "    tab_contents.append(out)\n",
    "  return tab_contents\n",
    "\n",
    "\n",
    "video_ids = [('Youtube', 'u2-uqRiJHuM'), ('Bilibili', 'BV1gk4y1M7iK')]\n",
    "tab_contents = display_videos(video_ids, W=730, H=410)\n",
    "tabs = widgets.Tab()\n",
    "tabs.children = tab_contents\n",
    "for i in range(len(tab_contents)):\n",
    "  tabs.set_title(i, video_ids[i][0])\n",
    "display(tabs)"
   ]
  },
  {
   "cell_type": "markdown",
   "metadata": {},
   "source": [
    "###  Submit your feedback\n"
   ]
  },
  {
   "cell_type": "code",
<<<<<<< HEAD
   "execution_count": 47,
=======
   "execution_count": null,
>>>>>>> eb2ec683c55123c5e0ee55a184cc40d1f272e801
   "metadata": {
    "cellView": "form",
    "execution": {},
    "tags": [
     "hide-input"
    ]
   },
<<<<<<< HEAD
   "outputs": [
    {
     "data": {
      "application/vnd.jupyter.widget-view+json": {
       "model_id": "8d1a3f6424864f49ad05a54c502b89b0",
       "version_major": 2,
       "version_minor": 0
      },
      "text/plain": [
       "VBox(children=(VBox(children=(HBox(children=(Button(description='🙂', layout=Layout(height='auto', padding='0.5…"
      ]
     },
     "metadata": {},
     "output_type": "display_data"
    }
   ],
=======
   "outputs": [],
>>>>>>> eb2ec683c55123c5e0ee55a184cc40d1f272e801
   "source": [
    "# @title Submit your feedback\n",
    "content_review(f\"{feedback_prefix}_Q_values_Video\")"
   ]
  },
  {
   "cell_type": "markdown",
   "metadata": {
    "execution": {}
   },
   "source": [
    "### Coding exercise 3: Create a steps-to-go solver\n",
    "\n",
    "Create a new MDP class that holds steps-to-go as Q-values"
   ]
  },
  {
   "cell_type": "code",
<<<<<<< HEAD
   "execution_count": 48,
=======
   "execution_count": null,
>>>>>>> eb2ec683c55123c5e0ee55a184cc40d1f272e801
   "metadata": {
    "execution": {}
   },
   "outputs": [],
   "source": [
    "class MDPToGo(MDPBase):\n",
<<<<<<< HEAD
=======
    "\n",
>>>>>>> eb2ec683c55123c5e0ee55a184cc40d1f272e801
    "  def __init__(self, grid_world: GridWorldBase):\n",
    "    \"\"\"Constructs an MDP from a GridWorldBase object.\n",
    "\n",
    "    States should be numbered from left-to-right and from top-to-bottom.\n",
    "\n",
    "    Args:\n",
    "      grid_world: GridWorld specification.\n",
    "    \"\"\"\n",
    "    super().__init__(grid_world)\n",
    "    self.Q = np.zeros((self.num_states, self.num_actions))\n",
    "\n",
    "  def computeQ(self):\n",
    "    \"\"\"Store discounted steps-to-go in an SxA matrix called Q.\n",
    "\n",
    "    This matrix will then be used to extract the optimal policy.\n",
    "    \"\"\"\n",
<<<<<<< HEAD
    "    goal_queue = [(self.goal_state, 0)]\n",
    "    goals_done = set()\n",
    "    while goal_queue:\n",
    "      goal, steps_to_go = goal_queue.pop(0)  # pop from front of list\n",
    "      steps_to_go += 1  # Increase the number of steps to goal.\n",
    "      neighbours = self.grid_world.get_neighbours(self.state_to_cell[goal])\n",
    "      goals_done.add(goal)\n",
    "      for a, action in enumerate(neighbours):\n",
    "        nbr = neighbours[action]\n",
    "        s = self.cell_to_state[nbr[0], nbr[1]]\n",
    "        if goal == self.goal_state and s == self.goal_state:\n",
    "          self.Q[s, a] = 0\n",
    "        elif s == goal:\n",
    "          # If (s, a) leads to itself then we have an infinite loop (since\n",
    "          # we're assuming deterministic transitions).\n",
    "          self.Q[s, a] = np.inf\n",
    "        else:\n",
    "          self.Q[s, a] = steps_to_go\n",
    "        if s not in goals_done:\n",
    "          goal_queue.append((s, steps_to_go))\n",
=======
    "    #################################################\n",
    "    # Implement a function to compute Q\n",
    "    raise NotImplementedError(\"Implement `ComputeQ` function!\")\n",
    "    #################################################\n",
    "    goal_queue = [(self.goal_state, 0)]\n",
    "    goals_done = set()\n",
    "    while goal_queue:\n",
    "      goal, steps_to_go = ...  # pop from front of list\n",
    "      steps_to_go += ...  # Increase the number of steps to goal.\n",
    "      nbr_states, nbr_actions = ...\n",
    "      goals_done.add(...)\n",
    "      for s, a in zip(..., ...):\n",
    "        if goal == self.goal_state and s == self.goal_state:\n",
    "          self.Q[s, a] = ...\n",
    "        elif s == goal:\n",
    "          # If (s, a) leads to itself then we have an infinite loop (since\n",
    "          # we're assuming deterministic transitions).\n",
    "          self.Q[s, a] = ...\n",
    "        else:\n",
    "          self.Q[s, a] = ...\n",
    "        if s not in goals_done:\n",
    "          goal_queue.append((..., ...))\n",
>>>>>>> eb2ec683c55123c5e0ee55a184cc40d1f272e801
    "\n",
    "  def plan(self):\n",
    "    \"\"\"Now planning is just doing an argmin over the Q-values!\n",
    "\n",
    "    Note that this is a little different than standard Q-learning (where we do\n",
    "    an argmax), since our Q-values currently store steps-to-go.\n",
    "    \"\"\"\n",
<<<<<<< HEAD
    "    self.pi = np.argmin(self.Q, axis=-1)\n",
    "\n"
=======
    "    self.pi = np.argmin(self.Q, axis=-1)"
>>>>>>> eb2ec683c55123c5e0ee55a184cc40d1f272e801
   ]
  },
  {
   "cell_type": "markdown",
   "metadata": {
    "colab_type": "text",
    "execution": {}
   },
   "source": [
    "[*Click for solution*](https://github.com/NeuromatchAcademy/course-content-dl/tree/main/tutorials/W3D4_BasicReinforcementLearning/solutions/W3D4_Tutorial1_Solution_0f69d259.py)\n",
    "\n"
   ]
  },
  {
   "cell_type": "code",
<<<<<<< HEAD
   "execution_count": 49,
   "metadata": {
    "execution": {}
   },
   "outputs": [
    {
     "name": "stdout",
     "output_type": "stream",
     "text": [
      "GridWorld:\n",
      "⬛⬛⬛⬛⬛⬛\n",
      "⬛⬜⬜⬜⬜⬛\n",
      "⬛⬜⬜⬜⬜⬛\n",
      "⬛⬜⬜⬜⬜⬛\n",
      "⬛⬜⬜⬜⭐⬛\n",
      "⬛⬛⬛⬛⬛⬛\n",
      "Optimal policy:\n",
      "⬛⬛⬛⬛⬛⬛\n",
      "⬛▶️🔽🔽◀️⬛\n",
      "⬛▶️◀️◀️◀️⬛\n",
      "⬛▶️◀️◀️◀️⬛\n",
      "⬛▶️🔼🔼⭐⬛\n",
      "⬛⬛⬛⬛⬛⬛\n"
     ]
    }
   ],
=======
   "execution_count": null,
   "metadata": {
    "execution": {}
   },
   "outputs": [],
>>>>>>> eb2ec683c55123c5e0ee55a184cc40d1f272e801
   "source": [
    "mdpTg = MDPToGo(gwb)\n",
    "print('GridWorld:')\n",
    "mdpTg.draw()\n",
    "# Compute Q, then extract policy from it.\n",
    "mdpTg.computeQ()\n",
    "mdpTg.plan()\n",
    "print('Optimal policy:')\n",
    "mdpTg.draw(True)"
   ]
  },
  {
   "cell_type": "markdown",
   "metadata": {},
   "source": [
    "####  Submit your feedback\n"
   ]
  },
  {
   "cell_type": "code",
<<<<<<< HEAD
   "execution_count": 50,
=======
   "execution_count": null,
>>>>>>> eb2ec683c55123c5e0ee55a184cc40d1f272e801
   "metadata": {
    "cellView": "form",
    "execution": {},
    "tags": [
     "hide-input"
    ]
   },
<<<<<<< HEAD
   "outputs": [
    {
     "data": {
      "application/vnd.jupyter.widget-view+json": {
       "model_id": "34c340869cb24e04b54ba79f20fa4c9e",
       "version_major": 2,
       "version_minor": 0
      },
      "text/plain": [
       "VBox(children=(VBox(children=(HBox(children=(Button(description='🙂', layout=Layout(height='auto', padding='0.5…"
      ]
     },
     "metadata": {},
     "output_type": "display_data"
    }
   ],
=======
   "outputs": [],
>>>>>>> eb2ec683c55123c5e0ee55a184cc40d1f272e801
   "source": [
    "# @title Submit your feedback\n",
    "content_review(f\"{feedback_prefix}_Create_a_step_to_go_solver_Exercise\")"
   ]
  },
  {
   "cell_type": "markdown",
   "metadata": {
    "execution": {}
   },
   "source": [
    "---\n",
    "# Section 3: Value iteration\n",
    "\n",
    "Value iteration is an iterative algorithm that continuously improves estimates of $Q$ and $V$ by performing the *Bellman backup*. This assumes access to $P$ and $R$ (not typically accessible in RL) but is the backbone of $Q$-learning, which we will discuss later.\n",
    "\n",
    "<br>\n",
    "\n",
    "> *Did you know?* Richard Bellman developed dynamic programming (a core part of any computer science curriculum) precisely for value iteration."
   ]
  },
  {
   "cell_type": "markdown",
   "metadata": {},
   "source": [
    "##  Video 5: Value iteration\n"
   ]
  },
  {
   "cell_type": "code",
<<<<<<< HEAD
   "execution_count": 51,
=======
   "execution_count": null,
>>>>>>> eb2ec683c55123c5e0ee55a184cc40d1f272e801
   "metadata": {
    "cellView": "form",
    "execution": {},
    "tags": [
     "remove-input"
    ]
   },
<<<<<<< HEAD
   "outputs": [
    {
     "data": {
      "application/vnd.jupyter.widget-view+json": {
       "model_id": "0af5cfd510114116a9819639aace8412",
       "version_major": 2,
       "version_minor": 0
      },
      "text/plain": [
       "Tab(children=(Output(), Output()), selected_index=0, titles=('Youtube', 'Bilibili'))"
      ]
     },
     "metadata": {},
     "output_type": "display_data"
    }
   ],
=======
   "outputs": [],
>>>>>>> eb2ec683c55123c5e0ee55a184cc40d1f272e801
   "source": [
    "# @title Video 5: Value iteration\n",
    "from ipywidgets import widgets\n",
    "from IPython.display import YouTubeVideo\n",
    "from IPython.display import IFrame\n",
    "from IPython.display import display\n",
    "\n",
    "\n",
    "class PlayVideo(IFrame):\n",
    "  def __init__(self, id, source, page=1, width=400, height=300, **kwargs):\n",
    "    self.id = id\n",
    "    if source == 'Bilibili':\n",
    "      src = f'https://player.bilibili.com/player.html?bvid={id}&page={page}'\n",
    "    elif source == 'Osf':\n",
    "      src = f'https://mfr.ca-1.osf.io/render?url=https://osf.io/download/{id}/?direct%26mode=render'\n",
    "    super(PlayVideo, self).__init__(src, width, height, **kwargs)\n",
    "\n",
    "\n",
    "def display_videos(video_ids, W=400, H=300, fs=1):\n",
    "  tab_contents = []\n",
    "  for i, video_id in enumerate(video_ids):\n",
    "    out = widgets.Output()\n",
    "    with out:\n",
    "      if video_ids[i][0] == 'Youtube':\n",
    "        video = YouTubeVideo(id=video_ids[i][1], width=W,\n",
    "                             height=H, fs=fs, rel=0)\n",
    "        print(f'Video available at https://youtube.com/watch?v={video.id}')\n",
    "      else:\n",
    "        video = PlayVideo(id=video_ids[i][1], source=video_ids[i][0], width=W,\n",
    "                          height=H, fs=fs, autoplay=False)\n",
    "        if video_ids[i][0] == 'Bilibili':\n",
    "          print(f'Video available at https://www.bilibili.com/video/{video.id}')\n",
    "        elif video_ids[i][0] == 'Osf':\n",
    "          print(f'Video available at https://osf.io/{video.id}')\n",
    "      display(video)\n",
    "    tab_contents.append(out)\n",
    "  return tab_contents\n",
    "\n",
    "\n",
    "video_ids = [('Youtube', 'XIcX37uaRF0'), ('Bilibili', 'BV1SF41197kC')]\n",
    "tab_contents = display_videos(video_ids, W=730, H=410)\n",
    "tabs = widgets.Tab()\n",
    "tabs.children = tab_contents\n",
    "for i in range(len(tab_contents)):\n",
    "  tabs.set_title(i, video_ids[i][0])\n",
    "display(tabs)"
   ]
  },
  {
   "cell_type": "markdown",
   "metadata": {},
   "source": [
    "##  Submit your feedback\n"
   ]
  },
  {
   "cell_type": "code",
<<<<<<< HEAD
   "execution_count": 52,
=======
   "execution_count": null,
>>>>>>> eb2ec683c55123c5e0ee55a184cc40d1f272e801
   "metadata": {
    "cellView": "form",
    "execution": {},
    "tags": [
     "hide-input"
    ]
   },
<<<<<<< HEAD
   "outputs": [
    {
     "data": {
      "application/vnd.jupyter.widget-view+json": {
       "model_id": "c63f4e0c13ad49969ced264336eac567",
       "version_major": 2,
       "version_minor": 0
      },
      "text/plain": [
       "VBox(children=(VBox(children=(HBox(children=(Button(description='🙂', layout=Layout(height='auto', padding='0.5…"
      ]
     },
     "metadata": {},
     "output_type": "display_data"
    }
   ],
=======
   "outputs": [],
>>>>>>> eb2ec683c55123c5e0ee55a184cc40d1f272e801
   "source": [
    "# @title Submit your feedback\n",
    "content_review(f\"{feedback_prefix}_Value_Iteration_Video\")"
   ]
  },
  {
   "cell_type": "markdown",
   "metadata": {
    "execution": {}
   },
   "source": [
    "### Coding exercise 4: Implement value iteration\n",
    "\n",
    "Create a new MDP class that does value iteration"
   ]
  },
  {
   "cell_type": "code",
<<<<<<< HEAD
   "execution_count": 53,
=======
   "execution_count": null,
>>>>>>> eb2ec683c55123c5e0ee55a184cc40d1f272e801
   "metadata": {
    "execution": {}
   },
   "outputs": [],
   "source": [
    "class MDPValueIteration(MDPToGo):\n",
    "\n",
    "  def __init__(self, grid_world: GridWorldBase, gamma: float = 0.99):\n",
    "    \"\"\"Constructs an MDP from a GridWorldBase object.\n",
    "\n",
    "    States should be numbered from left-to-right and from top-to-bottom.\n",
    "\n",
    "    Args:\n",
    "      grid_world: GridWorld specification.\n",
    "      gamma: Discount factor.\n",
    "    \"\"\"\n",
    "    super().__init__(grid_world)\n",
    "    self.gamma = gamma\n",
    "\n",
    "  def computeQ(self, error_tolerance : float = 1e-5):\n",
    "    \"\"\"Compute Q and V vectors via value iteration.\n",
    "\n",
    "    Args:\n",
    "      error_tolerance: How much error we tolerate between successive Q updates.\n",
    "    \"\"\"\n",
    "    self.Q = np.zeros((self.num_states, self.num_actions))\n",
    "    num_iterations = 0\n",
    "    error = np.inf\n",
    "    #################################################\n",
    "    # Write this method!\n",
    "    # First find Q, and then extract V from Q.\n",
    "    # Hint: Use matrix multiplication instead of for loops!\n",
<<<<<<< HEAD
    "    # raise NotImplementedError(\"Implement `computeQ` function!\")\n",
    "    #################################################\n",
    "    while error > error_tolerance:\n",
    "      new_Q = np.zeros_like(self.Q)\n",
    "      max_next_Q = np.max(self.Q, axis=-1)\n",
    "      for a in range(self.num_actions):\n",
    "        new_Q[:, a] = self.R[:, a] + self.gamma * np.dot(self.P[:, a, :], max_next_Q)\n",
    "      error = np.max(np.abs(new_Q - self.Q))\n",
=======
    "    raise NotImplementedError(\"Implement `computeQ` function!\")\n",
    "    #################################################\n",
    "    while error > error_tolerance:\n",
    "      new_Q = ...\n",
    "      max_next_Q = ...\n",
    "      for a in range(self.num_actions):\n",
    "        new_Q[:, a] = ...\n",
    "      error = ...\n",
>>>>>>> eb2ec683c55123c5e0ee55a184cc40d1f272e801
    "      self.Q = np.copy(new_Q)\n",
    "      num_iterations += 1\n",
    "    self.V = np.max(self.Q, axis=-1)\n",
    "    print(f'Q and V found in {num_iterations} iterations with an error tolerance of {error_tolerance}.')\n",
    "\n",
    "  def plan(self):\n",
    "    \"\"\"Now planning is just doing an argmax over the Q-values!\n",
    "    \"\"\"\n",
    "    #################################################\n",
    "    # Note that we're going back to argmax, since the Q-values now represent proper\n",
    "    # \"returns-to-go\", so we want to maximize that.\n",
    "    # Write this method! It should be a one-liner, and very similar to what you\n",
    "    # used for extracting V from Q.\n",
<<<<<<< HEAD
    "    # raise NotImplementedError(\"Implement `plan` function!\")\n",
    "    #################################################\n",
    "    self.pi = np.argmax(self.Q, axis=-1)\n",
=======
    "    raise NotImplementedError(\"Implement `plan` function!\")\n",
    "    #################################################\n",
    "    self.pi = ...\n",
>>>>>>> eb2ec683c55123c5e0ee55a184cc40d1f272e801
    "\n",
    "  def _draw_v(self):\n",
    "    \"\"\"Draw the V values.\"\"\"\n",
    "    min_v = np.min(self.V)\n",
    "    max_v = np.max(self.V)\n",
    "    wall_v = 2 * min_v - max_v  # Creating a smaller value for walls.\n",
    "    grid_values = np.ones_like(self.grid_world.world_spec, dtype=np.int32) * wall_v\n",
    "    # Fill in the V values in grid cells.\n",
    "    for s in range(self.num_states):\n",
    "      cell = self.state_to_cell[s]\n",
    "      grid_values[cell[0], cell[1]] = self.V[s]\n",
    "\n",
    "    fig, ax = plt.subplots()\n",
    "    ax.grid(False)\n",
    "    ax.get_xaxis().set_visible(False)\n",
    "    ax.get_yaxis().set_visible(False)\n",
    "    grid = ax.matshow(grid_values)\n",
    "    grid.set_clim(wall_v, max_v)\n",
    "    fig.colorbar(grid)\n",
    "\n",
    "  def draw(self, draw_mode: str = 'grid'):\n",
    "    \"\"\"Draw the GridWorld according to specified mode.\n",
    "\n",
    "    Args:\n",
    "      draw_mode: Specification of what mode to draw. Supported options:\n",
    "                 'grid': Draw the base GridWorld.\n",
    "                 'policy': Display the policy.\n",
    "                 'values': Display the values for each state.\n",
    "    \"\"\"\n",
    "    # First make sure we convert our MDP policy into the GridWorld policy.\n",
    "    if draw_mode == 'values':\n",
    "      self._draw_v()\n",
    "    else:\n",
    "      super().draw(draw_mode == 'policy')"
   ]
  },
  {
   "cell_type": "markdown",
   "metadata": {
    "colab_type": "text",
    "execution": {}
   },
   "source": [
    "[*Click for solution*](https://github.com/NeuromatchAcademy/course-content-dl/tree/main/tutorials/W3D4_BasicReinforcementLearning/solutions/W3D4_Tutorial1_Solution_fa9d3f4b.py)\n",
    "\n"
   ]
  },
  {
   "cell_type": "code",
<<<<<<< HEAD
   "execution_count": 54,
   "metadata": {
    "execution": {}
   },
   "outputs": [
    {
     "name": "stdout",
     "output_type": "stream",
     "text": [
      "GridWorld:\n",
      "⬛⬛⬛⬛⬛⬛\n",
      "⬛⬜⬜⬜⬜⬛\n",
      "⬛⬜⬜⬜⬜⬛\n",
      "⬛⬜⬜⬜⬜⬛\n",
      "⬛⬜⬜⬜⭐⬛\n",
      "⬛⬛⬛⬛⬛⬛\n",
      "Q and V found in 1147 iterations with an error tolerance of 1e-05.\n",
      "Optimal policy:\n",
      "⬛⬛⬛⬛⬛⬛\n",
      "⬛▶️▶️▶️🔽⬛\n",
      "⬛▶️▶️▶️🔽⬛\n",
      "⬛▶️▶️▶️🔽⬛\n",
      "⬛▶️▶️▶️⭐⬛\n",
      "⬛⬛⬛⬛⬛⬛\n"
     ]
    },
    {
     "data": {
      "image/png": "iVBORw0KGgoAAAANSUhEUgAAAdEAAAGPCAYAAAADR+ocAAAAOXRFWHRTb2Z0d2FyZQBNYXRwbG90bGliIHZlcnNpb24zLjUuMCwgaHR0cHM6Ly9tYXRwbG90bGliLm9yZy8/fFQqAAAACXBIWXMAAA9hAAAPYQGoP6dpAAAWnUlEQVR4nO3db4hV57k34HurMzrMmbFoaXSMGY9KtSlpg4c0rxJMwhETWoiklglS0qJICf0TbMsQbAkIRmyl9G1pi/lW6FjoF5smtqUTSxJbiSGilKakJLXUZHQMgVacMdU47r3eD0bfM05ycNZaz+zt8rpgEdyuP8/+kp/3/Tz7WbUsy7IAACZtWrMHAADXKyEKADkJUQDISYgCQE5CFAByEqIAkJMQBYCchCgA5CREASAnIQoAOQlRAMhJiAJATkIUAHKakffCRqMRw8PD0dXVFbVarcwxAZBYlmUxOjoaPT09MW1aunrq/PnzceHChVLu1d7eHrNmzSrlXmXJHaLDw8OxcOHCMscCwBQbGhqKm2++Ocm9z58/H//Z+x/x1tv1Uu43b968+Mc//tFSQZo7RLu6uiIi4q74dMyIttIGBEB6F2MsDsZvr/y/PIULFy7EW2/X4x9HeqO7q1i1OzLaiP/8rzfiwoUL1QjRyy3cGdEWM2pCFOC6kl36z1RMx3X+x6WjiHpWzljKZmERAOSUuxIFgGvRiCwaUayULHp9KkIUgKQa0YhGCfdoRdq5AJCTShSApOpZFvWsWDu26PWpCFEAkqrynKh2LgDkpBIFIKlGZFGvaCUqRAFISjsXAJhAJQpAUlbnAkBOjfeOovdoRUIUgKTqJSwsKnp9KuZEASAnlSgASdWz4q8ya9VXoQlRAJKq8pyodi4A5KQSBSCpRtSiHrXC92hFQhSApBrZpaPoPVqRdi4A5KQSBSCpegnt3KLXpyJEAUiqyiGqnQsAOalEAUiqkdWikRVcnVvw+lSEKABJVbmdK0QBSKoe06JecPawXtJYymZOFAByUokCkFRWwpxoZk4UgBtRledEtXMBICeVKABJ1bNpUc8KLixq0b1zhSgASTWiFo2Cjc9GtGaKaucCQE4qUQCSqvLCIiEKQFLlzIlq5wJApahEAUjq0sKighvQa+cCcCNqlLB3bquuzhWiACRlThQAmEAlCkBSjZhW2c0WhCgASdWzWtQLvoWl6PWpaOcCQE4qUQCSqpewOreunQvAjaiRTYtGwdW5DatzAaBaVKIAJKWdCwA5NaL46tpGOUMpnXYuAOSkEgUgqXI2W2jNmk+IApBUOXvnClEAbkBVfhVaa0Y7AFwHVKIAJKWdCwA5lfM70dYM0dYcFQBcB1SiACTVyGrRKLrZQou+Ck2IApBUo4R2rt+JVsix//t/mj2EKTftpvPNHkJTLLrpn80eQlPcOfd4s4cw5Q7fPr3ZQ+A6JEQBSKqcV6GpRAG4AdWjFvWCmyUUvT6V1ox2ALgOqEQBSEo7FwByqkfxdmy9nKGUTogCkFSVK9HWHBUAXAdUogAkZQN6AMgpK+F9opmfuADA1BgdHY0tW7ZEb29vdHR0xKpVq+Lw4cNX/v7s2bPx1a9+NW6++ebo6OiIW2+9NZ588slJP0clCkBSzWjnbt68Of7yl7/EwMBA9PT0xJ49e2LNmjXx6quvxoIFC+Ib3/hGPPfcc7Fnz55YtGhRPPvss/HlL385enp64oEHHrjm56hEAUjq8ltcih7X6ty5c7F3797YtWtXrF69OpYuXRrbtm2LpUuXxu7duyMi4sUXX4wvfvGLcc8998SiRYviS1/6Unzyk5+Ml19+eVLfTYgCcN0YGRkZd7z77rsTzrl48WLU6/WYNWvWuM87Ojri4MGDERGxatWqeOaZZ+LkyZORZVk8//zz8frrr8fatWsnNR4hCkBS9fdehVb0iIhYuHBhzJ49+8qxc+fOCc/r6uqKlStXxvbt22N4eDjq9Xrs2bMnDh06FKdOnYqIiB/96Edx6623xs033xzt7e1x//33x09+8pNYvXr1pL6bOVEAkirzpdxDQ0PR3d195fOZM2e+7/kDAwOxadOmWLBgQUyfPj1WrFgRGzZsiCNHjkTEpRB96aWX4plnnone3t74wx/+EF/5yleip6cn1qxZc83jEqIAXDe6u7vHhegHWbJkSRw4cCDeeeedGBkZifnz58dDDz0UixcvjnPnzsW3vvWteOqpp+Izn/lMRER84hOfiD/96U/xve99b1Ihqp0LQFKNmFbKkUdnZ2fMnz8/Tp8+HYODg7Fu3boYGxuLsbGxmDZt/D2nT58ejUZjUvdXiQKQVD2rRb1gO3ey1w8ODkaWZbFs2bI4duxY9Pf3x/Lly2Pjxo3R1tYWd999d/T390dHR0f09vbGgQMH4mc/+1l8//vfn9RzhCgASZU5J3qtzpw5E1u3bo0TJ07EnDlzYv369bFjx45oa2uLiIhf/OIXsXXr1vj85z8f//rXv6K3tzd27NgRjzzyyKSeI0QBqJy+vr7o6+v7wL+fN29e/PSnPy38HCEKQFJZCa9Cy2xAD8CNqB61El7KbQN6AKgUlSgASTWyyS8Mer97tCIhCkBSjRLmRIten0prjgoArgMqUQCSakQtGgUXBhW9PhUhCkBSzdixaKoIUQCSMicKAEygEgUgqUaUsHeuOVEAbkRZCQuLshYNUe1cAMhJJQpAUs14FdpUEaIAJGV1LgAwgUoUgKS0cwEgpypv+6edCwA5qUQBSEo7FwByEqIAkFOVQ9ScKADkpBIFIKkqV6JCFICksij+E5WsnKGUTjsXAHJSiQKQlHYuAORU5RDVzgWAnFSiACRV5UpUiAKQVJVDVDsXAHJSiQKQVJbVIitYSRa9PhUhCkBSVX6fqBAFIClzogDABCpRAJIyJwoAOWnnAgATqEQBSEo7l3Gm3XS+2UOYcotu+mezh9AUd8493uwhNMW9Xa82ewhT7nDc1uwhVFZWQju3VUNUOxcAclKJApBUFhFZVvwerUiIApBUI2pRq+iORdq5AJCTShSApKzOBYCcGlktahXdbEGIApBUlpWwsKhFVxaZEwWAnFSiACRlThQAcqpyiGrnAkBOKlEAkrI6FwBysjoXAJhAJQpAUpcq0aILi0oaTMmEKABJWZ0LAEygEgUgqSyKvw+0Rbu5QhSAtKrczhWiAKRV4VLUnCgA5KQSBSCtEtq5oZ0LwI3IjkUAcB0ZHR2NLVu2RG9vb3R0dMSqVavi8OHD487561//Gg888EDMnj07Ojs744477og333xzUs8RogAkdXl1btFjMjZv3hz79++PgYGBeOWVV2Lt2rWxZs2aOHnyZERE/P3vf4+77rorli9fHi+88EL8+c9/jscffzxmzZo1qedo5wKQVlYrPqc5ievPnTsXe/fujaeffjpWr14dERHbtm2Lffv2xe7du+OJJ56Ib3/72/HpT386du3adeW6JUuWTHpYKlEArhsjIyPjjnfffXfCORcvXox6vT6hquzo6IiDBw9Go9GI3/zmN/HRj3407rvvvvjIRz4Sd955Z/zqV7+a9HiEKABJXV5YVPSIiFi4cGHMnj37yrFz584Jz+vq6oqVK1fG9u3bY3h4OOr1euzZsycOHToUp06dirfffjvOnj0b3/nOd+L++++PZ599Nh588MH47Gc/GwcOHJjUd9POBSCtEjdbGBoaiu7u7isfz5w5831PHxgYiE2bNsWCBQti+vTpsWLFitiwYUMcOXIkGo1GRESsW7cuvv71r0dExO233x4vvvhiPPnkk3H33Xdf87BUogBcN7q7u8cdHxSiS5YsiQMHDsTZs2djaGgoXn755RgbG4vFixfHhz/84ZgxY0bceuut46752Mc+ZnUuAK2lGatzL+vs7Iz58+fH6dOnY3BwMNatWxft7e1xxx13xGuvvTbu3Ndffz16e3sndX/tXADSm+LNEgYHByPLsli2bFkcO3Ys+vv7Y/ny5bFx48aIiOjv74+HHnooVq9eHffee2/87ne/i3379sULL7wwqecIUQCSasZbXM6cORNbt26NEydOxJw5c2L9+vWxY8eOaGtri4iIBx98MJ588snYuXNnPProo7Fs2bLYu3dv3HXXXZN6jhAFoHL6+vqir6/vfz1n06ZNsWnTpkLPEaIApFXhV6EJUQASq713FL1H67E6FwByUokCkJZ2LgDkVOEQ1c4FgJxUogCkNcWvQptKQhSApP7nW1iK3KMVaecCQE4qUQDSqvDCIiEKQFrmRAEgn1p26Sh6j1ZkThQAclKJApCWOVEAyKnCc6LauQCQk0oUgLS0cwEgpwqHqHYuAOSkEgUgrQpXokIUgLSszgUArqYSBSCpKm/7J0QBSKvCc6LauQCQkxAFgJy0cwFIqhYlzImWMpLyCdEcFt30z2YPYcrdOfd4s4fQFPd2vdrsITTFf3fUmz2EKber2QOoMj9xAQCuphIFIK0Kr84VogCkVeEQ1c4FgJxUogAkZcciAMhLOxcAuJpKFIC0KlyJClEAkjInCgB52bEIALiaShSAtMyJAkA+VZ4T1c4FgJxUogCkpZ0LADmV0M5t1RDVzgWAnFSiAKSlnQsAOVU4RLVzASAnlSgASfmdKAAwgUoUgLTMiQIAV1OJApBUledEhSgA6bVoCBalnQsAOalEAUirwguLhCgASVV5TlQ7FwByUokCkJZ2LgDko50LAEygEgUgLe1cAMhJiAJAPuZEAYAJhCgAaWUlHZMwOjoaW7Zsid7e3ujo6IhVq1bF4cOH3/fcRx55JGq1WvzgBz+Y9FcTogCk1YQQ3bx5c+zfvz8GBgbilVdeibVr18aaNWvi5MmT48576qmn4qWXXoqenp5cX02IAlAp586di71798auXbti9erVsXTp0ti2bVssXbo0du/efeW8kydPxte+9rX4+c9/Hm1tbbmeZWERAEmVubBoZGRk3OczZ86MmTNnjvvs4sWLUa/XY9asWeM+7+joiIMHD0ZERKPRiIcffjj6+/vj4x//eO5xqUQBSKvEdu7ChQtj9uzZV46dO3dOeFxXV1esXLkytm/fHsPDw1Gv12PPnj1x6NChOHXqVEREfPe7340ZM2bEo48+WuirqUQBuG4MDQ1Fd3f3lT9fXYVeNjAwEJs2bYoFCxbE9OnTY8WKFbFhw4Y4cuRIHDlyJH74wx/G0aNHo1arFRqPShSApC63c4seERHd3d3jjg8K0SVLlsSBAwfi7NmzMTQ0FC+//HKMjY3F4sWL449//GO8/fbbccstt8SMGTNixowZ8cYbb8Q3v/nNWLRo0aS+m0oUgLSauGNRZ2dndHZ2xunTp2NwcDB27doV69evjzVr1ow777777ouHH344Nm7cOKn7C1EAKmdwcDCyLItly5bFsWPHor+/P5YvXx4bN26Mtra2mDt37rjz29raYt68ebFs2bJJPUeIApBWEyrRM2fOxNatW+PEiRMxZ86cWL9+fezYsSP3T1k+iBAFIKnae0fRe0xGX19f9PX1XfP5x48fn+QTLhGiAKRV4be4WJ0LADmpRAFIqsqvQhOiAKSlnQsAXE0lCkB6LVpJFiVEAUiqynOi2rkAkJNKFIC0KrywSIgCkJR2LgAwgUoUgLS0cwEgnyq3c4VoDnfOPd7sIUy5e7tebfYQmuK/O+rNHgJc/ypciZoTBYCcVKIApFXhSlSIApBUledEtXMBICeVKABpaecCQD61LItaViwFi16finYuAOSkEgUgLe1cAMjH6lwAYAKVKABpaecCQD5VbucKUQDSqnAlak4UAHJSiQKQlHYuAOSlnQsAXE0lCkByrdqOLUqIApBWll06it6jBWnnAkBOKlEAkrI6FwDysjoXALiaShSApGqNS0fRe7QiIQpAWhVu5wpRAJKq8sIic6IAkJNKFIC0KrzZghAFICntXABgApUoAGlZnQsA+WjnAgATqEQBSMvqXADIRzsXAJhAJQpAWlbnAkA+VW7nClEA0mpkl46i92hB5kQBICeVKABpmRMFgHxqUcKcaCkjKZ92LgDkpBIFIC07FgFAPlX+iYt2LgDkpBIFIC2rcwEgn1qWRa3gnGbR61PRzgWAnFSiAKTVeO8oeo8WpBIFIKnL7dyix2SMjo7Gli1bore3Nzo6OmLVqlVx+PDhiIgYGxuLxx57LG677bbo7OyMnp6e+MIXvhDDw8OT/m5CFIC0spKOSdi8eXPs378/BgYG4pVXXom1a9fGmjVr4uTJk/Hvf/87jh49Go8//ngcPXo0fvnLX8Zrr70WDzzwwKS/mnYuAJVy7ty52Lt3bzz99NOxevXqiIjYtm1b7Nu3L3bv3h1PPPFE7N+/f9w1P/7xj+NTn/pUvPnmm3HLLbdc87OEKABplbhj0cjIyLiPZ86cGTNnzhz32cWLF6Ner8esWbPGfd7R0REHDx5839ufOXMmarVafOhDH5rUsLRzAUjq8o5FRY+IiIULF8bs2bOvHDt37pzwvK6urli5cmVs3749hoeHo16vx549e+LQoUNx6tSpCeefP38+HnvssdiwYUN0d3dP6rupRAG4bgwNDY0Luqur0MsGBgZi06ZNsWDBgpg+fXqsWLEiNmzYEEeOHBl33tjYWPT19UWWZbF79+5Jj0eIApBWie3c7u7ua6oWlyxZEgcOHIh33nknRkZGYv78+fHQQw/F4sWLr5xzOUDfeOONeO655yZdhUZo5wKQWK1RzpFHZ2dnzJ8/P06fPh2Dg4Oxbt26iPj/Afq3v/0tfv/738fcuXNz3V8lCkDlDA4ORpZlsWzZsjh27Fj09/fH8uXLY+PGjTE2Nhaf+9zn4ujRo/HrX/866vV6vPXWWxERMWfOnGhvb7/m5whRANJqwvtEz5w5E1u3bo0TJ07EnDlzYv369bFjx45oa2uL48ePxzPPPBMREbfffvu4655//vm45557rvk5QjSHw7dPb/YQptzhuK3ZQ2iKXc0eAFRBE97i0tfXF319fe/7d4sWLYqspA3tzYkCQE4qUQCSqvKr0IQoAGk1YU50qghRANLKovirzFozQ82JAkBeKlEAkjInCgB5ZVHCnGgpIymddi4A5KQSBSAtq3MBIKdGRNRKuEcL0s4FgJxUogAkZXUuAORlThQAcqpwiJoTBYCcVKIApFXhSlSIApCWn7gAAFdTiQKQlJ+4AEBeFZ4T1c4FgJxUogCk1cgiagUryUZrVqJCFIC0tHMBgKupRAFIrIRKNFqzEhWiAKRV4XauEAUgrUYWhSvJFl1YZE4UAHJSiQKQVta4dBS9RwsSogCkVeE5Ue1cAMhJJQpAWhVeWCREAUhLOxcAuJpKFIC0siihEi1lJKUTogCkpZ0LAFxNJQpAWo1GRBTcLKFhswUAbkQVbucKUQDSqnCImhMFgJxUogCkZcciAMgnyxqRFXwLS9HrU9HOBYCcVKIApJVlxduxLbqwSIgCkFZWwpxoi4aodi4A5KQSBSCtRiOiVnBhUIsuLBKiAKSlnQsAXE0lCkBSWaMRWcF2bqv+TlSIApBWhdu5QhSAtBpZRK2aIWpOFAByUokCkFaWReGXcrdoJSpEAUgqa2SRFWznZi0aotq5AJCTShSAtLJGFG/n+okLADcg7VwAYILclejlfxVcjLHCv6EFYGpdjLGImJoK72L2buF27OXxtprcITo6OhoREQfjt6UNBoCpNTo6GrNnz05y7/b29pg3b14cfKucnJg3b160t7eXcq+y1LKc/wxpNBoxPDwcXV1dUavVyh4XAAllWRajo6PR09MT06alm9k7f/58XLhwoZR7tbe3x6xZs0q5V1lyhygA3OgsLAKAnIQoAOQkRAEgJyEKADkJUQDISYgCQE5CFAByEqIAkJMQBYCchCgA5CREASAnIQoAOf0/rasFPSE6v78AAAAASUVORK5CYII=",
      "text/plain": [
       "<Figure size 640x480 with 2 Axes>"
      ]
     },
     "metadata": {},
     "output_type": "display_data"
    }
   ],
=======
   "execution_count": null,
   "metadata": {
    "execution": {}
   },
   "outputs": [],
>>>>>>> eb2ec683c55123c5e0ee55a184cc40d1f272e801
   "source": [
    "mdpVi = MDPValueIteration(gwb)\n",
    "print('GridWorld:')\n",
    "mdpVi.draw()\n",
    "# Compute Q, then extract policy from it.\n",
    "mdpVi.computeQ()\n",
    "mdpVi.plan()\n",
    "print('Optimal policy:')\n",
    "mdpVi.draw('policy')\n",
    "mdpVi.draw('values')"
   ]
  },
  {
   "cell_type": "markdown",
   "metadata": {},
   "source": [
    "####  Submit your feedback\n"
   ]
  },
  {
   "cell_type": "code",
<<<<<<< HEAD
   "execution_count": 55,
=======
   "execution_count": null,
>>>>>>> eb2ec683c55123c5e0ee55a184cc40d1f272e801
   "metadata": {
    "cellView": "form",
    "execution": {},
    "tags": [
     "hide-input"
    ]
   },
<<<<<<< HEAD
   "outputs": [
    {
     "data": {
      "application/vnd.jupyter.widget-view+json": {
       "model_id": "ebad677d01084e6da5f7a6d23fe0c2c7",
       "version_major": 2,
       "version_minor": 0
      },
      "text/plain": [
       "VBox(children=(VBox(children=(HBox(children=(Button(description='🙂', layout=Layout(height='auto', padding='0.5…"
      ]
     },
     "metadata": {},
     "output_type": "display_data"
    }
   ],
=======
   "outputs": [],
>>>>>>> eb2ec683c55123c5e0ee55a184cc40d1f272e801
   "source": [
    "# @title Submit your feedback\n",
    "content_review(f\"{feedback_prefix}_Implement_Value_Iteration_Exercise\")"
   ]
  },
  {
   "cell_type": "markdown",
   "metadata": {
    "execution": {}
   },
   "source": [
    "---\n",
    "# Section 4: Policy iteration\n",
    "\n",
    "Rather than iterating on estimates of $Q$ and $V$ until we've reached some form of convergence, why not iterate directly on the policy $\\pi$ instead?\n",
    "\n",
    "Policy iteration does just that and can sometimes lead to solutions in fewer steps than value iteration."
   ]
  },
  {
   "cell_type": "markdown",
   "metadata": {},
   "source": [
    "##  Video 6: Policy iteration\n"
   ]
  },
  {
   "cell_type": "code",
<<<<<<< HEAD
   "execution_count": 56,
=======
   "execution_count": null,
>>>>>>> eb2ec683c55123c5e0ee55a184cc40d1f272e801
   "metadata": {
    "cellView": "form",
    "execution": {},
    "tags": [
     "remove-input"
    ]
   },
<<<<<<< HEAD
   "outputs": [
    {
     "data": {
      "application/vnd.jupyter.widget-view+json": {
       "model_id": "9e44e295fc2e497586bbd9735b6dd123",
       "version_major": 2,
       "version_minor": 0
      },
      "text/plain": [
       "Tab(children=(Output(), Output()), selected_index=0, titles=('Youtube', 'Bilibili'))"
      ]
     },
     "metadata": {},
     "output_type": "display_data"
    }
   ],
=======
   "outputs": [],
>>>>>>> eb2ec683c55123c5e0ee55a184cc40d1f272e801
   "source": [
    "# @title Video 6: Policy iteration\n",
    "from ipywidgets import widgets\n",
    "from IPython.display import YouTubeVideo\n",
    "from IPython.display import IFrame\n",
    "from IPython.display import display\n",
    "\n",
    "\n",
    "class PlayVideo(IFrame):\n",
    "  def __init__(self, id, source, page=1, width=400, height=300, **kwargs):\n",
    "    self.id = id\n",
    "    if source == 'Bilibili':\n",
    "      src = f'https://player.bilibili.com/player.html?bvid={id}&page={page}'\n",
    "    elif source == 'Osf':\n",
    "      src = f'https://mfr.ca-1.osf.io/render?url=https://osf.io/download/{id}/?direct%26mode=render'\n",
    "    super(PlayVideo, self).__init__(src, width, height, **kwargs)\n",
    "\n",
    "\n",
    "def display_videos(video_ids, W=400, H=300, fs=1):\n",
    "  tab_contents = []\n",
    "  for i, video_id in enumerate(video_ids):\n",
    "    out = widgets.Output()\n",
    "    with out:\n",
    "      if video_ids[i][0] == 'Youtube':\n",
    "        video = YouTubeVideo(id=video_ids[i][1], width=W,\n",
    "                             height=H, fs=fs, rel=0)\n",
    "        print(f'Video available at https://youtube.com/watch?v={video.id}')\n",
    "      else:\n",
    "        video = PlayVideo(id=video_ids[i][1], source=video_ids[i][0], width=W,\n",
    "                          height=H, fs=fs, autoplay=False)\n",
    "        if video_ids[i][0] == 'Bilibili':\n",
    "          print(f'Video available at https://www.bilibili.com/video/{video.id}')\n",
    "        elif video_ids[i][0] == 'Osf':\n",
    "          print(f'Video available at https://osf.io/{video.id}')\n",
    "      display(video)\n",
    "    tab_contents.append(out)\n",
    "  return tab_contents\n",
    "\n",
    "\n",
    "video_ids = [('Youtube', 'Z77kVYiRm_4'), ('Bilibili', 'BV17u411b7R1')]\n",
    "tab_contents = display_videos(video_ids, W=730, H=410)\n",
    "tabs = widgets.Tab()\n",
    "tabs.children = tab_contents\n",
    "for i in range(len(tab_contents)):\n",
    "  tabs.set_title(i, video_ids[i][0])\n",
    "display(tabs)"
   ]
  },
  {
   "cell_type": "markdown",
   "metadata": {},
   "source": [
    "##  Submit your feedback\n"
   ]
  },
  {
   "cell_type": "code",
<<<<<<< HEAD
   "execution_count": 57,
=======
   "execution_count": null,
>>>>>>> eb2ec683c55123c5e0ee55a184cc40d1f272e801
   "metadata": {
    "cellView": "form",
    "execution": {},
    "tags": [
     "hide-input"
    ]
   },
<<<<<<< HEAD
   "outputs": [
    {
     "data": {
      "application/vnd.jupyter.widget-view+json": {
       "model_id": "e3617c39d1c24fb28a1eec9ad909533f",
       "version_major": 2,
       "version_minor": 0
      },
      "text/plain": [
       "VBox(children=(VBox(children=(HBox(children=(Button(description='🙂', layout=Layout(height='auto', padding='0.5…"
      ]
     },
     "metadata": {},
     "output_type": "display_data"
    }
   ],
=======
   "outputs": [],
>>>>>>> eb2ec683c55123c5e0ee55a184cc40d1f272e801
   "source": [
    "# @title Submit your feedback\n",
    "content_review(f\"{feedback_prefix}_Policy_Iteration_Video\")"
   ]
  },
  {
   "cell_type": "markdown",
   "metadata": {
    "execution": {}
   },
   "source": [
    "### Coding exercise 5: Implement policy iteration\n",
    "\n",
    "Create a new MDP class that does policy iteration."
   ]
  },
  {
   "cell_type": "code",
<<<<<<< HEAD
   "execution_count": 58,
=======
   "execution_count": null,
>>>>>>> eb2ec683c55123c5e0ee55a184cc40d1f272e801
   "metadata": {
    "execution": {}
   },
   "outputs": [],
   "source": [
    "class MDPPolicyIteration(MDPToGo):\n",
    "\n",
<<<<<<< HEAD
    "    def __init__(self, grid_world: GridWorldBase, gamma: float = 0.99):\n",
    "        \"\"\"Constructs an MDP from a GridWorldBase object.\n",
    "\n",
    "        States should be numbered from left-to-right and from top-to-bottom.\n",
    "\n",
    "        Args:\n",
    "          grid_world: GridWorld specification.\n",
    "          gamma: Discount factor.\n",
    "        \"\"\"\n",
    "        super().__init__(grid_world)\n",
    "        self.gamma = gamma\n",
    "\n",
    "    def findPi(self):\n",
    "        \"\"\"Compute the optimal policy π using Policy Iteration.\n",
    "        \n",
    "        This method alternates between policy evaluation and policy improvement.\n",
    "        It assumes that self.P and self.R are defined in the parent class or earlier,\n",
    "        where:\n",
    "            - self.P is a 3D numpy array of shape (num_states, num_actions, num_states)\n",
    "              representing transition probabilities.\n",
    "            - self.R is a 2D numpy array of shape (num_states, num_actions) representing immediate rewards.\n",
    "        \"\"\"\n",
    "        # Initialize Q and policy arbitrarily.\n",
    "        self.Q = np.zeros((self.num_states, self.num_actions))\n",
    "        self.pi = np.zeros(self.num_states, dtype=np.int32)  # initial policy: choose action 0 for all states.\n",
    "        num_iterations = 0\n",
    "        threshold = 1e-6\n",
    "\n",
    "        # Use a dummy new_pi array for comparison\n",
    "        new_pi = np.ones(self.num_states, dtype=np.int32)\n",
    "\n",
    "        while np.any(new_pi != self.pi):\n",
    "            # Policy Evaluation: Compute V for the current policy.\n",
    "            self.V = np.zeros(self.num_states)\n",
    "            while True:\n",
    "                V_new = np.zeros(self.num_states)\n",
    "                for s in range(self.num_states):\n",
    "                    a = self.pi[s]\n",
    "                    # Compute V(s) = R(s, a) + γ * Σ[P(s, a, s') * V(s')]\n",
    "                    V_new[s] = self.R[s, a] + self.gamma * np.dot(self.P[s, a, :], self.V)\n",
    "                if np.max(np.abs(V_new - self.V)) < threshold:\n",
    "                    break\n",
    "                self.V = V_new\n",
    "\n",
    "            # Policy Improvement: Update Q and the policy.\n",
    "            new_Q = np.zeros((self.num_states, self.num_actions))\n",
    "            for a in range(self.num_actions):\n",
    "                # For each action, compute Q(s,a) = R(s,a) + γ * Σ[P(s,a,s') * V(s')]\n",
    "                new_Q[:, a] = self.R[:, a] + self.gamma * np.dot(self.P[:, a, :], self.V)\n",
    "            # Greedily select the action with the highest Q value.\n",
    "            new_pi = np.argmax(new_Q, axis=1)\n",
    "            self.Q = new_Q.copy()\n",
    "            self.pi = new_pi.copy()\n",
    "            num_iterations += 1\n",
    "\n",
    "        print(f'Q and V found in {num_iterations} iterations.')\n",
    "\n",
    "    def _draw_v(self):\n",
    "        \"\"\"Draw the V values.\"\"\"\n",
    "        min_v = np.min(self.V)\n",
    "        max_v = np.max(self.V)\n",
    "        wall_v = 2 * min_v - max_v  # Creating a smaller value for walls.\n",
    "        grid_values = np.ones_like(self.grid_world.world_spec, dtype=np.int32) * wall_v\n",
    "        # Fill in the V values in grid cells.\n",
    "        for s in range(self.num_states):\n",
    "            cell = self.state_to_cell[s]\n",
    "            grid_values[cell[0], cell[1]] = self.V[s]\n",
    "\n",
    "        fig, ax = plt.subplots()\n",
    "        ax.grid(False)\n",
    "        ax.get_xaxis().set_visible(False)\n",
    "        ax.get_yaxis().set_visible(False)\n",
    "        grid = ax.matshow(grid_values)\n",
    "        grid.set_clim(wall_v, max_v)\n",
    "        fig.colorbar(grid)\n",
    "\n",
    "    def draw(self, draw_mode: str = 'grid'):\n",
    "        \"\"\"Draw the GridWorld according to specified mode.\n",
    "\n",
    "        Args:\n",
    "          draw_mode: Specification of what mode to draw. Supported options:\n",
    "                     'grid': Draw the base GridWorld.\n",
    "                     'policy': Display the policy.\n",
    "                     'values': Display the values for each state.\n",
    "        \"\"\"\n",
    "        # First make sure we convert our MDP policy into the GridWorld policy.\n",
    "        if draw_mode == 'values':\n",
    "            self._draw_v()\n",
    "        else:\n",
    "            super().draw(draw_mode == 'policy')"
=======
    "  def __init__(self, grid_world: GridWorldBase, gamma: float = 0.99):\n",
    "    \"\"\"Constructs an MDP from a GridWorldBase object.\n",
    "\n",
    "    States should be numbered from left-to-right and from top-to-bottom.\n",
    "\n",
    "    Args:\n",
    "      grid_world: GridWorld specification.\n",
    "      gamma: Discount factor.\n",
    "    \"\"\"\n",
    "    super().__init__(grid_world)\n",
    "    self.gamma = gamma\n",
    "\n",
    "  def findPi(self):\n",
    "    \"\"\"Find π policy.\n",
    "    \"\"\"\n",
    "    self.Q = np.zeros((self.num_states, self.num_actions))\n",
    "    self.pi = np.zeros(self.num_states, dtype=np.int32)\n",
    "    num_iterations = 0\n",
    "    #################################################\n",
    "    # Compute π, which involves computing Q.\n",
    "    # Once you have π and Q, find V.\n",
    "    # Hint: Your value iteration solution will be useful here.\n",
    "    raise NotImplementedError(\"Implement `findPi` function!\")\n",
    "    #################################################\n",
    "    new_pi = ...  # initialize to ones\n",
    "    while np.any(new_pi != self.pi):\n",
    "      new_pi = ...\n",
    "      new_Q = ...  # initialize to zeros\n",
    "      next_V = ...\n",
    "      for a in range(self.num_actions):\n",
    "        new_Q[:, a] = ...\n",
    "      self.Q = np.copy(new_Q)\n",
    "      self.pi = ...\n",
    "      num_iterations += 1\n",
    "    self.V = ...\n",
    "    print(f'Q and V found in {num_iterations} iterations.')\n",
    "\n",
    "  def _draw_v(self):\n",
    "    \"\"\"Draw the V values.\"\"\"\n",
    "    min_v = np.min(self.V)\n",
    "    max_v = np.max(self.V)\n",
    "    wall_v = 2 * min_v - max_v  # Creating a smaller value for walls.\n",
    "    grid_values = np.ones_like(self.grid_world.world_spec, dtype=np.int32) * wall_v\n",
    "    # Fill in the V values in grid cells.\n",
    "    for s in range(self.num_states):\n",
    "      cell = self.state_to_cell[s]\n",
    "      grid_values[cell[0], cell[1]] = self.V[s]\n",
    "\n",
    "    fig, ax = plt.subplots()\n",
    "    ax.grid(False)\n",
    "    ax.get_xaxis().set_visible(False)\n",
    "    ax.get_yaxis().set_visible(False)\n",
    "    grid = ax.matshow(grid_values)\n",
    "    grid.set_clim(wall_v, max_v)\n",
    "    fig.colorbar(grid)\n",
    "\n",
    "  def draw(self, draw_mode: str = 'grid'):\n",
    "    \"\"\"Draw the GridWorld according to specified mode.\n",
    "\n",
    "    Args:\n",
    "      draw_mode: Specification of what mode to draw. Supported options:\n",
    "                 'grid': Draw the base GridWorld.\n",
    "                 'policy': Display the policy.\n",
    "                 'values': Display the values for each state.\n",
    "    \"\"\"\n",
    "    # First make sure we convert our MDP policy into the GridWorld policy.\n",
    "    if draw_mode == 'values':\n",
    "      self._draw_v()\n",
    "    else:\n",
    "      super().draw(draw_mode == 'policy')"
>>>>>>> eb2ec683c55123c5e0ee55a184cc40d1f272e801
   ]
  },
  {
   "cell_type": "markdown",
   "metadata": {
    "colab_type": "text",
    "execution": {}
   },
   "source": [
    "[*Click for solution*](https://github.com/NeuromatchAcademy/course-content-dl/tree/main/tutorials/W3D4_BasicReinforcementLearning/solutions/W3D4_Tutorial1_Solution_63c032bf.py)\n",
    "\n"
   ]
  },
  {
   "cell_type": "code",
<<<<<<< HEAD
   "execution_count": 59,
   "metadata": {
    "execution": {}
   },
   "outputs": [
    {
     "name": "stdout",
     "output_type": "stream",
     "text": [
      "GridWorld:\n",
      "⬛⬛⬛⬛⬛⬛\n",
      "⬛⬜⬜⬜⬜⬛\n",
      "⬛⬜⬜⬜⬜⬛\n",
      "⬛⬜⬜⬜⬜⬛\n",
      "⬛⬜⬜⬜⭐⬛\n",
      "⬛⬛⬛⬛⬛⬛\n",
      "Q and V found in 1 iterations.\n",
      "Optimal policy:\n",
      "⬛⬛⬛⬛⬛⬛\n",
      "⬛◀️◀️◀️◀️⬛\n",
      "⬛◀️◀️◀️◀️⬛\n",
      "⬛◀️◀️◀️🔽⬛\n",
      "⬛◀️◀️▶️⭐⬛\n",
      "⬛⬛⬛⬛⬛⬛\n"
     ]
    },
    {
     "data": {
      "image/png": "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",
      "text/plain": [
       "<Figure size 640x480 with 2 Axes>"
      ]
     },
     "metadata": {},
     "output_type": "display_data"
    }
   ],
=======
   "execution_count": null,
   "metadata": {
    "execution": {}
   },
   "outputs": [],
>>>>>>> eb2ec683c55123c5e0ee55a184cc40d1f272e801
   "source": [
    "mdpPi = MDPPolicyIteration(gwb)\n",
    "print('GridWorld:')\n",
    "mdpPi.draw()\n",
    "# Compute Q, then extract policy from it.\n",
    "mdpPi.findPi()\n",
    "print('Optimal policy:')\n",
    "mdpPi.draw('policy')\n",
    "mdpPi.draw('values')"
   ]
  },
  {
   "cell_type": "markdown",
   "metadata": {},
   "source": [
    "####  Submit your feedback\n"
   ]
  },
  {
   "cell_type": "code",
<<<<<<< HEAD
   "execution_count": 60,
=======
   "execution_count": null,
>>>>>>> eb2ec683c55123c5e0ee55a184cc40d1f272e801
   "metadata": {
    "cellView": "form",
    "execution": {},
    "tags": [
     "hide-input"
    ]
   },
<<<<<<< HEAD
   "outputs": [
    {
     "data": {
      "application/vnd.jupyter.widget-view+json": {
       "model_id": "c1da2410e2bf4d0faa1f30fd817e04c7",
       "version_major": 2,
       "version_minor": 0
      },
      "text/plain": [
       "VBox(children=(VBox(children=(HBox(children=(Button(description='🙂', layout=Layout(height='auto', padding='0.5…"
      ]
     },
     "metadata": {},
     "output_type": "display_data"
    }
   ],
=======
   "outputs": [],
>>>>>>> eb2ec683c55123c5e0ee55a184cc40d1f272e801
   "source": [
    "# @title Submit your feedback\n",
    "content_review(f\"{feedback_prefix}_Implement_Policy_Iteration_Exercise\")"
   ]
  },
  {
   "cell_type": "markdown",
   "metadata": {
    "execution": {}
   },
   "source": [
    "---\n",
    "# Section 5: $Q$-learning algorithm\n",
    "\n",
    "RL assumes we don't have access to $P$ nor $R$, so we can use neither value nor policy iteration to find an optimal behavior for our agent.\n",
    "\n",
    "$Q$-learning, however, incorporates the Bellman backup into an online learning algorithm: $Q$-learning, which can be shown to converge to the true $Q$-values (under mild conditions)!"
   ]
  },
  {
   "cell_type": "markdown",
   "metadata": {},
   "source": [
    "##  Video 7: Q-learning\n"
   ]
  },
  {
   "cell_type": "code",
<<<<<<< HEAD
   "execution_count": 61,
=======
   "execution_count": null,
>>>>>>> eb2ec683c55123c5e0ee55a184cc40d1f272e801
   "metadata": {
    "cellView": "form",
    "execution": {},
    "tags": [
     "remove-input"
    ]
   },
<<<<<<< HEAD
   "outputs": [
    {
     "data": {
      "application/vnd.jupyter.widget-view+json": {
       "model_id": "305e4d51e1f840e4b3a3c6afcb500587",
       "version_major": 2,
       "version_minor": 0
      },
      "text/plain": [
       "Tab(children=(Output(), Output()), selected_index=0, titles=('Youtube', 'Bilibili'))"
      ]
     },
     "metadata": {},
     "output_type": "display_data"
    }
   ],
=======
   "outputs": [],
>>>>>>> eb2ec683c55123c5e0ee55a184cc40d1f272e801
   "source": [
    "# @title Video 7: Q-learning\n",
    "from ipywidgets import widgets\n",
    "from IPython.display import YouTubeVideo\n",
    "from IPython.display import IFrame\n",
    "from IPython.display import display\n",
    "\n",
    "\n",
    "class PlayVideo(IFrame):\n",
    "  def __init__(self, id, source, page=1, width=400, height=300, **kwargs):\n",
    "    self.id = id\n",
    "    if source == 'Bilibili':\n",
    "      src = f'https://player.bilibili.com/player.html?bvid={id}&page={page}'\n",
    "    elif source == 'Osf':\n",
    "      src = f'https://mfr.ca-1.osf.io/render?url=https://osf.io/download/{id}/?direct%26mode=render'\n",
    "    super(PlayVideo, self).__init__(src, width, height, **kwargs)\n",
    "\n",
    "\n",
    "def display_videos(video_ids, W=400, H=300, fs=1):\n",
    "  tab_contents = []\n",
    "  for i, video_id in enumerate(video_ids):\n",
    "    out = widgets.Output()\n",
    "    with out:\n",
    "      if video_ids[i][0] == 'Youtube':\n",
    "        video = YouTubeVideo(id=video_ids[i][1], width=W,\n",
    "                             height=H, fs=fs, rel=0)\n",
    "        print(f'Video available at https://youtube.com/watch?v={video.id}')\n",
    "      else:\n",
    "        video = PlayVideo(id=video_ids[i][1], source=video_ids[i][0], width=W,\n",
    "                          height=H, fs=fs, autoplay=False)\n",
    "        if video_ids[i][0] == 'Bilibili':\n",
    "          print(f'Video available at https://www.bilibili.com/video/{video.id}')\n",
    "        elif video_ids[i][0] == 'Osf':\n",
    "          print(f'Video available at https://osf.io/{video.id}')\n",
    "      display(video)\n",
    "    tab_contents.append(out)\n",
    "  return tab_contents\n",
    "\n",
    "\n",
    "video_ids = [('Youtube', 'HqOdNTdpppE'), ('Bilibili', 'BV1az4y1n7pb')]\n",
    "tab_contents = display_videos(video_ids, W=730, H=410)\n",
    "tabs = widgets.Tab()\n",
    "tabs.children = tab_contents\n",
    "for i in range(len(tab_contents)):\n",
    "  tabs.set_title(i, video_ids[i][0])\n",
    "display(tabs)"
   ]
  },
  {
   "cell_type": "markdown",
   "metadata": {},
   "source": [
    "##  Submit your feedback\n"
   ]
  },
  {
   "cell_type": "code",
<<<<<<< HEAD
   "execution_count": 62,
=======
   "execution_count": null,
>>>>>>> eb2ec683c55123c5e0ee55a184cc40d1f272e801
   "metadata": {
    "cellView": "form",
    "execution": {},
    "tags": [
     "hide-input"
    ]
   },
<<<<<<< HEAD
   "outputs": [
    {
     "data": {
      "application/vnd.jupyter.widget-view+json": {
       "model_id": "23b2ac5f039f4e0ba0d8531b32951d3a",
       "version_major": 2,
       "version_minor": 0
      },
      "text/plain": [
       "VBox(children=(VBox(children=(HBox(children=(Button(description='🙂', layout=Layout(height='auto', padding='0.5…"
      ]
     },
     "metadata": {},
     "output_type": "display_data"
    }
   ],
=======
   "outputs": [],
>>>>>>> eb2ec683c55123c5e0ee55a184cc40d1f272e801
   "source": [
    "# @title Submit your feedback\n",
    "content_review(f\"{feedback_prefix}_Q_learning_Video\")"
   ]
  },
  {
   "cell_type": "markdown",
   "metadata": {
    "execution": {}
   },
   "source": [
    "### Coding exercise 6: Implement Q-learning\n",
    "\n",
    "Create a Q-learning class"
   ]
  },
  {
   "cell_type": "code",
<<<<<<< HEAD
   "execution_count": 63,
=======
   "execution_count": null,
>>>>>>> eb2ec683c55123c5e0ee55a184cc40d1f272e801
   "metadata": {
    "execution": {}
   },
   "outputs": [],
   "source": [
    "class QLearner(MDPValueIteration):\n",
    "\n",
    "  def __init__(self, grid_world: GridWorldBase, gamma: float = 0.99):\n",
    "    \"\"\"Constructs an MDP from a GridWorldBase object.\n",
    "\n",
    "    States should be numbered from left-to-right and from top-to-bottom.\n",
    "\n",
    "    Args:\n",
    "      grid_world: GridWorld specification.\n",
    "      gamma: Discount factor.\n",
    "    \"\"\"\n",
    "    super().__init__(grid_world, gamma)\n",
    "    self.Q = np.zeros((self.num_states, self.num_actions))\n",
    "    # Pick an initial state randomly.\n",
    "    self.current_state = np.random.choice(self.num_states)\n",
    "\n",
    "  def step(self, action: int) -> Tuple[int, float]:\n",
    "    \"\"\"Take a step in MDP from self.current_state.\n",
    "\n",
    "    Args:\n",
    "      action: Action to take.\n",
    "\n",
    "    Returns:\n",
    "      Next state and reward received.\n",
    "    \"\"\"\n",
    "    new_state = np.random.choice(self.num_states,\n",
    "                                 p=self.P[self.current_state, action, :])\n",
    "    return (new_state, self.R[self.current_state, action])\n",
    "\n",
    "  def pickAction(self) -> int:\n",
    "    \"\"\"Pick the best action from the current state and Q-value estimates.\"\"\"\n",
    "    return np.argmax(self.Q[self.current_state, :])\n",
    "\n",
    "  def maybeReset(self):\n",
    "    \"\"\"If current_state is goal, reset to a random state.\"\"\"\n",
    "    if self.current_state == self.goal_state:\n",
    "      self.current_state = np.random.choice(self.num_states)\n",
    "\n",
    "  def learnQ(self, alpha: float = 0.1, max_steps: int = 10_000):\n",
    "    \"\"\"Learn the Q-function by interacting with the environment.\n",
    "\n",
    "    Args:\n",
    "      alpha: Learning rate.\n",
    "      max_steps: Maximum number of steps to take.\n",
    "    \"\"\"\n",
    "    self.Q = np.zeros((self.num_states, self.num_actions))\n",
    "    num_steps = 0\n",
    "    #################################################\n",
    "    # Hint: Use the step(), pickAction(), and maybeReset() functions above.\n",
    "    # Note: The way you initialize the Q-values is crucial here. Try first with\n",
    "    # an all-zeros initialization (as is currently coded below). If it doesn't\n",
    "    # work, try a different initialization.\n",
    "    # Hint: The maximum possible value (given the rewards are in [0, 1]) is\n",
    "    #       1 / (1 - gamma).\n",
<<<<<<< HEAD
    "    # raise NotImplementedError(\"Write `learnQ` function!\")\n",
    "    #################################################\n",
    "    while num_steps < max_steps:\n",
    "      a = self.pickAction()\n",
    "      new_state, r = self.step(a)\n",
    "      td = r + self.gamma * np.max(self.Q[new_state, :]) - self.Q[self.current_state, a]\n",
    "      self.Q[self.current_state, a] += alpha * td\n",
    "      self.current_state = new_state\n",
    "      self.maybeReset()\n",
    "      num_steps += 1\n",
    "    self.V = np.max(self.Q, axis=-1)\n",
=======
    "    raise NotImplementedError(\"Write `learnQ` function!\")\n",
    "    #################################################\n",
    "    while num_steps < max_steps:\n",
    "      a = ...\n",
    "      new_state, r = ...\n",
    "      td = ...\n",
    "      self.Q[self.current_state, a] += ...\n",
    "      self.current_state = ...\n",
    "      self.maybeReset()\n",
    "      num_steps += 1\n",
    "    self.V = ...\n",
>>>>>>> eb2ec683c55123c5e0ee55a184cc40d1f272e801
    "\n",
    "\n",
    "  def plan(self):\n",
    "    \"\"\"Now planning is just doing an argmin over the Q-values!\n",
    "\n",
    "    Note that this is a little different than standard Q-learning (where we do\n",
    "    an argmax), since our Q-values currently store steps-to-go.\n",
    "    \"\"\"\n",
    "    self.pi = np.argmax(self.Q, axis=-1)\n",
    "    self.V = np.max(self.Q, axis=-1)"
   ]
  },
  {
   "cell_type": "markdown",
   "metadata": {
    "colab_type": "text",
    "execution": {}
   },
   "source": [
    "[*Click for solution*](https://github.com/NeuromatchAcademy/course-content-dl/tree/main/tutorials/W3D4_BasicReinforcementLearning/solutions/W3D4_Tutorial1_Solution_54192b12.py)\n",
    "\n"
   ]
  },
  {
   "cell_type": "code",
<<<<<<< HEAD
   "execution_count": 64,
   "metadata": {
    "execution": {}
   },
   "outputs": [
    {
     "name": "stdout",
     "output_type": "stream",
     "text": [
      "GridWorld:\n",
      "⬛⬛⬛⬛⬛⬛\n",
      "⬛⬜⬜⬜⬜⬛\n",
      "⬛⬜⬜⬜⬜⬛\n",
      "⬛⬜⬜⬜⬜⬛\n",
      "⬛⬜⬜⬜⭐⬛\n",
      "⬛⬛⬛⬛⬛⬛\n",
      "Optimal policy:\n",
      "⬛⬛⬛⬛⬛⬛\n",
      "⬛◀️◀️◀️◀️⬛\n",
      "⬛◀️◀️◀️◀️⬛\n",
      "⬛◀️◀️◀️◀️⬛\n",
      "⬛◀️◀️◀️⭐⬛\n",
      "⬛⬛⬛⬛⬛⬛\n"
     ]
    },
    {
     "data": {
      "image/png": "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",
      "text/plain": [
       "<Figure size 640x480 with 2 Axes>"
      ]
     },
     "metadata": {},
     "output_type": "display_data"
    }
   ],
=======
   "execution_count": null,
   "metadata": {
    "execution": {}
   },
   "outputs": [],
>>>>>>> eb2ec683c55123c5e0ee55a184cc40d1f272e801
   "source": [
    "base_q_learner = QLearner(gwb)\n",
    "print('GridWorld:')\n",
    "base_q_learner.draw()\n",
    "# Compute Q, then extract policy from it.\n",
    "base_q_learner.learnQ()\n",
    "base_q_learner.plan()\n",
    "print('Optimal policy:')\n",
    "base_q_learner.draw('policy')\n",
    "base_q_learner.draw('values')"
   ]
  },
  {
   "cell_type": "markdown",
   "metadata": {},
   "source": [
    "####  Submit your feedback\n"
   ]
  },
  {
   "cell_type": "code",
<<<<<<< HEAD
   "execution_count": 65,
=======
   "execution_count": null,
>>>>>>> eb2ec683c55123c5e0ee55a184cc40d1f272e801
   "metadata": {
    "cellView": "form",
    "execution": {},
    "tags": [
     "hide-input"
    ]
   },
<<<<<<< HEAD
   "outputs": [
    {
     "data": {
      "application/vnd.jupyter.widget-view+json": {
       "model_id": "9a8462cc7ecf461d8a87240bbb32b2d0",
       "version_major": 2,
       "version_minor": 0
      },
      "text/plain": [
       "VBox(children=(VBox(children=(HBox(children=(Button(description='🙂', layout=Layout(height='auto', padding='0.5…"
      ]
     },
     "metadata": {},
     "output_type": "display_data"
    }
   ],
=======
   "outputs": [],
>>>>>>> eb2ec683c55123c5e0ee55a184cc40d1f272e801
   "source": [
    "# @title Submit your feedback\n",
    "content_review(f\"{feedback_prefix}_Implement_Q_learning_Exercise\")"
   ]
  },
  {
   "cell_type": "markdown",
   "metadata": {
    "execution": {}
   },
   "source": [
    "---\n",
    "# Section 6: $\\epsilon$-greedy exploitation\n",
    "\n",
    "Should an agent *exploit* its current estimates and policy, or should it *explore* the environment in case better policies are out there? This *exploration-exploitation dilemma* is a central problem in RL.\n",
    "\n",
    "In this section, we explore one of the simplest yet most effective methods for this tradeoff: the so-called $\\epsilon$-greedy exploration."
   ]
  },
  {
   "cell_type": "markdown",
   "metadata": {},
   "source": [
    "##  Video 8: Epsilon-greedy exploration\n"
   ]
  },
  {
   "cell_type": "code",
<<<<<<< HEAD
   "execution_count": 66,
=======
   "execution_count": null,
>>>>>>> eb2ec683c55123c5e0ee55a184cc40d1f272e801
   "metadata": {
    "cellView": "form",
    "execution": {},
    "tags": [
     "remove-input"
    ]
   },
<<<<<<< HEAD
   "outputs": [
    {
     "data": {
      "application/vnd.jupyter.widget-view+json": {
       "model_id": "d6a0f51047624ebaab5dac0a9194d2a1",
       "version_major": 2,
       "version_minor": 0
      },
      "text/plain": [
       "Tab(children=(Output(), Output()), selected_index=0, titles=('Youtube', 'Bilibili'))"
      ]
     },
     "metadata": {},
     "output_type": "display_data"
    }
   ],
=======
   "outputs": [],
>>>>>>> eb2ec683c55123c5e0ee55a184cc40d1f272e801
   "source": [
    "# @title Video 8: Epsilon-greedy exploration\n",
    "from ipywidgets import widgets\n",
    "from IPython.display import YouTubeVideo\n",
    "from IPython.display import IFrame\n",
    "from IPython.display import display\n",
    "\n",
    "\n",
    "class PlayVideo(IFrame):\n",
    "  def __init__(self, id, source, page=1, width=400, height=300, **kwargs):\n",
    "    self.id = id\n",
    "    if source == 'Bilibili':\n",
    "      src = f'https://player.bilibili.com/player.html?bvid={id}&page={page}'\n",
    "    elif source == 'Osf':\n",
    "      src = f'https://mfr.ca-1.osf.io/render?url=https://osf.io/download/{id}/?direct%26mode=render'\n",
    "    super(PlayVideo, self).__init__(src, width, height, **kwargs)\n",
    "\n",
    "\n",
    "def display_videos(video_ids, W=400, H=300, fs=1):\n",
    "  tab_contents = []\n",
    "  for i, video_id in enumerate(video_ids):\n",
    "    out = widgets.Output()\n",
    "    with out:\n",
    "      if video_ids[i][0] == 'Youtube':\n",
    "        video = YouTubeVideo(id=video_ids[i][1], width=W,\n",
    "                             height=H, fs=fs, rel=0)\n",
    "        print(f'Video available at https://youtube.com/watch?v={video.id}')\n",
    "      else:\n",
    "        video = PlayVideo(id=video_ids[i][1], source=video_ids[i][0], width=W,\n",
    "                          height=H, fs=fs, autoplay=False)\n",
    "        if video_ids[i][0] == 'Bilibili':\n",
    "          print(f'Video available at https://www.bilibili.com/video/{video.id}')\n",
    "        elif video_ids[i][0] == 'Osf':\n",
    "          print(f'Video available at https://osf.io/{video.id}')\n",
    "      display(video)\n",
    "    tab_contents.append(out)\n",
    "  return tab_contents\n",
    "\n",
    "\n",
    "video_ids = [('Youtube', 'NiF7_RK_4M4'), ('Bilibili', 'BV1Jh4y1u78c')]\n",
    "tab_contents = display_videos(video_ids, W=730, H=410)\n",
    "tabs = widgets.Tab()\n",
    "tabs.children = tab_contents\n",
    "for i in range(len(tab_contents)):\n",
    "  tabs.set_title(i, video_ids[i][0])\n",
    "display(tabs)"
   ]
  },
  {
   "cell_type": "markdown",
   "metadata": {},
   "source": [
    "##  Submit your feedback\n"
   ]
  },
  {
   "cell_type": "code",
<<<<<<< HEAD
   "execution_count": 67,
=======
   "execution_count": null,
>>>>>>> eb2ec683c55123c5e0ee55a184cc40d1f272e801
   "metadata": {
    "cellView": "form",
    "execution": {},
    "tags": [
     "hide-input"
    ]
   },
<<<<<<< HEAD
   "outputs": [
    {
     "data": {
      "application/vnd.jupyter.widget-view+json": {
       "model_id": "a6eccbf3d6954374a4c873689e56baae",
       "version_major": 2,
       "version_minor": 0
      },
      "text/plain": [
       "VBox(children=(VBox(children=(HBox(children=(Button(description='🙂', layout=Layout(height='auto', padding='0.5…"
      ]
     },
     "metadata": {},
     "output_type": "display_data"
    }
   ],
=======
   "outputs": [],
>>>>>>> eb2ec683c55123c5e0ee55a184cc40d1f272e801
   "source": [
    "# @title Submit your feedback\n",
    "content_review(f\"{feedback_prefix}_Epsilon_greedy_exploration_Video\")"
   ]
  },
  {
   "cell_type": "markdown",
   "metadata": {
    "execution": {}
   },
   "source": [
    "### Coding exercise 7: Implement epsilon-greedy exploration\n",
    "\n",
    "Create a Q-learning class with epsilon-greedy exploration"
   ]
  },
  {
   "cell_type": "code",
<<<<<<< HEAD
   "execution_count": 68,
=======
   "execution_count": null,
>>>>>>> eb2ec683c55123c5e0ee55a184cc40d1f272e801
   "metadata": {
    "execution": {}
   },
   "outputs": [],
   "source": [
    "class QLearnerExplorer(QLearner):\n",
    "\n",
    "  def __init__(self, grid_world: GridWorldBase, gamma: float = 0.99,\n",
    "               epsilon: float = 0.1):\n",
    "    \"\"\"Constructs an MDP from a GridWorldBase object.\n",
    "\n",
    "    States should be numbered from left-to-right and from top-to-bottom.\n",
    "\n",
    "    Args:\n",
    "      grid_world: GridWorld specification.\n",
    "      gamma: Discount factor.\n",
    "      epsilon: Exploration rate.\n",
    "    \"\"\"\n",
    "    super().__init__(grid_world, gamma)\n",
    "    self.epsilon = epsilon\n",
    "\n",
    "  def pickAction(self):\n",
    "    \"\"\"Pick the next action from the current state.\n",
    "    \"\"\"\n",
    "    #################################################\n",
    "    # With probability epsilon will pick the next action randomly, otherwise will\n",
    "    # pick based on the Q-value estimates.\n",
    "    # Hint: It should only be a few lines of code!\n",
<<<<<<< HEAD
    "    # raise NotImplementedError(\"Write the `pickAction` function!\")\n",
    "    #################################################\n",
    "    if np.random.rand() < self.epsilon:\n",
    "      return np.random.choice(self.num_actions)\n",
    "    return np.argmax(self.Q[self.current_state, :])\n"
=======
    "    raise NotImplementedError(\"Write the `pickAction` function!\")\n",
    "    #################################################\n",
    "    if ... < ...:\n",
    "      return ...\n",
    "    return ..."
>>>>>>> eb2ec683c55123c5e0ee55a184cc40d1f272e801
   ]
  },
  {
   "cell_type": "markdown",
   "metadata": {
    "colab_type": "text",
    "execution": {}
   },
   "source": [
    "[*Click for solution*](https://github.com/NeuromatchAcademy/course-content-dl/tree/main/tutorials/W3D4_BasicReinforcementLearning/solutions/W3D4_Tutorial1_Solution_4743dbd3.py)\n",
    "\n"
   ]
  },
  {
   "cell_type": "code",
<<<<<<< HEAD
   "execution_count": 69,
   "metadata": {
    "execution": {}
   },
   "outputs": [
    {
     "name": "stdout",
     "output_type": "stream",
     "text": [
      "GridWorld:\n",
      "⬛⬛⬛⬛⬛⬛\n",
      "⬛⬜⬜⬜⬜⬛\n",
      "⬛⬜⬜⬜⬜⬛\n",
      "⬛⬜⬜⬜⬜⬛\n",
      "⬛⬜⬜⬜⭐⬛\n",
      "⬛⬛⬛⬛⬛⬛\n",
      "Optimal policy:\n",
      "⬛⬛⬛⬛⬛⬛\n",
      "⬛◀️◀️◀️◀️⬛\n",
      "⬛◀️◀️◀️◀️⬛\n",
      "⬛◀️◀️◀️🔽⬛\n",
      "⬛◀️◀️◀️⭐⬛\n",
      "⬛⬛⬛⬛⬛⬛\n"
     ]
    },
    {
     "data": {
      "image/png": "iVBORw0KGgoAAAANSUhEUgAAAfIAAAGTCAYAAADTOZAvAAAAOXRFWHRTb2Z0d2FyZQBNYXRwbG90bGliIHZlcnNpb24zLjUuMCwgaHR0cHM6Ly9tYXRwbG90bGliLm9yZy8/fFQqAAAACXBIWXMAAA9hAAAPYQGoP6dpAAAuxklEQVR4nO3df3CU5b3//9cuIYkIuzFAskSjQHEgViQSSrKM5wiSmhycOVLiFGgcJM2BtsegJtQWFQmjbYEqPwWbj0fwR5UDcuzgEZmcxqToURbQIO2RBqb61YLABjRNItD83Pv7B7J1zQaS7F7EOz4fM9dI7r3u677uTKfvvN/Xdd/rsCzLEgAAsCVnb08AAAD0HIEcAAAbI5ADAGBjBHIAAGyMQA4AgI0RyAEAsDECOQAANkYgBwDAxgjkAADYGIEcAAAbI5ADAPqkDRs2aPjw4YqPj1dmZqb27dvXad+DBw8qLy9Pw4cPl8Ph0Jo1a3o0ZlNTk+6++24NHjxYAwcOVF5enmpra6N5Wx0QyAEAfc7WrVtVUlKi0tJS7d+/X+PGjVNOTo5OnjwZtv/Zs2c1cuRILV++XB6Pp8djFhcX69VXX9W2bdv0xhtv6Pjx45oxY4aRezzPwZemAAD6mszMTH3nO9/R+vXrJUmBQECpqalasGCBFi1adMFzhw8frvvuu0/33Xdft8ZsaGjQ0KFDtXnzZt1xxx2SpEOHDiktLU0+n09ZWVnRv1FJMT09MRAI6Pjx4xo0aJAcDkc05wQAMMyyLH3++edKSUmR02muONvU1KSWlpaojGVZVod4ExcXp7i4uJBjLS0tqq6u1gMPPBA85nQ6lZ2dLZ/P16Nrd2XM6upqtba2Kjs7O9hnzJgxuvrqq7+egfz48eNKTU2N5lwAAJfY0aNHddVVVxkZu6mpSSOuGSj/yfaojDdw4ECdPn065FhpaamWLl0acuzTTz9Ve3u7kpOTQ44nJyfr0KFDPbp2V8b0+/2KjY1VQkJChz5+v79H1+2KHgfyQYMGSZJu0jTFqH/UJgQAMK9NrXpLO4P/X25CS0uL/Cfb9VH1NXINiizrb/w8oBEZf9XRo0flcrmCx7+ajX8T9TiQny9vxKi/YhwEcgCwlS92R12KpVHXIGfEgTw4lssVEsjDGTJkiPr169dht3htbW2nG9kupitjejwetbS0qL6+PiQrj+S6XcGudQCAUe1WICqtq2JjY5WRkaHKysrgsUAgoMrKSnm93h7dQ1fGzMjIUP/+/UP6HD58WEeOHOnxdbuixxk5AABdEZClgCJ7QKq755eUlOiuu+7ShAkTNHHiRK1Zs0ZnzpxRQUGBJGnOnDm68sortWzZMknnlgH+/Oc/B/997NgxHThwQAMHDtSoUaO6NKbb7VZhYaFKSkqUmJgol8ulBQsWyOv1GtvoJhHIAQB90MyZM3Xq1CktWbJEfr9f6enpKi8vD25WO3LkSMhu/ePHj+vGG28M/vz444/r8ccf180336xdu3Z1aUxJWr16tZxOp/Ly8tTc3KycnBw9+eSTRu+1x8+RNzY2yu12a7JuZ40cAGymzWrVLr2ihoaGi64599T5OHH88FVR2eyWMvoTo/O1KzJyAIBR7Zal9gjfPRbp+X0Zm90AALAxMnIAgFG9sdntm4RADgAwKiBL7QRyYwjkAACjyMjNYo0cAAAbIyMHABjFrnWzCOQAAKMCX7RIx0B4lNYBALAxMnIAgFHtUdi1Hun5fRmBHABgVLt1rkU6BsKjtA4AgI2RkQMAjGKzm1kEcgCAUQE51C5HxGMgPErrAADYGBk5AMCogHWuRToGwiOQAwCMao9CaT3S8/syAjkAwCgCuVmskQMAYGNk5AAAowKWQwErwl3rEZ7flxHIAQBGUVo3i9I6AAA2RkYOADCqXU61R5g3tkdpLn0RgRwAYJQVhTVyizXyTlFaBwDAxsjIAQBGsdnNLAI5AMCodsupdivCNXJe0dopSusAANgYGTkAwKiAHApEmDcGREreGQI5AMAo1sjNIpADAIyKzho5GXlnWCMHAMDGyMgBAEadWyOP8EtTKK13ikAOADAqEIVXtLLZrXOU1gEAsDECOQDAqPOb3SJt3bVhwwYNHz5c8fHxyszM1L59+y7Yf9u2bRozZozi4+M1duxY7dy5M+Rzh8MRtj322GPBPsOHD+/w+fLly7s99+4gkAMAjArIGZXWHVu3blVJSYlKS0u1f/9+jRs3Tjk5OTp58mTY/rt379bs2bNVWFio9957T9OnT9f06dP1/vvvB/ucOHEipG3atEkOh0N5eXkhYz3yyCMh/RYsWND9X1o3EMgBAH3OqlWrNG/ePBUUFOi6665TWVmZBgwYoE2bNoXtv3btWuXm5ur+++9XWlqaHn30UY0fP17r168P9vF4PCHtlVde0ZQpUzRy5MiQsQYNGhTS7/LLLzd6rwRyAIBR7ZYjKk2SGhsbQ1pzc3OH67W0tKi6ulrZ2dnBY06nU9nZ2fL5fGHn6PP5QvpLUk5OTqf9a2tr9dprr6mwsLDDZ8uXL9fgwYN144036rHHHlNbW1uXf1c9wa51AIBR7VHYtd7+xa711NTUkOOlpaVaunRpyLFPP/1U7e3tSk5ODjmenJysQ4cOhR3f7/eH7e/3+8P2f+655zRo0CDNmDEj5Pg999yj8ePHKzExUbt379YDDzygEydOaNWqVRe9x54ikAMAbOPo0aNyuVzBn+Pi4nplHps2bVJ+fr7i4+NDjpeUlAT/fcMNNyg2NlY/+tGPtGzZMmNzJZADAIwKWE4FInxFa+CLV7S6XK6QQB7OkCFD1K9fP9XW1oYcr62tlcfjCXuOx+Ppcv///d//1eHDh7V169aLzjszM1NtbW36+OOPNXr06Iv27wnWyAEARp0vrUfauio2NlYZGRmqrKwMHgsEAqqsrJTX6w17jtfrDekvSRUVFWH7b9y4URkZGRo3btxF53LgwAE5nU4lJSV1ef7dRUYOADAqIAU3q0UyRneUlJTorrvu0oQJEzRx4kStWbNGZ86cUUFBgSRpzpw5uvLKK7Vs2TJJ0r333qubb75ZK1eu1G233aYtW7bo3Xff1VNPPRUybmNjo7Zt26aVK1d2uKbP59PevXs1ZcoUDRo0SD6fT8XFxbrzzjt1xRVX9Oi+u4JADgDoc2bOnKlTp05pyZIl8vv9Sk9PV3l5eXBD25EjR+R0/iPLnzRpkjZv3qzFixfrwQcf1LXXXqvt27fr+uuvDxl3y5YtsixLs2fP7nDNuLg4bdmyRUuXLlVzc7NGjBih4uLikHVzExyW1bPvhmtsbJTb7dZk3a4YR/9ozwsAYFCb1apdekUNDQ0XXXPuqfNx4jf7v6PLBkaWN/79dJt+Mv4do/O1KzJyAIBR0fk+crZ0dYbfDAAANkZGDgAwiu8jN4tADgAwitK6WfxmAACwMTJyAIBR0XnXOnlnZwjkAACjApZDgUhfCBPh+X0Zf+IAAGBjZOQ98MHqrN6eAoAoG1W8p7en0GcFolBaD5B3dopADgAwKjrffkYg7wyBHABgVLscao/wOfBIz+/L+BMHAAAbIyMHABhFad0sAjkAwKh2RV4ab4/OVPok/sQBAMDGyMgBAEZRWjeLQA4AMIovTTGL3wwAADZGRg4AMMqKwveRWzxH3ikCOQDAKErrZvGbAQDAxsjIAQBG8TWmZhHIAQBGtUfh288iPb8vI5ADAIwiIzeLP3EAALAxMnIAgFEBORWIMG+M9Py+jEAOADCq3XKoPcLSeKTn92X8iQMAgI2RkQMAjGKzm1kEcgCAUVYUvv3M4s1uneI3AwCAjZGRAwCMapdD7RF+6Umk5/dlBHIAgFEBK/I17oAVpcn0QZTWAQCwMTJyAIBRgShsdov0/L6M3wwAwKiAHFFp3bVhwwYNHz5c8fHxyszM1L59+y7Yf9u2bRozZozi4+M1duxY7dy5M+TzuXPnyuFwhLTc3NyQPnV1dcrPz5fL5VJCQoIKCwt1+vTpbs+9OwjkAACjzr/ZLdLWHVu3blVJSYlKS0u1f/9+jRs3Tjk5OTp58mTY/rt379bs2bNVWFio9957T9OnT9f06dP1/vvvh/TLzc3ViRMngu0///M/Qz7Pz8/XwYMHVVFRoR07dujNN9/U/Pnzu/cL6yYCOQCgz1m1apXmzZungoICXXfddSorK9OAAQO0adOmsP3Xrl2r3Nxc3X///UpLS9Ojjz6q8ePHa/369SH94uLi5PF4gu2KK64IflZTU6Py8nI9/fTTyszM1E033aQnnnhCW7Zs0fHjx43dK4EcAGDU+TXySJskNTY2hrTm5uYO12tpaVF1dbWys7ODx5xOp7Kzs+Xz+cLO0efzhfSXpJycnA79d+3apaSkJI0ePVo/+clP9Nlnn4WMkZCQoAkTJgSPZWdny+l0au/evd3/xXURgRwAYFRAjuBrWnvcvlgjT01NldvtDrZly5Z1uN6nn36q9vZ2JScnhxxPTk6W3+8PO0e/33/R/rm5uXr++edVWVmpFStW6I033tC//Mu/qL29PThGUlJSyBgxMTFKTEzs9LrRwK51AIBtHD16VC6XK/hzXFzcJbv2rFmzgv8eO3asbrjhBn3rW9/Srl27NHXq1Es2j68iIwcAGGVFYce69UVG7nK5Qlq4QD5kyBD169dPtbW1Icdra2vl8XjCztHj8XSrvySNHDlSQ4YM0QcffBAc46ub6dra2lRXV3fBcSJFIAcAGBVxWb2b354WGxurjIwMVVZW/mMOgYAqKyvl9XrDnuP1ekP6S1JFRUWn/SXpk08+0WeffaZhw4YFx6ivr1d1dXWwT1VVlQKBgDIzM7s8/+4ikAMA+pySkhL9x3/8h5577jnV1NToJz/5ic6cOaOCggJJ0pw5c/TAAw8E+997770qLy/XypUrdejQIS1dulTvvvuuioqKJEmnT5/W/fffrz179ujjjz9WZWWlbr/9do0aNUo5OTmSpLS0NOXm5mrevHnat2+f3n77bRUVFWnWrFlKSUkxdq+skQMAjOqNN7vNnDlTp06d0pIlS+T3+5Wenq7y8vLghrYjR47I6fzHmJMmTdLmzZu1ePFiPfjgg7r22mu1fft2XX/99ZKkfv366U9/+pOee+451dfXKyUlRbfeeqseffTRkPL+iy++qKKiIk2dOlVOp1N5eXlat25dRPd+MQ7Lsnr0KvrGxka53W5N1u2KcfSP9ry+1j5YndXbUwAQZaOK9/T2FC6pNqtVu/SKGhoaQjaPRdP5OHH773+o/pfHRjRW65kWvXLrJqPztStK6wAA2BildQCAUT19V/pXx0B4BHIAgFHd3XXe2RgIj0AOADCKQG4Wa+QAANgYGTkAwCgycrMI5AAAowjkZlFaBwDAxsjIAQBGWYr88bEevbnsG4JADgAwitK6WZTWAQCwMTJyAIBRZORmEcgBAEYRyM2itA4AgI2RkQMAjCIjN4tADgAwyrIcsiIMxJGe35cRyAEARvE1pmaxRg4AgI2RkQMAjGKN3CwCOQDAKNbIzaK0DgCAjZGRAwCMorRuFoEcAGAUpXWzKK0DAGBjZOQAAKOsKJTWycg7RyAHABhlSbKsyMdAeJTWAQCwMTJyAIBRATnk4BWtxhDIAQBGsWvdLAI5AMCogOWQg+fIjWGNHAAAGyMjBwAYZVlR2LXOtvVOEcgBAEaxRm4WpXUAAGyMjBwAYBQZuVkEcgCAUexaN4vSOgCgT9qwYYOGDx+u+Ph4ZWZmat++fRfsv23bNo0ZM0bx8fEaO3asdu7cGfystbVVP//5zzV27FhdfvnlSklJ0Zw5c3T8+PGQMYYPHy6HwxHSli9fbuT+ziOQAwCMOr9rPdLWHVu3blVJSYlKS0u1f/9+jRs3Tjk5OTp58mTY/rt379bs2bNVWFio9957T9OnT9f06dP1/vvvS5LOnj2r/fv36+GHH9b+/fv1u9/9TocPH9a//uu/dhjrkUce0YkTJ4JtwYIF3f6ddQeBHABg1LlA7Iiwde+aq1at0rx581RQUKDrrrtOZWVlGjBggDZt2hS2/9q1a5Wbm6v7779faWlpevTRRzV+/HitX79ekuR2u1VRUaHvf//7Gj16tLKysrR+/XpVV1fryJEjIWMNGjRIHo8n2C6//PIe/d66ikAOALCNxsbGkNbc3NyhT0tLi6qrq5WdnR085nQ6lZ2dLZ/PF3Zcn88X0l+ScnJyOu0vSQ0NDXI4HEpISAg5vnz5cg0ePFg33nijHnvsMbW1tXXjDruPzW4AAKOiuWs9NTU15HhpaamWLl0acuzTTz9Ve3u7kpOTQ44nJyfr0KFDYcf3+/1h+/v9/rD9m5qa9POf/1yzZ8+Wy+UKHr/nnns0fvx4JSYmavfu3XrggQd04sQJrVq1qkv32RMEcgCAUZYi/z7x8+cfPXo0JHDGxcVFOHL3tba26vvf/74sy9JvfvObkM9KSkqC/77hhhsUGxurH/3oR1q2bJmxuRLIAQBGRTMjd7lcIYE8nCFDhqhfv36qra0NOV5bWyuPxxP2HI/H06X+54P4X//6V1VVVV10LpmZmWpra9PHH3+s0aNHX7BvT7FGDgDoU2JjY5WRkaHKysrgsUAgoMrKSnm93rDneL3ekP6SVFFREdL/fBD/y1/+otdff12DBw++6FwOHDggp9OppKSkHt7NxZGRAwDMimZtvYtKSkp01113acKECZo4caLWrFmjM2fOqKCgQJI0Z84cXXnllVq2bJkk6d5779XNN9+slStX6rbbbtOWLVv07rvv6qmnnpJ0Lojfcccd2r9/v3bs2KH29vbg+nliYqJiY2Pl8/m0d+9eTZkyRYMGDZLP51NxcbHuvPNOXXHFFRH+AjpHIAcAmBWF0rq6ef7MmTN16tQpLVmyRH6/X+np6SovLw9uaDty5Iiczn8UpSdNmqTNmzdr8eLFevDBB3Xttddq+/btuv766yVJx44d03//939LktLT00Ou9Yc//EGTJ09WXFyctmzZoqVLl6q5uVkjRoxQcXFxyLq5CQ7L6tmXwzU2NsrtdmuybleMo3+05/W19sHqrN6eAoAoG1W8p7encEm1Wa3apVfU0NBw0XXenjofJ0Y++5CcA+IjGitwtkn/39xfGp2vXZGRAwCM4vvIzSKQAwCM4tvPzGLXOgAANkZGDgAwy3J0e7Na2DEQFoEcAGAUa+RmEcgBAGb1wnPk3ySskQMAYGNk5AAAo9i1bhaBHABgHqVxYyitAwBgY2TkAACjKK2bRSAHAJjFrnWjKK0DAGBjZOQAAMMcX7RIx0A4BHIAgFmU1o2itA4AgI2RkQMAzCIjN4pADgAwi28/M4pADgAwim8/M4s1cgAAbIyMHABgFmvkRhHIAQBmsUZuFKV1AABsjIwcAGCUwzrXIh0D4RHIAQBmsUZuFKV1AABsjIwcAGAWm92MIpADAMyitG4UpXUAAGyMjBwAYBYZuVEEcgCAWQRyowjkAACz2OxmFGvkAADYGBk5AMAo3uxmFoEcAGAWa+RGUVoHAPRJGzZs0PDhwxUfH6/MzEzt27fvgv23bdumMWPGKD4+XmPHjtXOnTtDPrcsS0uWLNGwYcN02WWXKTs7W3/5y19C+tTV1Sk/P18ul0sJCQkqLCzU6dOno35vX0YgBwD0OVu3blVJSYlKS0u1f/9+jRs3Tjk5OTp58mTY/rt379bs2bNVWFio9957T9OnT9f06dP1/vvvB/v8+te/1rp161RWVqa9e/fq8ssvV05OjpqamoJ98vPzdfDgQVVUVGjHjh168803NX/+fKP36rAsq0cFi8bGRrndbk3W7Ypx9I/2vL7WPlid1dtTABBlo4r39PYULqk2q1W79IoaGhrkcrmMXON8nLhmxS/kjI+PaKxAU5P++vPFXZ5vZmamvvOd72j9+vXnzg8ElJqaqgULFmjRokUd+s+cOVNnzpzRjh07gseysrKUnp6usrIyWZallJQULVy4UD/96U8lSQ0NDUpOTtazzz6rWbNmqaamRtddd53eeecdTZgwQZJUXl6uadOm6ZNPPlFKSkpEv4POsEYOoIMPZ5b19hQuuZzi9N6eArqgsbEx5Oe4uDjFxcWFHGtpaVF1dbUeeOCB4DGn06ns7Gz5fL6w4/p8PpWUlIQcy8nJ0fbt2yVJH330kfx+v7Kzs4Ofu91uZWZmyufzadasWfL5fEpISAgGcUnKzs6W0+nU3r179b3vfa9H93wxlNYBAGadf4480iYpNTVVbrc72JYtW9bhcp9++qna29uVnJwccjw5OVl+vz/sFP1+/wX7n//vxfokJSWFfB4TE6PExMROrxsNZOQAALOiuGv96NGjIaX1r2bj30Rk5AAA23C5XCEtXCAfMmSI+vXrp9ra2pDjtbW18ng8Ycf1eDwX7H/+vxfr89XNdG1tbaqrq+v0utFAIAcAmGVFqXVRbGysMjIyVFlZGTwWCARUWVkpr9cb9hyv1xvSX5IqKiqC/UeMGCGPxxPSp7GxUXv37g328Xq9qq+vV3V1dbBPVVWVAoGAMjMzu34D3URpHQBgVG+82a2kpER33XWXJkyYoIkTJ2rNmjU6c+aMCgoKJElz5szRlVdeGVxjv/fee3XzzTdr5cqVuu2227Rlyxa9++67euqpp85d3+HQfffdp1/84he69tprNWLECD388MNKSUnR9OnTJUlpaWnKzc3VvHnzVFZWptbWVhUVFWnWrFnGdqxLBHIAgGm98Ga3mTNn6tSpU1qyZIn8fr/S09NVXl4e3Kx25MgROZ3/KEpPmjRJmzdv1uLFi/Xggw/q2muv1fbt23X99dcH+/zsZz/TmTNnNH/+fNXX1+umm25SeXm54r/0aN2LL76ooqIiTZ06VU6nU3l5eVq3bl1k934RPEfeAzxHjr7uG/n4WUp6b0/hkrqUz5EP/8Uvo/Ic+ceLHzI6X7siIwcAmMW71o0ikAMAjOLbz8xi1zoAADZGRg4AMOtLb2aLaAyERSAHAJjFGrlRlNYBALAxMnIAgFFsdjOLQA4AMIvSulGU1gEAsDEycgCAWVEorZORd45ADgAwi9K6UQRyAIBZBHKjWCMHAMDGyMgBAEbx+JlZZOQAANgYgRwAABujtA4AMIvNbkYRyAEARrFGbhaldQAAbIyMHABgHhm1MQRyAIBZrJEbRWkdAAAbIyMHABjFZjezCOQAALMorRtFIAcAGEVGbhZr5AAA2BgZOQDALErrRhHIAQBmEciNorQOAICNkZEDAIxis5tZBHIAgFmU1o2itA4AgI2RkQMAzCIjN4pADgAwijVysyitAwBgYwRyAIBZVpSaIXV1dcrPz5fL5VJCQoIKCwt1+vTpC57T1NSku+++W4MHD9bAgQOVl5en2tra4Od//OMfNXv2bKWmpuqyyy5TWlqa1q5dGzLGrl275HA4OjS/39+t+VNaBwAY9XUvrefn5+vEiROqqKhQa2urCgoKNH/+fG3evLnTc4qLi/Xaa69p27ZtcrvdKioq0owZM/T2229Lkqqrq5WUlKQXXnhBqamp2r17t+bPn69+/fqpqKgoZKzDhw/L5XIFf05KSurW/AnkAACzvsab3WpqalReXq533nlHEyZMkCQ98cQTmjZtmh5//HGlpKR0OKehoUEbN27U5s2bdcstt0iSnnnmGaWlpWnPnj3KysrSD3/4w5BzRo4cKZ/Pp9/97ncdAnlSUpISEhJ6fA+U1gEAttHY2BjSmpubIxrP5/MpISEhGMQlKTs7W06nU3v37g17TnV1tVpbW5WdnR08NmbMGF199dXy+XydXquhoUGJiYkdjqenp2vYsGH67ne/G8zou4NADgAwK4pr5KmpqXK73cG2bNmyiKbm9/s7lLJjYmKUmJjY6Vq13+9XbGxshyw6OTm503N2796trVu3av78+cFjw4YNU1lZmV5++WW9/PLLSk1N1eTJk7V///5u3QOldQCAUY4vWqRjSNLRo0dD1pPj4uLC9l+0aJFWrFhxwTFramoinFXXvP/++7r99ttVWlqqW2+9NXh89OjRGj16dPDnSZMm6cMPP9Tq1av129/+tsvjE8gBALbhcrlCAnlnFi5cqLlz516wz8iRI+XxeHTy5MmQ421tbaqrq5PH4wl7nsfjUUtLi+rr60Oy8tra2g7n/PnPf9bUqVM1f/58LV68+KLznjhxot56662L9vsyAjkAwKxe2Ow2dOhQDR069KL9vF6v6uvrVV1drYyMDElSVVWVAoGAMjMzw56TkZGh/v37q7KyUnl5eZLO7Tw/cuSIvF5vsN/Bgwd1yy236K677tIvf/nLLs37wIEDGjZsWJf6nkcgBwAY9XV+/CwtLU25ubmaN2+eysrK1NraqqKiIs2aNSu4Y/3YsWOaOnWqnn/+eU2cOFFut1uFhYUqKSlRYmKiXC6XFixYIK/Xq6ysLEnnyum33HKLcnJyVFJSElw779evX/APjDVr1mjEiBH69re/raamJj399NOqqqrS73//+27dA4EcAPCN9uKLL6qoqEhTp06V0+lUXl6e1q1bF/y8tbVVhw8f1tmzZ4PHVq9eHezb3NysnJwcPfnkk8HP/+u//kunTp3SCy+8oBdeeCF4/JprrtHHH38sSWppadHChQt17NgxDRgwQDfccINef/11TZkypVvzd1iW1aO/cxobG+V2uzVZtyvG0b8nQ9jWB6uzensKgFEfzizr7Slccjkp6b09hUuqzWrVLr2ihoaGLq0598T5OPHtH/1K/eLiIxqrvblJB//fg0bna1dk5AAA8/jSE2N4jhwAABsjIwcAGPV13uzWFxDIAQBmfY3ftd4XEMgBAEaRkZvFGjkAADZGRg4AMIvSulEEcgCAUZTWzSKQA+jgW1t/3NtTuORGaU9vTwHoEQI5AMAsSutGEcgBAGYRyI1i1zoAADZGRg4AMIrNbmYRyAEAZlFaN4rSOgAANkZGDgAwymFZcliRpdSRnt+XEcgBAGZRWjeKQA4AMIrNbmaxRg4AgI2RkQMAzKK0bhSBHABgFKV1syitAwBgY2TkAACzKK0bRSAHABhFad0sSusAANgYGTkAwCxK60YRyAEAxlEaN4fSOgAANkZGDgAwy7LOtUjHQFgEcgCAUexaN4tADgAwi81uRrFGDgCAjZGRAwCMcgTOtUjHQHgEcgCAWZTWjaK0DgCAjRHIAQBGnd+1Hmkzpa6uTvn5+XK5XEpISFBhYaFOnz59wXOampp09913a/DgwRo4cKDy8vJUW1sbet8OR4e2ZcuWkD67du3S+PHjFRcXp1GjRunZZ5/t9vwJ5AAAs84/Rx5pMyQ/P18HDx5URUWFduzYoTfffFPz58+/4DnFxcV69dVXtW3bNr3xxhs6fvy4ZsyY0aHfM888oxMnTgTb9OnTg5999NFHuu222zRlyhQdOHBA9913n/7t3/5N//M//9Ot+bNGDgD4xqqpqVF5ebneeecdTZgwQZL0xBNPaNq0aXr88ceVkpLS4ZyGhgZt3LhRmzdv1i233CLpXMBOS0vTnj17lJWVFeybkJAgj8cT9tplZWUaMWKEVq5cKUlKS0vTW2+9pdWrVysnJ6fL90BGDgAwKpql9cbGxpDW3Nwc0dx8Pp8SEhKCQVySsrOz5XQ6tXfv3rDnVFdXq7W1VdnZ2cFjY8aM0dVXXy2fzxfS9+6779aQIUM0ceJEbdq0SdaXKgs+ny9kDEnKycnpMMbFEMgBAGZZUWqSUlNT5Xa7g23ZsmURTc3v9yspKSnkWExMjBITE+X3+zs9JzY2VgkJCSHHk5OTQ8555JFH9NJLL6miokJ5eXn693//dz3xxBMh4yQnJ3cYo7GxUX//+9+7fA+U1gEAtnH06FG5XK7gz3FxcWH7LVq0SCtWrLjgWDU1NVGd21c9/PDDwX/feOONOnPmjB577DHdc889Ub0OgRwAYFQ037XucrlCAnlnFi5cqLlz516wz8iRI+XxeHTy5MmQ421tbaqrq+t0bdvj8ailpUX19fUhWXltbW2n50hSZmamHn30UTU3NysuLk4ej6fDTvfa2lq5XC5ddtllF77BLyGQAwDM6oVvPxs6dKiGDh160X5er1f19fWqrq5WRkaGJKmqqkqBQECZmZlhz8nIyFD//v1VWVmpvLw8SdLhw4d15MgReb3eTq914MABXXHFFcEqgtfr1c6dO0P6VFRUXHCMcAjkAACjvs7ffpaWlqbc3FzNmzdPZWVlam1tVVFRkWbNmhXcsX7s2DFNnTpVzz//vCZOnCi3263CwkKVlJQoMTFRLpdLCxYskNfrDe5Yf/XVV1VbW6usrCzFx8eroqJCv/rVr/TTn/40eO0f//jHWr9+vX72s5/phz/8oaqqqvTSSy/ptdde69Y9EMgBAN9oL774ooqKijR16lQ5nU7l5eVp3bp1wc9bW1t1+PBhnT17Nnhs9erVwb7Nzc3KycnRk08+Gfy8f//+2rBhg4qLi2VZlkaNGqVVq1Zp3rx5wT4jRozQa6+9puLiYq1du1ZXXXWVnn766W49eiZJDsvqWb2jsbFRbrdbk3W7Yhz9ezKEbX2wOuvinQDYyqjiPb09hUuqzWrVLr2ihoaGLq0598T5OOHNfUQx/eMjGquttUm+8iVG52tXZOQAAKO+zqX1voDnyAEAsDEycgCAWQHrXIt0DIRFIAcAmMX3kRtFaR0AABsjIwcAGOVQFDa7RWUmfROBHABgVi+82e2bhNI6AAA2RkYOADCK58jNIpADAMxi17pRBHIAgFEOy5IjwjXuSM/vy1gjBwDAxsjIAQBmBb5okY6BsAjkAACjKK2bRWkdAAAbIyMHAJjFrnWjCOQAALN4s5tRlNYBALAxMnIAgFG82c0sAjkAwCxK60ZRWgcAwMbIyAEARjkC51qkYyA8AjkAwCxK60YRyHtgVPGe3p4CANgHz5EbxRo5AAA2RkYOADCKd62bRSAHAJjFGrlRlNYBALAxMnIAgFmWIv8+cRLyThHIAQBGsUZuFqV1AABsjIwcAGCWpShsdovKTPokAjkAwCx2rRtFaR0AABsjIwcAmBWQ5IjCGAiLjBwAYNT5XeuRNlPq6uqUn58vl8ulhIQEFRYW6vTp0xc8p6mpSXfffbcGDx6sgQMHKi8vT7W1tcHPn332WTkcjrDt5MmTkqRdu3aF/dzv93dr/mTkAACzvuZr5Pn5+Tpx4oQqKirU2tqqgoICzZ8/X5s3b+70nOLiYr322mvatm2b3G63ioqKNGPGDL399tuSpJkzZyo3NzfknLlz56qpqUlJSUkhxw8fPiyXyxX8+aufXwyBHADwjVVTU6Py8nK98847mjBhgiTpiSee0LRp0/T4448rJSWlwzkNDQ3auHGjNm/erFtuuUWS9MwzzygtLU179uxRVlaWLrvsMl122WXBc06dOqWqqipt3Lixw3hJSUlKSEjo8T1QWgcAmHU+I4+0SWpsbAxpzc3NEU3N5/MpISEhGMQlKTs7W06nU3v37g17TnV1tVpbW5WdnR08NmbMGF199dXy+Xxhz3n++ec1YMAA3XHHHR0+S09P17Bhw/Td7343mNF3B4EcAGBWFAN5amqq3G53sC1btiyiqfn9/g6l7JiYGCUmJna6Vu33+xUbG9shi05OTu70nI0bN+oHP/hBSJY+bNgwlZWV6eWXX9bLL7+s1NRUTZ48Wfv37+/WPVBaBwDYxtGjR0PWk+Pi4sL2W7RokVasWHHBsWpqaqI6t874fD7V1NTot7/9bcjx0aNHa/To0cGfJ02apA8//FCrV6/u0PdCCOQAALOi+PiZy+UKCeSdWbhwoebOnXvBPiNHjpTH4wnuIj+vra1NdXV18ng8Yc/zeDxqaWlRfX19SFZeW1sb9pynn35a6enpysjIuOi8J06cqLfeeuui/b6MQA4AMKo3vjRl6NChGjp06EX7eb1e1dfXq7q6Ohhoq6qqFAgElJmZGfacjIwM9e/fX5WVlcrLy5N0buf5kSNH5PV6Q/qePn1aL730UpeXAA4cOKBhw4Z1qe95BHIAwDdWWlqacnNzNW/ePJWVlam1tVVFRUWaNWtWcMf6sWPHNHXqVD3//POaOHGi3G63CgsLVVJSosTERLlcLi1YsEBer1dZWVkh42/dulVtbW268847O1x7zZo1GjFihL797W+rqalJTz/9tKqqqvT73/++W/dAIAcAmPU1f478xRdfVFFRkaZOnSqn06m8vDytW7cu+Hlra6sOHz6ss2fPBo+tXr062Le5uVk5OTl68sknO4y9ceNGzZgxI+zjZS0tLVq4cKGOHTumAQMG6IYbbtDrr7+uKVOmdGv+Dsvq2W+nsbFRbrdbk3W7Yhz9ezIEAKCXtFmt2qVX1NDQ0KU15544Hyeyv3WfYvqF35TWVW3tzXr9wzVG52tXPH4GAICNUVoHAJj1NS+t2x2BHABgWBQCuQjknSGQAwDMIiM3ijVyAABsjIwcAGBWwFLEpfEAGXlnCOQAALOswLkW6RgIi9I6AAA2RkYOADCLzW5GEcgBAGaxRm4UpXUAAGyMjBwAYBaldaMI5AAAsyxFIZBHZSZ9EqV1AABsjIwcAGAWpXWjCOQAALMCAUkRvtAlwAthOkMgBwCYRUZuFGvkAADYGBk5AMAsMnKjCOQAALN4s5tRlNYBALAxMnIAgFGWFZAV4deQRnp+X0YgBwCYZVmRl8ZZI+8UpXUAAGyMjBwAYJYVhc1uZOSdIpADAMwKBCRHhGvcrJF3itI6AAA2RkYOADCL0rpRBHIAgFFWICArwtI6j591jkAOADCLjNwo1sgBALAxMnIAgFkBS3KQkZtCIAcAmGVZkiJ9/IxA3hlK6wAA2BgZOQDAKCtgyYqwtG6RkXeKQA4AMMsKKPLSOo+fdYbSOgDgG62urk75+flyuVxKSEhQYWGhTp8+fcFznnrqKU2ePFkul0sOh0P19fU9GvdPf/qT/umf/knx8fFKTU3Vr3/9627Pn0AOADDKClhRaabk5+fr4MGDqqio0I4dO/Tmm29q/vz5Fzzn7Nmzys3N1YMPPtjjcRsbG3XrrbfqmmuuUXV1tR577DEtXbpUTz31VLfm77B6uPDQ2Ngot9utybpdMY7+PRkCANBL2qxW7dIramhokMvlMnKNaMYJU/OtqanRddddp3feeUcTJkyQJJWXl2vatGn65JNPlJKScsHzd+3apSlTpuhvf/ubEhISujXub37zGz300EPy+/2KjY2VJC1atEjbt2/XoUOHunwPPV4jPx//f3t0vbH/EQAAzGhsbFRq6iuXZBNZm1ojfrFbm1olnZv3l8XFxSkuLq7H4/p8PiUkJASDrSRlZ2fL6XRq7969+t73vmdsXJ/Pp3/+538OBnFJysnJ0YoVK/S3v/1NV1xxRZeu1eNA/vnnn0uSUlNTezoEAKCXff7553K73UbGjo2Nlcfj0Vv+nVEZb+DAgR1iTmlpqZYuXdrjMf1+v5KSkkKOxcTEKDExUX6/3+i4fr9fI0aMCOmTnJwc/Mx4IE9JSdHRo0c1aNAgORyOng4DAOgFlmXp888/v2jpOBLx8fH66KOP1NLSEpXxLMvqEG86y8YXLVqkFStWXHC8mpqaqMyrt/U4kDudTl111VXRnAsA4BIylYl/WXx8vOLj441f56sWLlyouXPnXrDPyJEj5fF4dPLkyZDjbW1tqqurk8fj6fH1uzKux+NRbW1tSJ/zP3fn2jxHDgDoc4YOHaqhQ4detJ/X61V9fb2qq6uVkZEhSaqqqlIgEFBmZmaPr9+Vcb1erx566CG1traqf/9zmwErKio0evToLpfVJR4/AwB8g6WlpSk3N1fz5s3Tvn379Pbbb6uoqEizZs0KLjscO3ZMY8aM0b59+4Ln+f1+HThwQB988IEk6f/+7/904MAB1dXVdXncH/zgB4qNjVVhYaEOHjyorVu3au3atSopKeneTVgAAHyDffbZZ9bs2bOtgQMHWi6XyyooKLA+//zz4OcfffSRJcn6wx/+EDxWWlp6/kvWQ9ozzzzT5XEty7L++Mc/WjfddJMVFxdnXXnlldby5cu7Pf8eP0cOAAB6H6V1AABsjEAOAICNEcgBALAxAjkAADZGIAcAwMYI5AAA2BiBHAAAGyOQAwBgYwRyAABsjEAOAICNEcgBALCx/x9qdsLmzG04uwAAAABJRU5ErkJggg==",
      "text/plain": [
       "<Figure size 640x480 with 2 Axes>"
      ]
     },
     "metadata": {},
     "output_type": "display_data"
    }
   ],
=======
   "execution_count": null,
   "metadata": {
    "execution": {}
   },
   "outputs": [],
>>>>>>> eb2ec683c55123c5e0ee55a184cc40d1f272e801
   "source": [
    "explorer = QLearnerExplorer(gwb)\n",
    "print('GridWorld:')\n",
    "explorer.draw()\n",
    "# Compute Q, then extract policy from it.\n",
    "explorer.learnQ()\n",
    "explorer.plan()\n",
    "print('Optimal policy:')\n",
    "explorer.draw('policy')\n",
    "explorer.draw('values')"
   ]
  },
  {
   "cell_type": "markdown",
   "metadata": {},
   "source": [
    "####  Submit your feedback\n"
   ]
  },
  {
   "cell_type": "code",
<<<<<<< HEAD
   "execution_count": 70,
=======
   "execution_count": null,
>>>>>>> eb2ec683c55123c5e0ee55a184cc40d1f272e801
   "metadata": {
    "cellView": "form",
    "execution": {},
    "tags": [
     "hide-input"
    ]
   },
<<<<<<< HEAD
   "outputs": [
    {
     "data": {
      "application/vnd.jupyter.widget-view+json": {
       "model_id": "465a78779f24426dbf8bfe9eb4413ff9",
       "version_major": 2,
       "version_minor": 0
      },
      "text/plain": [
       "VBox(children=(VBox(children=(HBox(children=(Button(description='🙂', layout=Layout(height='auto', padding='0.5…"
      ]
     },
     "metadata": {},
     "output_type": "display_data"
    }
   ],
=======
   "outputs": [],
>>>>>>> eb2ec683c55123c5e0ee55a184cc40d1f272e801
   "source": [
    "# @title Submit your feedback\n",
    "content_review(f\"{feedback_prefix}_Implement_epsilon_greedy_exploration_Exercise\")"
   ]
  },
  {
   "cell_type": "markdown",
   "metadata": {
    "execution": {}
   },
   "source": [
    "---\n",
    "# Summary\n",
    "\n",
    "Reinforcement learning is important in artificial intelligence because it allows an agent to learn how to make decisions in complex environments based on trial and error. Understanding how an agent learns and the various algorithms used to facilitate this learning is crucial for developing effective RL systems.\n",
    "\n",
    "* The Gridworld environment is a commonly used testbed for RL algorithms and provides a simple yet challenging environment for agents to learn in. By mastering the Gridworld environment, researchers can apply the same principles to more complex tasks.\n",
    "\n",
    "* $Q$-values are a fundamental concept in RL, representing the expected reward an agent will receive by taking a certain action in a given state. Computing $Q$-values is essential for many RL algorithms, including $Q$-learning.\n",
    "\n",
    "* The value and policy iteration algorithms are important because they provide a way to compute optimal policies for an agent in a given environment. These algorithms help an agent make decisions leading to the greatest cumulative reward over time.\n",
    "\n",
    "* $Q$-learning is a widely used RL algorithm known for its simplicity and effectiveness. It is essential because it allows an agent to learn how to make decisions in an environment without requiring a model of the environment and can be applied to a wide range of tasks.\n",
    "\n",
    "* Finally, $\\epsilon$-greedy exploration is an important concept in RL because it helps to balance the exploration-exploitation tradeoff. Occasionally choosing a random action allows an agent to explore new areas of the environment and potentially discover better policies.\n",
    "\n"
   ]
  },
  {
   "cell_type": "markdown",
   "metadata": {
    "execution": {}
   },
   "source": [
    "---\n",
    "# Daily survey\n",
    "\n",
    "Don't forget to complete your reflections and content check in the daily survey! Please be patient after logging in as there is a small delay before you will be redirected to the survey.\n",
    "\n",
    "<a href=\"https://portal.neuromatchacademy.org/api/redirect/to/e0de4042-c7df-4b7e-a00b-b3cfc05f8d49\"><img src=\"https://github.com/NeuromatchAcademy/course-content-dl/blob/main/tutorials/static/SurveyButton.png?raw=1\" alt=\"button link to survey\" style=\"width:410px\"></a>"
   ]
  }
 ],
 "metadata": {
  "colab": {
   "collapsed_sections": [],
   "include_colab_link": true,
   "name": "W3D4_Tutorial1",
   "provenance": [],
   "toc_visible": true
  },
  "kernel": {
   "display_name": "Python 3",
   "language": "python",
   "name": "python3"
  },
  "kernelspec": {
<<<<<<< HEAD
   "display_name": "base",
=======
   "display_name": "Python 3",
>>>>>>> eb2ec683c55123c5e0ee55a184cc40d1f272e801
   "language": "python",
   "name": "python3"
  },
  "language_info": {
   "codemirror_mode": {
    "name": "ipython",
    "version": 3
   },
   "file_extension": ".py",
   "mimetype": "text/x-python",
   "name": "python",
   "nbconvert_exporter": "python",
   "pygments_lexer": "ipython3",
<<<<<<< HEAD
   "version": "3.11.3"
=======
   "version": "3.7.3"
>>>>>>> eb2ec683c55123c5e0ee55a184cc40d1f272e801
  },
  "toc-autonumbering": true
 },
 "nbformat": 4,
 "nbformat_minor": 0
<<<<<<< HEAD
}
=======
}
>>>>>>> eb2ec683c55123c5e0ee55a184cc40d1f272e801
